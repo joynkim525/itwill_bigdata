{
 "cells": [
  {
   "cell_type": "code",
   "execution_count": 1,
   "metadata": {},
   "outputs": [],
   "source": [
    "import urllib.request as req\n",
    "from selenium import webdriver\n",
    "from selenium.webdriver.common.keys import Keys\n",
    "import time\n",
    "\n",
    "from bs4 import BeautifulSoup\n",
    "\n",
    "from pandas import DataFrame, Series\n",
    "import pandas as pd\n",
    "\n",
    "import re\n",
    "\n",
    "import matplotlib.pylab as plt\n",
    "from matplotlib import font_manager, rc\n",
    "font_name = font_manager.FontProperties(fname = \"C:\\windows/fonts/malgun.ttf\").get_name() # 한글 깨짐 방지\n",
    "rc('font', family = font_name)\n",
    "\n",
    "from wordcloud import WordCloud, STOPWORDS\n",
    "import imageio"
   ]
  },
  {
   "cell_type": "code",
   "execution_count": 2,
   "metadata": {},
   "outputs": [],
   "source": [
    "browser = webdriver.Chrome('C:/chromedriver_80.exe')"
   ]
  },
  {
   "cell_type": "code",
   "execution_count": 3,
   "metadata": {},
   "outputs": [],
   "source": [
    "browser.get('https://tv.naver.com/sbs.hyena/clips')"
   ]
  },
  {
   "cell_type": "code",
   "execution_count": 4,
   "metadata": {},
   "outputs": [],
   "source": [
    "i = 1\n",
    "for i in range(1,5):\n",
    "    browser.find_element_by_xpath('//*[@id=\"cds_flick\"]/div/div[3]/div/div/div/div[2]/div[3]/a').click()\n",
    "    i += 1\n",
    "    time.sleep(3)\n",
    "    \n",
    "soup =  BeautifulSoup(browser.page_source, \"html.parser\")\n",
    "div = soup.find('div', class_=\"cds_area\")\n",
    "video_list = div.findAll('div', class_=\"cds _MM_CARD \")"
   ]
  },
  {
   "cell_type": "code",
   "execution_count": 5,
   "metadata": {},
   "outputs": [
    {
     "data": {
      "text/plain": [
       "[<div class=\"cds _MM_CARD \">\n",
       " <div class=\"cds_type\">\n",
       " <a class=\"cds_thm\" href=\"/v/13157822\" onclick=\"clickcr(this, 'chv.cthm', '', '', '');\">\n",
       " <img alt=\"[스페셜] 구멍 없는 연기 맛집! 하이에나 엔딩모음★\" data-aflag=\"false\" onerror='this.src=\"https://phinf.pstatic.net/tvcast/20161227_263/photoinfra_1482831787654EeESz_PNG/default_clip.png?type=f194_109_webp\"' src=\"https://phinf.pstatic.net/tvcast/20200401_258/Yk84s_15857374589453PUmQ_JPEG/c0c96cf5-8856-499a-ac06-88c5c6249691.jpg?type=f194_109_blend_webp\" width=\"100%\"/>\n",
       " <!-- [D]담았을때 class=\"tk_b check\" -->\n",
       " <span class=\"tm_b\">19:51</span>\n",
       " <span class=\"btn_my _click\" data-clipno=\"13157822\" data-event=\"addWatchLater\" data-login=\"false\" onclick=\"clickcr(this, 'chv.add', '', '', '');\">나중에 보기</span>\n",
       " </a>\n",
       " <dl class=\"cds_info\">\n",
       " <dt class=\"title\">\n",
       " <a href=\"/v/13157822\" onclick=\"clickcr(this, 'chv.ctitle', '', '', '');\"><tooltip>[스페셜] 구멍 없는 연기 맛집! 하이에나 엔딩모음★</tooltip></a>\n",
       " </dt>\n",
       " <dd class=\"meta\">\n",
       " <span class=\"hit\"><span class=\"blind\">재생 수</span>4,034</span>\n",
       " <span class=\"like\"><span class=\"blind\">좋아요 수</span>225</span>\n",
       " <span class=\"time\">19시간 전</span>\n",
       " </dd>\n",
       " </dl>\n",
       " </div>\n",
       " </div>,\n",
       " ...(skip)]",
      ]
     },
     "execution_count": 5,
     "metadata": {},
     "output_type": "execute_result"
    }
   ],
   "source": [
    "video_list"
   ]
  },
  {
   "cell_type": "code",
   "execution_count": 6,
   "metadata": {},
   "outputs": [],
   "source": [
    "video_info = DataFrame(columns = ['title', 'run_time', 'play', 'like', 'run_time_min'])\n",
    "for i in video_list:\n",
    "    title = i.find('dt', class_='title').text.strip()\n",
    "    run_time = i.find('span', class_='tm_b').text\n",
    "    play = i.find('span', class_='hit').text\n",
    "    like = i.find('span', class_='like').text\n",
    "    video_info = video_info.append({'title': title, 'run_time': run_time, 'play': play, 'like': like}, ignore_index = True)"
   ]
  },
  {
   "cell_type": "code",
   "execution_count": 7,
   "metadata": {},
   "outputs": [
    {
     "data": {
      "text/html": [
       "<div>\n",
       "<style scoped>\n",
       "    .dataframe tbody tr th:only-of-type {\n",
       "        vertical-align: middle;\n",
       "    }\n",
       "\n",
       "    .dataframe tbody tr th {\n",
       "        vertical-align: top;\n",
       "    }\n",
       "\n",
       "    .dataframe thead th {\n",
       "        text-align: right;\n",
       "    }\n",
       "</style>\n",
       "<table border=\"1\" class=\"dataframe\">\n",
       "  <thead>\n",
       "    <tr style=\"text-align: right;\">\n",
       "      <th></th>\n",
       "      <th>title</th>\n",
       "      <th>run_time</th>\n",
       "      <th>play</th>\n",
       "      <th>like</th>\n",
       "      <th>run_time_min</th>\n",
       "    </tr>\n",
       "  </thead>\n",
       "  <tbody>\n",
       "    <tr>\n",
       "      <th>0</th>\n",
       "      <td>[스페셜] 구멍 없는 연기 맛집! 하이에나 엔딩모음★</td>\n",
       "      <td>19:51</td>\n",
       "      <td>재생 수4,034</td>\n",
       "      <td>좋아요 수225</td>\n",
       "      <td>NaN</td>\n",
       "    </tr>\n",
       "    <tr>\n",
       "      <th>1</th>\n",
       "      <td>[메이킹] 김혜수X주지훈, 위로 싸-악♥ 눈빛이 곧 만병통치약! #5초만에_사르르</td>\n",
       "      <td>5:00</td>\n",
       "      <td>재생 수6,714</td>\n",
       "      <td>좋아요 수250</td>\n",
       "      <td>NaN</td>\n",
       "    </tr>\n",
       "    <tr>\n",
       "      <th>2</th>\n",
       "      <td>[직진 엔딩] “그저 당신이라 사랑해” 주지훈, 김혜수에 애틋 고백♥</td>\n",
       "      <td>3:57</td>\n",
       "      <td>재생 수141,741</td>\n",
       "      <td>좋아요 수1,990</td>\n",
       "      <td>NaN</td>\n",
       "    </tr>\n",
       "    <tr>\n",
       "      <th>3</th>\n",
       "      <td>[4월 3일 예고] 끝이 아니라 시작이야!</td>\n",
       "      <td>0:33</td>\n",
       "      <td>재생 수123,612</td>\n",
       "      <td>좋아요 수737</td>\n",
       "      <td>NaN</td>\n",
       "    </tr>\n",
       "    <tr>\n",
       "      <th>4</th>\n",
       "      <td>‘직진남’ 김재철, ‘대쪽녀’ 김혜수에 밑도 끝도 없는 대시!</td>\n",
       "      <td>3:13</td>\n",
       "      <td>재생 수81,111</td>\n",
       "      <td>좋아요 수447</td>\n",
       "      <td>NaN</td>\n",
       "    </tr>\n",
       "    <tr>\n",
       "      <th>...</th>\n",
       "      <td>...</td>\n",
       "      <td>...</td>\n",
       "      <td>...</td>\n",
       "      <td>...</td>\n",
       "      <td>...</td>\n",
       "    </tr>\n",
       "    <tr>\n",
       "      <th>145</th>\n",
       "      <td>[복수 시작] 주지훈, 김혜수 도발하며 반격 시작!</td>\n",
       "      <td>3:33</td>\n",
       "      <td>재생 수121,243</td>\n",
       "      <td>좋아요 수546</td>\n",
       "      <td>NaN</td>\n",
       "    </tr>\n",
       "    <tr>\n",
       "      <th>146</th>\n",
       "      <td>[3회 예고] 김혜수 VS 주지훈, 숨 막히는 쇼 타임의 시작?!</td>\n",
       "      <td>0:35</td>\n",
       "      <td>재생 수75,282</td>\n",
       "      <td>좋아요 수241</td>\n",
       "      <td>NaN</td>\n",
       "    </tr>\n",
       "    <tr>\n",
       "      <th>147</th>\n",
       "      <td>“저와 함께 하시죠” 주지훈, 김영아에 파격 제안!</td>\n",
       "      <td>3:08</td>\n",
       "      <td>재생 수38,938</td>\n",
       "      <td>좋아요 수147</td>\n",
       "      <td>NaN</td>\n",
       "    </tr>\n",
       "    <tr>\n",
       "      <th>148</th>\n",
       "      <td>이주연, 김혜수에 지현준 만행 폭로!</td>\n",
       "      <td>2:50</td>\n",
       "      <td>재생 수54,560</td>\n",
       "      <td>좋아요 수181</td>\n",
       "      <td>NaN</td>\n",
       "    </tr>\n",
       "    <tr>\n",
       "      <th>149</th>\n",
       "      <td>주지훈, 송영규 향한 이유 있는 말대답 (ft. 귀여운 티키타카)</td>\n",
       "      <td>1:34</td>\n",
       "      <td>재생 수46,942</td>\n",
       "      <td>좋아요 수351</td>\n",
       "      <td>NaN</td>\n",
       "    </tr>\n",
       "  </tbody>\n",
       "</table>\n",
       "<p>150 rows × 5 columns</p>\n",
       "</div>"
      ],
      "text/plain": [
       "                                             title run_time         play  \\\n",
       "0                    [스페셜] 구멍 없는 연기 맛집! 하이에나 엔딩모음★    19:51    재생 수4,034   \n",
       "1    [메이킹] 김혜수X주지훈, 위로 싸-악♥ 눈빛이 곧 만병통치약! #5초만에_사르르     5:00    재생 수6,714   \n",
       "2           [직진 엔딩] “그저 당신이라 사랑해” 주지훈, 김혜수에 애틋 고백♥     3:57  재생 수141,741   \n",
       "3                          [4월 3일 예고] 끝이 아니라 시작이야!     0:33  재생 수123,612   \n",
       "4               ‘직진남’ 김재철, ‘대쪽녀’ 김혜수에 밑도 끝도 없는 대시!     3:13   재생 수81,111   \n",
       "..                                             ...      ...          ...   \n",
       "145                   [복수 시작] 주지훈, 김혜수 도발하며 반격 시작!     3:33  재생 수121,243   \n",
       "146           [3회 예고] 김혜수 VS 주지훈, 숨 막히는 쇼 타임의 시작?!     0:35   재생 수75,282   \n",
       "147                   “저와 함께 하시죠” 주지훈, 김영아에 파격 제안!     3:08   재생 수38,938   \n",
       "148                           이주연, 김혜수에 지현준 만행 폭로!     2:50   재생 수54,560   \n",
       "149           주지훈, 송영규 향한 이유 있는 말대답 (ft. 귀여운 티키타카)     1:34   재생 수46,942   \n",
       "\n",
       "           like run_time_min  \n",
       "0      좋아요 수225          NaN  \n",
       "1      좋아요 수250          NaN  \n",
       "2    좋아요 수1,990          NaN  \n",
       "3      좋아요 수737          NaN  \n",
       "4      좋아요 수447          NaN  \n",
       "..          ...          ...  \n",
       "145    좋아요 수546          NaN  \n",
       "146    좋아요 수241          NaN  \n",
       "147    좋아요 수147          NaN  \n",
       "148    좋아요 수181          NaN  \n",
       "149    좋아요 수351          NaN  \n",
       "\n",
       "[150 rows x 5 columns]"
      ]
     },
     "execution_count": 7,
     "metadata": {},
     "output_type": "execute_result"
    }
   ],
   "source": [
    "video_info"
   ]
  },
  {
   "cell_type": "code",
   "execution_count": 8,
   "metadata": {},
   "outputs": [
    {
     "data": {
      "text/plain": [
       "\"[스페셜] 구멍 없는 연기 맛집! 하이에나 엔딩모음★[메이킹] 김혜수X주지훈, 위로 싸-악♥ 눈빛이 곧 만병통치약! #5초만에_사르르[직진 엔딩] “그저 당신이라 사랑해” 주지훈, 김혜수에 애틋 고백♥ ...(skip)...\""
      ]
     },
     "execution_count": 8,
     "metadata": {},
     "output_type": "execute_result"
    }
   ],
   "source": [
    "title_text = ''\n",
    "for i in range(len(video_info)):\n",
    "    title_text += video_info['title'][i]\n",
    "title_text"
   ]
  },
  {
   "cell_type": "code",
   "execution_count": 9,
   "metadata": {},
   "outputs": [
    {
     "data": {
      "text/plain": [
       "'스페셜 구멍 없는 연기 맛집 하이에나 엔딩모음메이킹 김혜수X주지훈 위로 싸악 눈빛이 곧 만병통치약 5초만에_사르르직진 엔딩 그저 당신이라 사랑해 주지훈 김혜수에 애틋 고백 ...(skip)...'"      
      ]
     },
     "execution_count": 9,
     "metadata": {},
     "output_type": "execute_result"
    }
   ],
   "source": [
    "re.sub('[-=+,#/\\?:^$.@*\\\"※~&%ㆍ!』\\\\‘|\\(\\)\\[\\]\\<\\>`\\'…》♥♡★☆♨↗“”’＂＂]', ' ', title_text)"
   ]
  },
  {
   "cell_type": "code",
   "execution_count": 10,
   "metadata": {},
   "outputs": [],
   "source": [
    "from konlpy.tag import Okt\n",
    "import nltk\n",
    "okt = Okt()"
   ]
  },
  {
   "cell_type": "code",
   "execution_count": 11,
   "metadata": {
    "scrolled": true
   },
   "outputs": [],
   "source": [
    "keyword = okt.nouns(title_text) # extract nouns\n",
    "kw_txt = nltk.Text(keyword) # make one string"
   ]
  },
  {
   "cell_type": "code",
   "execution_count": 12,
   "metadata": {},
   "outputs": [],
   "source": [
    "import matplotlib.pylab as plt\n",
    "from matplotlib import font_manager, rc\n",
    "font_name = font_manager.FontProperties(fname = \"C:\\windows/fonts/malgun.ttf\").get_name() # 한글 깨짐 방지\n",
    "rc('font', family = font_name)"
   ]
  },
  {
   "cell_type": "code",
   "execution_count": 13,
   "metadata": {},
   "outputs": [
    {
     "data": {
      "image/png": "iVBORw0KGgoAAAANSUhEUgAAAtAAAAHGCAYAAABdMLyHAAAABHNCSVQICAgIfAhkiAAAAAlwSFlzAAALEgAACxIB0t1+/AAAADh0RVh0U29mdHdhcmUAbWF0cGxvdGxpYiB2ZXJzaW9uMy4xLjMsIGh0dHA6Ly9tYXRwbG90bGliLm9yZy+AADFEAAAgAElEQVR4nOzdeZwcdZ3/8fdnJjOZGa4QSCAESDjDLTKRSzGBFUVYZUWWdXU9UAFldVVQ8Ph54I2g4qoou+yKqHiAqARckStBbibKIWBCgHAFcgCBwCSZzMzn98e3qqfSUz3TPUxXd5Wv5+Mxj2S6q+r76Z7uqk9961Pfr7m7AAAAAFSnpdEBAAAAAHlCAg0AAADUgAQaAAAAqAEJNAAAAFADEmgAAACgBhMaHUCttt56a585c2bm7a5du1adnZ11Xafey9NGvmPKoo1mjKkobTRjTEVpoxljKkobzRhTFm00Y0xFaSOLmMbLwoULV7n7lNQn3T1XP93d3d4IPT09dV+n3svTRv2WL0obzRhTUdpoxpiK0kYzxlSUNpoxpizaaMaYitJGFjGNF0k9XiEfpYQDAAAAqAEJNAAAAFADEmgAAACgBiTQAAAAQA1IoAEAAIAakEADAAAANSCBBgAAAGpAAg0AAADUgAQaAAAAqAEJNAAAAFADEmgAAACgBiTQAAAAQA1IoAEAAIAakEADAAAANSCBrsKv7nxc8x9dq1Uvrm90KAAAAGiwCY0OoNm5u867drGWPb9O373jWu07fQvNnTVFc2dN0f47bKnWFmt0iAAAAMgQCfQo+gdd7z9sZ11x5xLd/0y/7n3yed375PP67vVLtEVnm16z29aau/sUzZk1RVM362h0uAAAAKizuiTQZjZF0kclDbr7Z81slqTzJXVIusXdPxEt9yVJr43iONnd76tHPC9HW2uL3vuanfSKzme1177767aHn9GCxSs1f9EKLX2mV1fd85SuuucpSdLe222uubOmaM7uU3XAjpMaHDkAAADqoV490N+UtERSV/T7eZLe5+5LzexSMztIUrukbdx9jpntI+kcSUfXKZ5x0dneqsP3mKrD95gqaW8tXfWS5i9aoQWLV+rWh5/Rfcte0H3LXtD3b3hIW3S26SOv2lTdjQ4aAAAA48rcvT4bNpsr6ShJ/0/SNe5+ePT42yRtK2krSde7+w3R47e5+8EVtnWypJMladq0ad3z5s2rS8wj6e3tVVdXV8Xn1w+47l/Zp788vV53PLlOK3sHdeSMNn3gwK3GrY2Xuzxt5DumLNpoxpiK0kYzxlSUNpoxpqK00YwxZdFGM8ZUlDayiGm8zJ49e6G7z0590t3r8iNprqSvS5om6bLE40dKOkvSBZL2STx+k6SW0bbb3d3tjdDT01P1sr+441GfceaVfuIPrqtbG2NZnjbqt3xR2mjGmIrSRjPGVJQ2mjGmorTRjDFl0UYzxlSUNrKIabxI6vEK+WgWNxGulpQsCN5S0kpJndH/Y4PuPphBPHXX0dYqKfRKAwAAoFjqPg60u6+VNNHMpkcPHSfpOkl/knS8JJnZXpKeqHcsWemME+h+EmgAAICiyWoYu9MkXWZm6yVd4e4PmNkiSUeb2Z8krZF0Skax1F1Xe3hb6YEGAAAonrol0O4+X9L86P93Sjqk7PlBSR+sV/uN1NkeOvb7SKABAAAKh6m866CDEg4AAIDCIoGug7gGeh090AAAAIVDAl0Hne0hge6jBxoAAKBwSKDroKuNmwgBAACKigS6DjqimwhJoAEAAIqHBLoO2ltb1GJS/6DUP1CIuWEAAAAQIYGuAzMr3Ui4dsNAg6MBAADAeCKBrpPOaDIVEmgAAIBiIYGuk3gylXV9lHAAAAAUCQl0ncQlHL0b+hscCQAAAMYTCXSdlGqg+yjhAAAAKBIS6DqJJ1OhBhoAAKBYSKDrpDSdNwk0AABAoZBA10ncA91LCQcAAEChkEDXSQc10AAAAIVEAl0nXe2UcAAAABQRCXSdMBMhAABAMZFA10lpHGhKOAAAAAqFBLpOOhjGDgAAoJBIoOukKx7Gjh5oAACAQiGBrhMmUgEAACgmEug66aAGGgAAoJBIoOuEmQgBAACKiQS6TrraJ0iihAMAAKBoSKDrpLM9vLXMRAgAAFAsJNB1UprKe8NggyMBAADAeCKBrpPSTIR9/Q2OBAAAAOOJBLpOGMYOAACgmEig66SrLbqJkBpoAACAQiGBrpOO6CbCddRAAwAAFAoJdJ20t7aoRVLfwKD6B0iiAQAAioIEuk7MTO0TTBJ10AAAAEVCAl1HHa0k0AAAAEVDAl1HcQ/0uj5KOAAAAIqCBLqOJkY90L0bGAsaAACgKEig6yhOoBnKDgAAoDhIoOtoIjcRAgAAFA4JdB3FPdDrSKABAAAKgwS6jiaGyQjVSwkHAABAYZBA1xE10AAAAMVDAl1HcQ00JRwAAADFQQJdRxOZSAUAAKBwSKDrqD0eB5oSDgAAgMIgga4jhrEDAAAoHhLoOuqIh7GjBxoAAKAwSKDrqJ0eaAAAgMIhga6joZsIBxscCQAAAMYLCXQdDY0D3d/gSAAAADBeSKDriJsIAQAAiocEuo6YiRAAAKB4SKDraKgHmhpoAACAoiCBriNqoAEAAIqHBLqOmMobAACgeEig66hUwkENNAAAQGGQQNdR3AO9jhpoAACAwiCBrqMJLVKLSX0Dg+ofIIkGAAAoAhLoOjIzdba1SqIOGgAAoChIoOuss32CJBJoAACAoiCBrrPO9vAWr+ujhAMAAKAISKDrLC7h6N3AWNAAAABFQAJdZ6UaaIayAwAAKAQS6DrrbOcmQgAAgCLJNIE2s9PMbIGZ3WxmrzSzWWZ2XfT7OVnGkpW4B3odCTQAAEAhTMiqITObJOnNkuZK2kXSt6P23+fuS83sUjM7yN1vzyqmLMQ90L2UcAAAABRClj3QA1F77ZK2lrRSUoe7L42e/7WkQzKMJxMd1EADAAAUirl7do2ZfVnS2yVtKumtkj7i7sdHzx0p6TXu/vmU9U6WdLIkTZs2rXvevHmZxRzr7e1VV1dXzev89G8bdPVDa3XSKzfXUbuOvH6tbYw1JtrIZ0xZtNGMMRWljWaMqShtNGNMRWmjGWPKoo1mjKkobWQR03iZPXv2Qnefnfqku2fyI+kYSWdLMkmTJd0g6brE8ydI+tBo2+nu7vZG6OnpGdM6X77yPp9x5pV+wYIl497GWGOijfFfvihtNGNMRWmjGWMqShvNGFNR2mjGmLJooxljKkobWcQ0XiT1eIV8NMsSjhmSlkcBvSBpM0mTzWx69Pxxkq7LMJ5MDA1jx0QqAAAARZDZTYSSLpL0v2a2QNJESRdIukvSZWa2XtIV7v5AhvFkoqOdiVQAAACKJLME2t17Jb0t5anC3TiYVBrGjpsIAQAACoGJVOqsi4lUAAAACoUEus5Kw9htoAYaAACgCEig62zoJkJqoAEAAIqABLrOOinhAAAAKBQS6Dor1UBzEyEAAEAhkEDXGTXQAAAAxUICXWfUQAMAABQLCXSdUQMNAABQLCTQddbVFuaqoQYaAACgGEig66yjPbzF66iBBgAAKAQS6Dprb21Ri0l9A4PqHyCJBgAAyDsS6Dozs6EbCamDBgAAyD0S6Ax0tkd10CTQAAAAuUcCnYHOuA66jxIOAACAvCOBzkBcwtG7gbGgAQAA8o4EOgNDk6lQwgEAAJB3JNAZYDIVAACA4iCBzkDcA72OBBoAACD3SKAzEPdA91LCAQAAkHsk0BnooAYaAACgMEigM0AJBwAAQHGQQGegi5sIAQAACoMEOgNDw9gxkQoAAEDekUBnoKOdiVQAAACKggQ6A6UaaG4iBAAAyD0S6AxQAw0AAFAcJNAZKA1jt4EaaAAAgLwjgc7A0E2E1EADAADkHQl0Bjop4QAAACgMEugMlGqguYkQAAAg90igM0ANNAAAQHGQQGeAGmgAAIDiIIHOADXQAAAAxUECnYGutgmSqIEGAAAoAhLoDHS0h7d5HTXQAAAAuUcCnYH21ha1mNQ3MKj+AZJoAACAPCOBzoCZDd1ISB00AABArpFAZ6SzPaqDJoEGAADINRLojHTGddB9lHAAAADkGQl0RuISjt4NjAUNAACQZyTQGRmaTIUSDgAAgDwjgc4Ik6kAAAAUAwl0RuIe6HUk0AAAALlGAp2RUg80NxECAADkGgl0Rjrimwj7uIkQAAAgz0igM0IJBwAAQDGQQGeki5sIAQAACoEEOiNDw9hRAw0AAJBnJNAZ6WhnIhUAAIAiIIHOSKkGmolUAAAAco0EOiPUQAMAABQDCXRG4mHs1m6gBhoAACDPSKAzMnQTITXQAAAAeUYCnZFOSjgAAAAKgQQ6I6UaaG4iBAAAyDUS6IxQAw0AAFAMJNAZoQYaAACgGEigM0INNAAAQDGQQGekq22CJGqgAQAA8o4EOiMd7eGtXkcNNAAAQK6RQGekvbVFLSb1DQyqf4AkGgAAIK9IoDNiZkM3ElIHDQAAkFsk0BnqbI/qoEmgAQAAcivTBNrMDjSzG83sZjM7w8xmmdl10e/nZBlLI3TGddB9lHAAAADk1YSsGjKzNkmfk3Ssuz8XPfZ/kt7n7kvN7FIzO8jdb88qpqxRwgEAAJB/5u7ZNGT2ZklvkLSLpDZJn5J0trsfHj3/Nknbuvt5KeueLOlkSZo2bVr3vHnzMok5qbe3V11dXS9rnTOvfUZLntugrx0xWbtv1f6y2xiPmGgjPzFl0UYzxlSUNpoxpqK00YwxFaWNZowpizaaMaaitJFFTONl9uzZC919duqT7p7Jj6TTJf1codd7pqRHJF2WeP5ISWeNtp3u7m5vhJ6enpe9zgk/vMVnnHml37xk5bi0MR4x0cb4LF+UNpoxpqK00YwxFaWNZoypKG00Y0xZtNGMMRWljSxiGi+SerxCPpplDXS/pD+6e7+7L5X0rKQtE89vKWllhvFkriuajXAdJRwAAAC5lWUCfaukN0qSmW0jaY2kdjObHj1/nKTrMownc6XpvLmJEAAAILcyu4nQ3e8ws0VmdrNCb/RpCgn8ZWa2XtIV7v5AVvE0Qkd0E2FvX3+DIwEAAMBYZZZAS5K7f1bSZ8sePiTLGBopHoWDEg4AAID8YiKVDMU10AxjBwAAkF8k0BkqjQNNDTQAAEBukUBnqCPqge7dQA00AABAXpFAZ6hUA91HCQcAAEBekUBniBpoAACA/COBzlA8jN3aDdRAAwAA5BUJdIaGbiKkBhoAACCvSKAz1EkJBwAAQO6RQGeoVAPNTYQAAAC5VVUCbWYHRv9ONLN/N7Nd6htWMVEDDQAAkH/V9kB/K/r3I5I2SPpBfcIpNmqgAQAA8q/aBNrMrEPSNHf/L0ltdYypsKiBBgAAyL9qE+gfSbpe0oVRIr26fiEVV1fbBEnUQAMAAOTZhCqXW+Luh8a/mNk36xRPoXW0h/OVddRAAwAA5NaIPdAWTJT0BTNrM7N2M9tc0nezCa9Y2ltb1GJS38Cg+gdIogEAAPJotB7oQyV9WdIrJF0tyST1S7qovmEVk5mps61VL/UNaO2GAW3WyiiCAAAAeTNiAu3uN0s63Mw+7e5fzSimQutsTyTQHdyLCQAAkDfV1kCfY2bHSJqs0Astd7+4blEVWDwSx7o+SjgAAADyqNoE+ipJ90v6mySvXzjFVxoLmqHsAAAAcqnaBLrD3T9a10j+TsQJdC+TqQAAAORStXexzTez3esayd+JDnqgAQAAcq3aHugjJb3dzFZGv3tyXGhUryuugSaBBgAAyKWqEmh3P6Tegfy9KE3nzU2EAAAAuVRVAm1m7yp/jFE4xqaDGmgAAIBcq7YGujPxs6+ko+oWUcHFNxFSwgEAAJBP1ZZwXJD83cw+U59wii+ugeYmQgAAgHyqeS5pM5uo0AuNMSiNA00NNAAAQC5VWwN9q8IEKiapX9K59QyqyDqiHujeDdRAAwAA5BGjcGSsVAPdRwkHAABAHlVVwmFmM83sUjO72cwuNrOp9Q6sqKiBBgAAyLdqa6AvkHS2u79a0ncknV+/kIptaCZCaqABAADyqNoEut3deyTJ3RdKmlS/kIpt6CZCaqABAADyqNoE2s1ssiRF/06sX0jF1kkJBwAAQK5VdROhpM9IutrMnpS0g6SP1i+kYivVQHMTIQAAQC6N2ANtZheaWZu73+rur5L0fkmvlXRMJtEVEDXQAAAA+TZaD/Ru7r4h/sXdV0mSmc2ua1QFRg00AABAvo1WA91e4fFqSz9QhhpoAACAfBstgV5kZoclHzCzvSU9X7+Qiq2rLZx7UAMNAACQT6P1JH9c0m/N7FpJd0naVdK/SnpbvQMrqo72cM6yjhpoAACAXBqxBzqqeZ4r6V5Je0haJmmuuz9Y/9CKqb21RS0m9Q0Mqn+AJBoAACBvRq1ldvd+Sb/OIJa/C2amzrZWvdQ3oLUbBrRZa7VDcQMAAKAZkL01ADcSAgAA5BcJdAPECfS6Pko4AAAA8oYEugFKY0HTAw0AAJA7JNANECfQvUymAgAAkDsk0A3QQQ80AABAbpFAN0BXXANNAg0AAJA7JNANUBqFg5sIAQAAcocEugE6qIEGAADILRLoBohvIqSEAwAAIH9IoBugi4lUAAAAcosEugFK40BTAw0AAJA7JNAN0BH1QPduoAYaAAAgb0igG6BUA91HCQcAAEDekEA3ADXQAAAA+UUC3QBDMxFSAw0AAJA3JNANMHQTITXQAAAAeUMC3QCdlHAAAADkFgl0A5RqoLmJEAAAIHdIoBuAGmgAAID8IoFuAKbyBgAAyC8S6AaIa6B7uYkQAAAgdxqSQJvZn83sKDPb1syuNLM/mdlFZtbWiHiyNjQKBz3QAAAAeZN5Am1mx0vaIvr1K5K+6u6HSVop6bis42mEuAd6HTXQAAAAuZNpAm1mm0l6p6SfRQ/Ncvdbov//WtIhWcbTKO2tLWoxqW9gUP0DJNEAAAB5Yu6eXWNmP5J0vqRjJN0m6XPufmj03G6S/p+7vztlvZMlnSxJ06ZN6543b15mMcd6e3vV1dU1buu84zfLta7f9ZN/mqqutpYxtTHeMdFGc8eURRvNGFNR2mjGmIrSRjPGVJQ2mjGmLNpoxpiK0kYWMY2X2bNnL3T32alPunsmP5LeIems6P9fkHSUpFsTzx8o6dzRttPd3e2N0NPTM67rdH/pjz7jzCt9+Qtrx9zGeMdEG2NfvihtNGNMRWmjGWMqShvNGFNR2mjGmLJooxljKkobWcQ0XiT1eIV8dEIGCXzs7ZJ6zewXkvaRNFfS02Z2gLv/WdJbJV2bYTwNVaqD7qOEAwAAIE8yS6Dd/Zj4/2b2BYUSjgcl/a+ZDUq6U9LVWcXTaKWROBgLGgAAIFey7IEucfcvJH6d04gYGi1OoBkLGgAAIF+YSKVBOuiBBgAAyCUS6Abpamc6bwAAgDwigW6Q+CbCtdxECAAAkCsk0A3SQQ00AABALpFAN0h8EyElHAAAAPlCAt0gcQ00NxECAADkCwl0g5TGgaYGGgAAIFdIoBukI+qB7t1ADTQAAECekEA3SKkGuo8SDgAAgDwhgW4QaqABAADyiQS6QYZmIqQGGgAAIE9IoBtk6CZCaqABAADyhAS6QTop4QAAAMglEugGGeqBJoEGAADIExLoBhnqgaYGGgAAIE9IoBuEqbwBAADyiQS6QeIe6F5uIgQAAMgVEugGoQYaAAAgn0igGyTugV5HDTQAAECukEA3SHtri1pM6hsYVP8ASTQAAEBekEA3iJkNlXFwIyEAAEBukEA3EJOpAAAA5A8JdAOV6qD7KOEAAADICxLoBqKEAwAAIH9IoBsoTqAZCxoAACA/SKAbqIMeaAAAgNwhgW6grnam8wYAAMgbEugGKo3CwU2EAAAAuUEC3UAd1EADAADkDgl0A8U3EVLCAQAAkB8k0A3UxUQqAAAAuUMC3UClcaCpgQYAAMgNEugG6oh6oHs3UAMNAACQFyTQDVSqge6jhAMAACAvSKAbiKm8AQAA8ocEuoFK40BvoAYaAAAgL0igG2joJkJ6oAEAAPKCBLqBhnqguYkQAAAgL0igG4geaAAAgPwhgW4gaqABAADyhwS6gZjKGwAAIH9IoBso7oHu7aMGGgAAIC9IoBuIGmgAAID8IYFuoLgHeh010AAAALlBAt1A7a0tajGpb2BQ/QMk0QAAAHlAAt1AZsZ03gAAADlDAt1gQ0PZkUADAADkAQl0g5XqoPso4QAAAMgDEugGo4QDAAAgX0igGyxOoBkLGgAAIB9IoBusgx5oAACAXCGBbrCudqbzBgAAyBMS6AYrjcLBTYQAAAC5QALdYB3UQAMAAOQKCXSDxTcRUsIBAACQDyTQDdbFRCoAAAC5QgLdYKVxoKmBBgAAyAUS6AbriHqgezdQAw0AAJAHJNANVqqB7qOEAwAAIA9IoBuMqbwBAADyhQS6wUrjQG+gBhoAACAPSKAbbOgmQnqgAQAA8oAEusGGeqC5iRAAACAPJmTVkJlNkvRDSdsqJO7vltQu6XxJHZJucfdPZBVPs9i4B7qtscEAAABgVJkl0JK6JJ3m7svM7BhJH5e0s6T3uftSM7vUzA5y99szjKnhqIEGAADIF3P37Bs1O1TS8ZJe6e6HR4+9TdK27n5eyvInSzpZkqZNm9Y9b968LMOVJPX29qqrq2vc11m2pl8f/sMqTdu0Vd+Ys0lNbdQrJtpozpiyaKMZYypKG80YU1HaaMaYitJGM8aURRvNGFNR2sgipvEye/bshe4+O/VJd8/0R9J0SZdH/16WePxISWeNtn53d7c3Qk9PT13WWba612eceaUf+JVram6jXjHRRnPGlEUbzRhTUdpoxpiK0kYzxlSUNpoxpizaaMaYitJGFjGNF0k9XiEfzbKEQ2b2j5LeJOkkSb2SJiWe3lLSyizjaQaMwgEAAJAvmY3CYWb7SXqTu5/i7s+4+1pJE81serTIcZKuyyqeZhHXQK+jBhoAACAXsuyBPkrSYWY2P/r9MUmnSbrMzNZLusLdH8gwnqbQ3tqiFpP6BgY1MJh9PToAAABqk1kC7e7fkPSNlKcOySqGZmRm6mxr1Ut9A1o/QAINAADQ7JhIpQnEZRwk0AAAAM2PBLoJlBLofhJoAACAZkcC3QTikTj66IEGAABoeiTQTSBOoNfRAw0AAND0SKCbQEcbNdAAAAB5QQLdBLraKeEAAADICxLoJjB0E2GDAwEAAMCoSKCbQFzCsW6A2QgBAACaHQl0EyiNwkEPNAAAQNMjgW4CndxECAAAkBsk0E2gi5kIAQAAcoMEugl0MBMhAABAbpBANwFKOAAAAPKDBLoJlBJoeqABAACaHgl0E+ikBhoAACA3SKCbQGkYOxJoAACApkcC3QTiHuh1lHAAAAA0PRLoJkAPNAAAQH6QQDeBToaxAwAAyA0S6CbAMHYAAAD5QQLdBOiBBgAAyA8S6CZADzQAAEB+kEA3gc72VplJvRtc196/vNHhAAAAYAQk0E1g4oRW/dtBM+SSTv5Jj/73pkfkTm80AABAMyKBbhJfPHZv/cvem2rQpS9eeb8+97v71D8w2OiwAAAAUIYEukmYmU7Ya1N95237q721RT+57VG978c9WrNuQ6NDAwAAQAIJdJM5dv/puuSkgzR5k3YtWLxSx//gVj3xXG+jwwIAAECEBLoJzZ45Wb859VDtMmUTLVq+Rv/0/Vt01+OrGx0WAAAARALdtGZstYku/+CrdeguW2nVi+v1Lxfcqt/f+1SjwwIAAPi7RwLdxLboatOP33ug/mX2DlrfP6hTf/ZnnT9/CSN0AAAANBAJdJNra23R19+6rz71xj1kJn3jD4t05q/vUV8/I3QAAAA0woRGB4DRmZlOmbOLZmzVpY/+8i79qucJPf7sWn1g39ZGhwYAAPB3hwQ6R47aZ5p+uUWn3n9xj259+Bk9tLxVByxZWNM2nlv9nLa8v/p1al1+LOsMrn1ex018Sq/edWtt1tFWU1sAAABZI4HOmVfsMEm//fdX630X3am/Pb1Gf7jv6do38mSN69S6/BjW+ePDf9aEFlP3jC01d9ZUzdl9ivactpnMrPa2AQAA6ogEOoemT+rUb059tS6++jbtOHPnmtZ96OGHtcvO1a9T6/K1ruOSbrp7sR58sU1/fmy1bn/kWd3+yLM6+w9/0zabT9Sc3ado7qypevWuW2uLTnqnAQBA45FA51Rne6tmb9eh7n2n1bTewr5lNa1T6/JjWWebvmXq7u7W870bdNOSVZq/aIUWLF6p5S+s1696ntCvep5Qa4vpgB0nlZLpZWv6NXnVS1W3Ue/lx7LO6nUDNW0fAAA0BxJoNI0tutp0zH7TdMx+0+TueuCpNZq/eIXmL1qpPz/6nO5cGn7OuXpRWOEP82troN7Lj2GdWXfcqLmzpmjOrCmaPWOy2icwMA4AAM2OBBpNycy013aba6/tNtepc3fVC+s26JYlqzR/0UotfPQ5reldq46JE6ve3rr16+u6/FjWeXr1Wi1avkaLlq/RBTc+rE3aW3Xorltr7qxQtjJ9UmdN7QMAgGyQQCMXNu9o01H7TNNR+4TSkIULF6q7u7vq9eu9/FjWue2OHg1MnqkFi1dq/qIVWrz8RV1z/3Jdc/9ySdKuUzfV3KgG/FU7bamJExi2EACAZkACDTRIW6vp4F231qt33VqfPnpPPbl6rRYsCsn0zUtWacmKF7VkxYu68KZH1NnWqoN3nixb/6K2evjuqtt45pnn67q8JLWue1ETpq7WvtO3UEsLo6YAAIqPBBpoEtMndertB+2otx+0o/r6B7Xw0ec0f/EKLVi0Un97eo1uWLQyLLj0ido2XO/lJf3ivpu11Sbteu3uUzR31hQdttsUTd6kvebtAACQByTQQBNqn9CiQ3bZSofsspU+9cY99fTz63T7I89o0ZKHNXPGzKq3s/TRpXVdftBd19+1RPc9Kz25eq1+85cn9Zu/PCkzab/tJ0UlKFO03/aT1ErvNACgIEiggRzYdosOHbv/dC0ceFrd3TtUvd7ClhV1XV6SdmtdqQMOOEAPrXxR8xet1PxFK3XHI8/q7sdX6+7HV+s71z2oLbvadN5EXwIAACAASURBVNhuIZnu6h3QqhfX19TG8+tqW6fW5ceyzoYBr2n7AIDiIIEG8LKZmXadupl2nbqZ3n/Yzurt69etDz0TEurFK/T4s2t1xd3LdMXdy8IKV11beyPzalyn1uVrXKe9VXr1fXeUZs6cufUmtbcHAMglEmgA466rfYL+Yc9t9A97biN31yOrXoqS6ZW659Fn1Dqhtl3Phv5+tdWwTq3L17qOS3r2pT7dsGhlqTZ95lZdIZmeNUWH7LyVOtoYNQUAiooEGkBdmZl2nrKpdp6yqd77mp0yGSIwizauvekOPdcxTfMXr9SfFq/U0md6ddEtS3XRLUs1cUKLDtp5q1IN+E70TgNAoZBAA8AYbNnZqtd176B/nr2D+gcGdfcTq0s14Pc++bxuXLxSNy5eqS9eKe04uUu7b+Ga8dT9NbWxfPkL+n0N69S6/FjW6V39olqjYQu5MRTA3ysSaAB4mSa0tqh7xmR1z5is018/S6teXK8bF4dk+sYHV+qxZ3v12LOSHnmk9o0/WOM6tS4/hnV+/tebNXmTdh22W5g587W7TdFWm9Y2cycA5BkJNACMs603najjDthexx2wvQYGXfc8sVrzbrlX203fvqbtPP7EE9ph++rXqXX5saxzxwNLS8MW/u6uZfrdXcvCsIXTt9Cc3adozqyp2n8Hhi0EUGwk0ABQR60tplfuuKUGV26i7u6da1p34cLnalqn1uXHss4ru56Lhi18SfMXrdCCxSt1+8PP6u4nntfdTzyv/7x+iSZFwxbO2X2KXrvb1tow4FrfP1B1G/VenjbyHZOJkzM0Hgk0AKAmYdjCTbXr1E1Lwxbe9vAzpRrwx57t1by7l2lePGyhJF3+h9oaqffytFG/5TNoY8fNJ+iNyx/QnFlTNHvGZLVPaKmtPeBlIoEGALwsXe0TdMQe2+iIPcKwhUuf6dX8RSs0f9FK9Sx9Vuv7B9Ri1Sc4gz5Y1+VpI98x9Q8O6rEX+nXBjQ/rghsf1ibtrTp011CPP3fWVE2f1FlTvMBYkEADAMaNmWmnrTfRTlvvpBNfvZOk+g9DWJShEZuxjWaMqa9/UJdcc5uW+Zaav2iFFi9/Udfcv1zX3L9ckrTb1E01Z/eQTL9qpy01cQJjsmP8kUADAIDcaJ/Qon2nTtR7uvfUp4/eU8tWr9WCxSs1f9EK3bzkGT244kU9uOJFXXjTI+pqb9Whu2ylLe0l/em5xVW38dSyF2tafizr/L22MZaYXlj1kmo8j6s7EmgAAJBb203q1L8euKP+9cAdtWFgUAsffS6qx1+hvz29Rtc+sCIseP+DtW241uVpo27Lb7NJqz5XWwt1RwINAAAKoa21RQfvvJUO3nkrffKNe2j5C+u0YPFK3Xn/Q5o2bbuqt/PUU8tqWn4s6/y9tjGWmNaserqm5bNAAg0AAAppm807dMLsHbSLrVB39+5Vr7dw4Zqalh/LOn+vbYw1pmbDuC8AAABADUigAQAAgBqQQAMAAAA1IIEGAAAAakACDQAAANSABBoAAACoQVMk0Gb2JTNbYGY3m9nejY4HAAAAqKThCbSZHSZpG3efI+kUSec0OCQAAACgInP3xgZg9iVJ17v7DdHvt7n7wWXLnCzpZEmaNm1a97x58zKPs7e3V11dXXVdp97L00a+Y8qijWaMqShtNGNMRWmjGWMqShvNGFMWbTRjTEVpI4uYxsvs2bMXuvvs1CfdvaE/ki6QtE/i95sktVRavru72xuhp6en7uvUe3naqN/yRWmjGWMqShvNGFNR2mjGmIrSRjPGlEUbzRhTUdrIIqbxIqnHK+SjDS/hkPS8pC0Tvw+6+2CjggEAAABG0gwJ9J8kHS9JZraXpCcaGw4AAABQ2YRGByDpKklHm9mfJK1RuJEQAAAAaEoNT6Cjco0PNjoOAAAAoBrNUMIBAAAA5EbDh7GrlZmtlPRoA5reWtKqOq9T7+Vpo37LF6WNZoypKG00Y0xFaaMZYypKG80YUxZtNGNMRWkji5jGywx3n5L6TKXhOfgZNtxexaFMxmudei9PG/mOided7zaaMaaitNGMMRWljWaMided7zayiCmLH0o4AAAAgBqQQAMAAAA1IIGu3n9lsE69l6eN+i1flDaaMaaitNGMMRWljWaMqShtNGNMWbTRjDEVpY0sYqq73N1ECAAAADQSPdAAAABADUigAQAAgBqQQAMAAAA1IIEGMmJmRyf/BQAgr8zs9Y2OoZFIoOvEzF43xvXq/oGstY2xvpZGMrNj67z9LcxsjxpX+2jZvzKzVjPbdPwiq42ZTTWzmWNc94PjG82w7R8/xvVy93l9OcxsWzPbr9Fx5IGZvaOGZdvG8r6a2cm1rjMWL+dYUc13pN7HokZ8bsfymiwY1320mbWY2UE1rlPrcXs/M9unhuW3MrOda2lD0ifLtjGtxvVHZGa7mtmu47nN8TSh0QHkgZm9zt2vHeH597v7hWZmPjSsyRmSro2e39vd76uyuU9K+uPLi3hYfDu7+8MjtWFmO0na3d2vLnsdUuK1vMw4jpD0TkmVhn4xSe7u700sf3DZMqsl/UAhCe2Q9E1370vZ1kck/a6KmD4mabO059z9i9Ey33L308qe3kbSayX9LWWbe7n7/WVtHC2pxcyuif79o6SvSvqapH4z+467XzZavCO8jrdK2qTC67g4WuZT7v61sqd3lbS9pKWjvY4URyr8LSrF9DpJU8se/oukV0ZxXWJmH3X38yps4gRJo74nZvaP7n5llHD3qOzzambT3P2pKrbzencf1+9etcysW9IbRlvO3b+a8vDOCt+Te8q2eZC73x79f5akUQ/Y8WdlhDjf7+4XVnhuR0mf1fDv9xoNfcdWufunR4tjhPZ3k/Sq0ZZz90sqPPVWST+rsrlOSa9T2fsaxbGvu99bYb3XqQ5DbpnZBEmD7j4YPVTTscLMPi/pbHdfpwr79MR36QxJR9Wy/cQ2DnX3W6pYtJrPbc37ZzNrGVrE3cwOcPc/R4+lHft2kPRebfy5fUTSIe5+qqQ9JB0r6euJdY5Q2G+mxRXvb093929WeO1tkt4t6fYKzyfjm+Tuq8tjN7Mt3P35xO+bSNoqseohkgbM7IWy+B5LrBP/vT+isO/cRVIyVyiP5ShJX5Z0nbufqXDMTvqZpCNGeT217GcPjP5dUraNV7r7X6rcRt2QQI/AzE6UdJNGTyBPMLNbJf3MzO5w95O18Qfruyr7UJnZE5LulzSo8MUdkPRvGv6BlJm9QcMPfuskfSuKbVDSue7eXyG+C8vaH9aGQqLzCjPrlfQtMxuQdLy7P1FheZnZh1V55/bVaJmvu3t8lnqbpEUKr9ckvUdhRzU/0UZyJ7ZU4X1JWqewIzFJKxXegw9Fbf2jpH+PtrHezH4v6T5J3dF6kvSAu5+e2N6fJE1Mew0J+yde87ck7Tv0qx0v6feS3iZpR3ffTtJ5kkq9Be7+bTO7TNIz7t6b2NbZUez3Rtu4LPFcWkJ8m6ITCne/2MzOcPdvRM8NaOi92l/SlpJuKFv/SIWEXWb2HUm7K7yPZmbvUfiMv0XSzu4+vfx1mNmbJX1YQ3+/+ESgtEgIzeN1WiV9StJ1CgeMOyS9SeHE53hJlyicWJwXbT/59zNJU6K/Yfn2y0tgTpN0paQ5Cu9jTTt1M5vs7s+qQkJiZtspfFaT+iR9T+Gg2iHpzLKD2RxJ09Pai5O7spOHpyTdXCnGlJguUvjOWuKxI7Xx+/M1Db3uAUnrE5v4iML7nvrdHsERCvuTNE9J+lK0zZ8rfCdM0k8V9m2StNE+agyJSIvCZ6kqKZ+pqaN9pszsfyRNi56LTwSvlHSiwnd8G0nfVPTdSHwvYvGJshLtJr8XlU5onova+WC03gWJZFmSnpTUY2YWvw9mNjm5gehznPY+bCppVpQ8x687zWlR7Dsm1t1R0i+jdc509wUV1pWZtUp6v6TUBHoMn9ua9s+RpyUtjB6fpvAdjd/7tNf9vMIxKOk5hc4eSXq7wuc5qU8bf5/SvEHhcxIaDu/rZtHPAeEh21bSrxRe46fd/bqU7Vyu8H6Ux36pEvtnhRPLd2joMxc7KPGYS0peIYn3nQdIujWKc7qkX0hqV/h7z08sf7qkuZJOiU48yk+Wq9mflJ8IbOvuTyd+P1vSfsnXYWbv1MafkW9qlEQ9CyTQI3u1wgdptA+FKXwoT5L0FjPbXht/sNLWfzC5Qy0taJbWO7tI0otlj/Ur9GA+ppBAn63w4a4UX9JIPcCfknS4QqL2cSXKDVLcqeiLH8VyoKQtJF2TWCY+g5S795rZ9xPt7ynpBYUem6T3Rss/bGat7v6gJJnZe939f83sS/F7Z2alExt3v1JhZ6DouRZ3HzSzG1KSrnidnmjZGZL2lnRPdNKQKqUnWmZ2uqQzJX0mfihl1X+VdKWZ/ZPCDu1jCgnsPe6+IRwTN9Kn8P18s6S7FP7Or1M4ILxF0sXR79+I4vptIp7VkrZ39/KetlIj7v6RlNdxpkJCf1758tE6V0i6ImW9NkmHufv1ZctfbWYfV0jkOxQOBKdJulrSa1Ji2ujvl9h+sgcpVZTk9kefsVF36mZ2taRl7n6iwnf89WnLRdZIOi6K3SSdq/D3+6LCd+BZSd9W9LmNtGr0RK908uDuyyQtG2X5End/TxWLJd/bJUr04pjZ8e7+q1E3sPFJkyS1RidN8cG4lBxGn+MLouV2kvTD6Pnt3P3RCk3UlIi4+yKF/WFVRvhM7SDpaXffkLLO+1KW/3dJ/09D+9jke5v6vRjFoMJJzaclfSXa3qCks6LHX4oe/1RinXvc/ZhETMsVTuJKnQ9mdmrUW5mM3SSdo7CPLoVdIS6T9C8KJ/Ofix77uML+7S8KSVspgTazbRSSy3aF9+ae6PFpColhuxKJ4Rg+tzXtnyN3u/sbEycxye/1sNft7i8kX1PitcUneFPKr8S5+01mtoe7/y2x/Kvc/c601xH5N4WOg2MTcXxI4arNnQr7x7QEulLs5fvn+Wb2gEIHyK1lr+VfJT0c9+xv/JS9WuFvG2/zYwp/ywcU/t7zE8sPuvuLZna7wn5h21FilJktlvSQpJ3cfY/yuBWOZckOpzOj4/5AYhuTyj7XtZ741wUJdAVmtouk1e6+NiW5SS73lui/u0i6WyEp3EnSDmZ2qqQ/K31nVfUMNu6+VOmX2L/q7mdE/7++/PmyZd8V/zfluT0VDua9UXsvmtnNkr4drZcaq7vfFq1/qkJv8EOSOkbqoVA4CJWbodBDvDzluQs0dKb5Fkn/WxZPeY/WT9w97jk418y+USn+xDrviLZ9naR3mtml7n75CMufkfj19tG2n7CLpMkKPRqfi2JvlbShfBvuPs/MpkqaqZBwrlbovZ2vcGInlf0tzew/FJLVBxX+HuW8bPlKr6Pi6zGz5OX3O939mihxeo+ktM/gZxQ+u9sqJJ5PVtr2CE5X6FmpZAeFZC1OYKcmPu+XKv31tCt87qT0qx8l7r7GzJ6TtEIhyXkuOoB+PvH9O71snWHvhZl1JHoAk+3Gz09WSJpmKiRRLZJ+7u4/SYsr6r36hsJJ6+MKiUrycm353/tTCsnn9UpJGNKMcNI0WeGEpfzy8BtTli2/EpJcvuZEJDppHix73iS93d1XpLSfvFITO0nSjxX2WcNECdvXFHrVRy05KevVTnq3uw/7LkadAg9aKIm5JHGyf4a7z4m2WX7Vs/zzeb+7v32UuD6gcOXpQnf/62ivQ+Gzd5i7n2Rmn4++R4dLOs3d+1OOhacqXNLvUfhs9Sjsez6scIJ5i8oSwzF8bmvaPytlPxa9jooHcjP7P4Vez7slTVH4bLxSYf9RqQb3fEXHpuiK04na+ErVSMeF+Bi1l6Qvufv6kfKMyLZmFu/jKu3XtpV0SJQUHynpSY9KIhXe73IzJH1CoVzuldFje7r7HVI4iSgTf+/iq+bVHPueLDuhKZf2wr9mZhe5+/0WSnJ+bGbvc/dVifYbjpsIU1i4OeqbCr0B8WPvSvwke47jsySPfgYVPhDrFBKH56po7wdm9vvElzhtmT+b2bdt4yL9DRX+n6Y/ijWtzCPuDUlT6fE4rrkKO913K/TC7zjS8u7+ZPlPtM7MxO8bNZH4f2vKJst7+aZHcX1Q0uPRpaHR9kzvl3SCu/9AIbl91yjLn6BQTnG7pH8cZdm4Z/dEhROrHnd/SaHX7W5JrzGzLZS+Q/ipwo78JYWD+Wg7jfcp/B0+q/QEutztkmYrHPRGfR2R4xTKmv6qkNDHUt/jaEe8VtIpCgfaYYtU0Wa/jXx0iXtCkzv3+PNeMbaUGKaVfc+7EstsqXDydrKkTcxsojZO4iqVT4UAzLbU8Hru8td+oaRfufsb3f0fFa4+7B31Aqc5X9I57n6sQs1teX17uRMULp//l6SdzKxjlOVTRe/LTyXtlvLc/5nZX8ysx8yuM7PzNfrf+PzE+nMUSi6SytePe7zjnyMVetAqvZ60G+bWStp8hJi+r/B5vVjhKtxor6HN3Y9O/iiUj3VWWsHMLom2L0k/NLNJ2nh/O+K+t4qYYi2q/lgfH8OSMXjZ80n7SLo5SoDvkvRPCt+3vSX9KdrXla9T6+e21v1zmn6N8B2NTvzuj/5uq939e9HreYtC732aDjPbx8zOUkica7l5NJk3KOX/afoVOlKej9YvP7FsUfgOTJD0Cnd/g6QlZhbfR5T2/YjbHEx5Li2mCRZqrQ9SuP8lrdOr0jbif9vM7NREJ0eauHRjS0kXSfpRInluGvRAp4u/aOUHyPgDW9qxufsVFmqBH1Kojd1LoRdwlbv/Xko9i9uIu5dGMxiht+YZhbqu28zsrdGlrfbE8yNdLnZP3FRjZu8re3KRhUvacyUNJr4g17v7z6LexUq+KGmuu6+Ntv2ruDdlhHXKvajQM5sae+L/8UHgKjP7isKl84Vly+9nZksk/dbdP56yjTT9cbzu7mbWHyUXByr8zSeVLf+cu98oKa6xHClmufvZ0WfgUUmHmtlvFXZm5ynUAU9W5fKbdoXynI8pJFQV25G0wt0/bqFm8XwL5RMPKZSPmMout7n7AgslJQskDes5TNm+FL12M9tKoYdjRGb2B4WD6evdfWUiETYze61CYjqaAYWTp0oHwCcU6kbPUKivW1X2ea820YgT77Qe6c0k7RP1th+qkIzKrHTDbcU6TQs3CH5ZI5dDSdJW7l76/kc9fj+Q9AGllwhs4tGNbO5+j40+UsBqd/+hQrJ2pKTLol6dag6C8QH6zQq9jp919/LvnqKepncofKd7lH7FqVyHhdEC/lnhZHq0RKTW3qe0HXC/Rj7+tceX7S3cj7BmlBjG0iO2raSLzOwzCjdlrbZwo2BstBKgfcwsLsMp1bcmL3W7+w8tlNV8z8yecPe7R9nmo5JuNLNXhtX9ZxZGizjYzO7S8Pcy+XulHsnyx2r93Na6fx7Wvg/ddzCsPCclztK/0b7uKDPbz93LbyadKekLCled/8Pd+8xsc4UTNtPwG6iT78PPFY6xf1N4b+/Q6Cc5zyR73lP2a4cpXPG7ReHKiRQ68c5W2H+m3az9mMLVgFMUykgk6QEzmx3FVv73PlfhKuj17v5YvDu3ULd8gMJV1tEMKnzO1qY9aWZfVbjZ9zCFE7QzPCpRjPZB8RWnhiOBTuHu/22hJOLTiupavfJd3bELFZKhO939SQv1U8cr1JPtnbJ8pQ9ApR2xKySL/yPpK1EP601R7+aAohsAShsPvdlxz1xa+5Xa+JrCCYAr1GuNFJMkrY+T58iTkjYzs2Oitrcpi2u7lG1sro1PBpJmWigbMIW7tuXu/xmdvXZq+E7hHoVylNMt1AOer9G/bA9YuAv5KoV6y4eibR8WPf/rsuXL34/HFXoG7one90rtLVG4seVXkk73cMPPUWkLmtnvFHZIN0n6lrs/njgRs6hXckrautGO7USFG3/eoqEa07PSFk+8nscUEp+7R3kdyXVjqTt/dz8q6kX4kpmdp7DzfUzh+3KIqhhlQ6P3oJm7P2FmXRbqsV2SzOxSSZtqqFRjNMtH+J4/5kP1sksU7hG4QtI3LdzlPn9YUOE93E7hQDsnOlFtU3jdpuEnD49FJ6s/jhKFSQpXEyqNjDFgZtu4+3ILl8XdwjBUcR3y1mXLl/5e7n6NmT0l6X/M7FhP1BumvI5rFL6f3QoH5Nd7qNmuxLXx56r8+1NupmpLRCq1Wctzw3rwyrSZWbvCMbJV4YC/UuEmvv/TKFccqohJkl6hcPL3ZXf/ZfTYgqhH80WFq1xJL5X9vkihFGWowcSNrInHPDqZ/h+FHtzRXKpQ9xw7V+E+gRaFy/1J9yp0CtypsL/6ncL79FeFq2s3a/h3t9bPba375/jv2mpm8xTe5xGZ2b8olEicoKGbt+OE+acKV9vKE+hF7n581OH01egk8GIN7ZfLRyj6qcKJ+KYa+n58T+G97VBZqZANlTzEJ2/xfu2SqI2Nbr6NOkRWK3xvXmGhzv8YhZt5u1V5lKZbzOzdCgm0K9yYf0kU0yfKlr1aoaSwFGb0+Jlp265gwN2vSm62rI1PR/vJixSOFV+MTjK/o/DZlIYGBWgoEugK3P0hM9vSwqXa0XaEP3f3v5rZ/mU9r7+V9H8V1jmuwuOVduqm0OO6qUJv2zkKPTYf0NCHPhl/Wo/iSG0sl3SXu99sZgeXvY6RDjSPRzuf3ykkh9Pd/fnoCyBFN7klfEVDiX3SRRW2f2Li/zfF//HKw22ZhzrTr5jZ56LXcvgI8UuhZ/C9CiMT9Ej6ZNSr+JUKy29tQzWP17t7/KUeqXfn15Kecve0JHYYdz822oG+QaEe7L0KJzarFf7W2ynU/Sb9NrH+SjP7rqST3P3ctDaiRGCywk1W17v7L6KnPjZCaPHNfH2S9rShUTgqDnfn7s+Z2WmSLnb3t0UP/zJt2eg1l9+AG9fbVRJfYp2v8Hrinfo/j7DOLIUD9zUa2g+O9D1fHp0U3qBwUPlx9J3/Z4WD+bA65fg7aGavkHSWmf2nQlIUH/h/W7bKyYqGXzSzQYUk6r/jqx0pTpP0IzPboPD3OM3dH1flKwOPl8X3VzP7pcLnv9JwW4pKJOIRFo6R9N9m9l13/0P5stFnahOF93KdwuX971fadqTWRMRs6EbGpNQercTypd+j+K6qsLwURm5YoFD3/mEfGvqr0s2srSltxKV8ldytcOXnI2b2gejqwOcVPgeusr+Ju7+lbP3+tIQ5jYd7eR4ws86ow6PSPv2c6ARmqYa+R49JOrTC8t9XSLbaFY5p9yqMOvVdhe/4sMRQQ5/bfoWT+9OjNip9bmvdP8fHvmM0vOyv0uvuUHi/OxVOGJS4gvmAyoZRi9wVLfeSwt/w+5K63P2ClGXlG4/CMlHhWPWUwuhBacuXvx/x36Oak6CzFEbEudzdn7IwqlZaJ0S874w/1xadHM+tog2p8t8gabtovxAn/PGJwC8V9teVxgJ3d18j6WNmdq7Cle6R8prsuTs/FX4Uztx2lnTNGNY9Yoxtvq7C4wcqXCY+Kfr9Cwo37FW73deP1sZYXovCjuezCsnAVyVt0ei/WyK2dkmdjY7jZcT/y8T/f1Pj3/v98XtQwzo1fS7G8Ho2z+h9G+t374YRnttUIan6uaSjxrDttug7smMW78EosXQq3NxW+n0Mr+VHkt5awzqvH+G5b5f9/n2FE/GGvk8Z/B2uTvz/M5KOrHH9MX9fq/mOjGX7Cgnrj+r8vh38Mtat6jWN9Hlt5p/ou7lZyuO7KNwcONK671AYKaPeMd7Q6PdpvH4sekEYgZkd4Sl31eeJmV3v7kckfp/u0Q17FsZ9LD8LfkrhjDUuwXjGw+WbzETlKXsopUfShyZbuczdj4/+/3Imo2hqNnwEh9GWv8RHv0P/YHe/zcze5GHUjz96ytCKNbTZsIlIxoONMmHSy9juYe7+JzPb3MtGrciKmXVqqGRkc4VhyT5fvpwnJlkYZXutCkMlVhqernz5jfY/Y2XhpuV4rNvURRT2D5nMBjiaaj9T0RW71lq+41Vss6bJc1LeW1P6vnfE9zber1R4rryNYYtUaiPuPTez/4qft+HDnb1K6fdzbMSjSVhS2pjkoRa9/Hi50aQlRWRml7t7pSvj49lOXfazjUAJRxVGSp5r3UlF66TNyJfcWW2UJI5FdMlkF4VLkGn1ST/S0NiL8eQEZyr0spnCZ+NTCqUVpvQRMNLaHc8k6n9UuTY6lpx5qabJKKSXv8PNymgHVqthvN7EaueZ2dEKl0bnJbb1mIZmWDzF3R+pMszyAfLLJ5hIU4qp7HtRfqk1+RpK34uoNq7SwfgcDzf9JSfzkZnFV5aS5ks6yMwOdPevlq/zMr1TYUSCF6L22xWSpUolB/VwkDYeCrBf4cqRlHhvVeVIAlHS8mj5wdBqmCBqjHoUJl+qquenESfVVsWMfyntb1BiJKWU97XmyXw0fPKc0cTvbdIOUTupN5pWen+j73JJ4v2t6e8XbesqD+Nf/07ReO0WRqO6TKFW/TPuHtcLP67hYyl3KNQeVzMyUVWTllQ4bsRzMsyMfl/mFWbtrAcLI9iUd4T1KZRRfljh83C+R+WZNnxirPISurRjRq0xpe5r4/12Hfa1mSKBLlMhud1oEW18EK91JyVtPCNfNTHVfBDwcDf8DQo1TmnD11hi2ccVxll8j4cZ7tqixOPTPvrUvke7++8tTPH5vMZxKnJ3XxWdCEjhRpD4LnA3s895GIkkeWNU6mQUFsasdXdPG1IwbYcbm65Qh5p5z0Otn0OvcbzeyIEKN2bsU/b4Q5V2mom/xz4KNwpt4e5xfWT5wP61TjBR0/ciclPi/2draEKb8zRUN31A2Tr3aegu9djc6LFTFEqRuuMnaj0wReucpDBSh2voZOZphYTnewpD833RU+qI68HDbGLz054zsy+4+xcqrWtmO0na3cPEOPGoI7HyBLGWZbmBnAAAFztJREFUCaJq7pH0MEZ9PAauKXxHnyhfXuFGYmkMJ9Uvh1U/41+t72vNk/l42eQ5o4ne250lberhxrLvSLpRUp9H4wKnqOn9Lfv7bR79u0ZlJ/oa+vtJQ0MBJt/LDykca/6iUN52TbT9pyU9bWYzJbV4mIxrP0kHeGKyqWpCLfu9/O/4pIaPpf68wv0p8X0u5SO31NvDCvui70j6D0n/qTAk5JcVPh8TlZicx8MIYk962Wg6FgY/WOGV772oRU372rwhgR7uNm2cMCW/1MOGt3L3JWb2tLtvNFNgtCPdzMNNAhvxMFva7xRGB1ihcPPLNIWJTFYn2osPRONxEDAzi3uXfq70A1Z8MP9PC3eCV5PIfFRh+uQ5CjeOjOvwMtGJwLYKMZ/oVQ65FYv+DpcoDKfVk7L9p6MeQSmMKLLczA539xssTBCzwt0zOwAnlE97/maFKwW/0fBLq6lsaLzez2r4cH9SGDrrnWZ2jYVRTdIG2t+ID90Yd0PiJK30dEoMydFg9tfQjFfJbR4d/Rt/L+Ll91LYAZcfXJOzVi2wMOnR0wpjbC+wMETbAq8wlKK73xuXVUQxxr1ldyv9ZKmmA1PUxn9L+u/E+7CLhxuTL1cYc/tFhZroTBLoKIYVCslWi4YmhPk3jX4Am6pwV3+vpG9ZuCHpeA8zwqVdKahFzT2SnriRyMzmufubRli2phkeXw6zmmb8k2p4X30Mk/lEj12lsB+5wjeekrmS7RVukt5e4ea5dZK6Ki08xvf3TA/D171D4eT+l1Gs+/jIk71sFu2nWhVGlvq8h6Eey8dD/qBCL/IqM3tQ4SS+1jHPR5y0xN2XmdnWHg1tZ2a7K+rh9pEnEqubqCPscTN7wcNgAC94KNH7mkc30tvwCde+bmZvUijVPFjhOHObu1czOlI1MdW6r80VEugy0UH8Qxo6YL9W4Sz8EEl3aGisy2R5xeXa+PLOpgrlB9/U8LOvuJ0jo0t9v1I4m32HpPvSzvrG8SDwTPRvpSGcvhFdWrkzSiyrSoYtjAk8KdqpjEOYG237JIX39ncKif08d/9pFetNUBjC7SRJn4l6qyu5SWEkil2jtj6oMNrCiAePeoo+h7/W0I57c4W/WTyVb1pPTXiiivF642YS/692VqnydbewkWf5+qRHY8+a2W88GknAzN7pKTPs+cYjPlzuYbKF0ZyicKJws4XxzG/ycGf8SM6SdISFEpbyS4zlMY3lwCQz+567fyj69bsKf6suj2bLszDSRpbu88RU0AnVfGlN4QThcIUD7cc1yrjWFsawnhGtm3qnfVmP5CYKpWTJToRhn/OoN/9hhf3yLaMGXuMMj2Nhtc/4V1pV1b+v8WQ+t6j6yXw2UTgW/ZeF4Rb/3d0frvAa9lOYZnoXhQnATpD0D5LeEfWWS5K8bFbHMby/5yrsZ/+iMO/A9grDp96ocFWrkrgkqHw/Vf77CYnv5U8UEuBuMyvdE+KjD0sbT1piqny8PE9hHzJB4cTplFG2WXcWJi6Kj49xPCNNuLaXQpnmtgpjsF+gMKzeeKp6X5s3JNAp3P1EM9tGYef0jej3bykkYhXrFqNE8i0KY21+YoTERRYmYzhSYfrMNQq9EUeZ2YNpvdbjcBBwdy+Nl1l+SdXCeJn7K4z8UM3QNLGZCjv15GQwyRmGVrp7paH8qvFvHk1tq1Cze7mZ/UZhoHVT2eQgUY9nu8IMe49LeoMPn92w3CJ3PzU6kEthtqVDFQ7+o84kWUff8qHaPkmlE4PXevpU0bWO1/s6M/uZpP08TJjw7ujxWhPp5OQj5b4dXfnoVpi44yiFkqfjlTL0m4VZs76gcDVmjZldES3/sahnrpLtFC5xv1HS583sDT7yTa9xb9axColCeQ1e+fej1gOTtPH46wPRSUHFNjLgUqkGOx6iyzTC5AdmtqdC8torlRLemxX+ru/SCK/Bq5sgKnlV4w2SdvVo2Dsz29vd70sLS2GIroslrTWzD7v7dyttX2HM8e96NElN9B36spm92UOZ0Xipesa/Mb6vY5nMZ9Dd77MwudQZCuN+n+UbT5Uee06hHGYThePRlgrf7SeVfgUrVuv7O9PMzoi2v7dC7fBXPDGdewVrov3UXIU6+0PMbKGG73uSQ172Ra+hTSHfqbaHZ7RJSySpy8KU2adLOi/qdKpy83VzkMJ48r/V0IyNI03Oc59HQ4ua2a4Kf8vZZrbE3T+l8VHTvjZPSKArm6PQA3lt1KvlCr16aePXHmBm8yXtHq1zrEczLY3gmwrDFpVKP8xsN4UDw/tTlq9pJxUlUzsoXL7/ROLx7yicdW7UI+Tub4q2+WEz+6S7f10jjO1bZoI2/hKkzto4VmY20d3X21CphavC5CBll3dfL+kHZnbhKAdKL/u3TeHkZk9V/x7UwycU1fZJkpntq1CKUj4urqRhvbcjjtcbuUOhhvfSssdrOQq84CPP8hX3IMZTzM5QSPIrzbJ2rqRjPHEzVNT7da7CsJIbb9zsF5JepXAQvsndB6MeyleZ2QMKB+m0mc6mKEw7fLe7D9jGk9S8S6GkKqnWA1O5eOa7ZyyUnMTT8WYp+Z1MliUdaWWjGSQMqnKcaY9X+uxUc5BcJGmlmW2t0CN5r0IJz7BteZis6hGFmvc3mdll0v9v79yD7SrLM/48gEACAWlttFgujqMIGaRKa8EymDGgqeMwGUvl0rSaDq2YIgG5VIFB0nKxgs4wMhUQx8Qx0sbqFOpwSYwCkUnRBqkUwk2BShkphBQEbGhOHv94v5W9zj5rX9baa1/z/GbOnLX3WZdvrfOtb73r/d73fXCKGmI3ecoqPJZG5RX/yl5XoIKYT46tiJe8kwF8i+SpkjbnV1CINd2LuJfuQTyLbkQ4GFrliQDlr++LiBC11yHui3cgclxaGdAHpRme7OVEiDyC1Yix5MKm9X9K8ixESEWWnPmQ2uTzsKRoSeKNiFCuOUg1oVFzCGMFXpD0WZLzAFxHcjGA+9IMCdBoZ8bbGWqxb0OEki6WtJFkoUhXRcqOtWODDegCSJ4C4BgA6wGcoNCUB8l/ZpRNax7gfpwzXo4EcBHJH6mFgEXiVYTHIB87vQ9mqk1llBqk1FSEnanXSlrWqkGStiE8IGeTPF7SX7dpf8YTiHCWCxHxod1Mj5VhOYA1JP8bUXHjEkmvoIUQRx5Ja0iuQxjRe0pa3WLV7I7elyEvvaek5YxkirKxc3VyaPJ87oMw5jcAWNr84Gsm9c+bkzf+epJ75Wcfcpwp6fk0uwI0rsMMQzUj96A5JC13uj5C9PUtiPFmN8RDr5VBtT3tMx8ftxdaJOpKOpnklQAeAbCU5LUIT8caxD18OGYm+wDA45I+RPK09JD5NiLc6lLErMalTeuXfTBl555f3gXAxQBWIuI4lxadUx/ZCOzoHzuuCclnUttmGG4K9cTbEYk/2xliJ3+AEN5ZxVBOzFNWIAqMcpVCGCLzEP+Hq9uEQmSKcM8iSumtYKgqXgug6CWurMJjJdK+u1L8q3BdgQpiPmioxj2PeIY8SvLTiATlImnnxxDVIx4i+TTi/9Lp5bDs9d2iRqjit9ML/zKSqyT9afPKkppnSDKxj2NI7qKZuQ5L0/ntgXAQ7IMOtk7z8xLoSrTkMUmnMhIvb0hjwoY26w+CrN0PMMJXPonw+J6H+F82e3/vV6jFzkL0v79gxH6XURbsRNmxdmywAV3MNsSDfFekKbbEr1D8oPlFtpDCNk4i+SmS56spXizHUgDXJq9v9nB5CjM7eEavD4EyYRlXo/OgmUFF4t1L6a211umYFKrwPTYUtMpuP8VIKimSEM/ISg19B6ESl3lspzDce+QJRGWJfRAemhMBnM4o+9PRe5mmek9DsfcESpn1asiqXpE+t0zULHjQ5CkykojwAL8eMTuzFeHladVPPo7w4mX9bxfE/fXJNsdFWmclQvFxnTrXGb0NACTdwKg2k4VntEoAavdg2o7i+3aK00sJTkn6KcKwHzhqKKs1cys6e8OF6B/fT8sn5r7PH6NVyFO78SerGfxaxMvWUYiQn0IDOncen5H0avrudsZ0fhFlFR4ro+4V/3Zsgi6ua+J0xAzUYiTjOR2zeQYp356/T4ufTmEekHQvWigqSno4t3wZI3Tw50Xr5ih1fZvHkDSWfYHkgR2Ok7GjNFyB8Zztb0X2meQLiGdaGbp5Xm5Ix/sZycsRzrZm1cVBsyJbUFTHOindI63O55y07q8QMxh3MMKL6pTKLjvWjg0WUmkBQ576/xDxgcciBrR1kq7pYtv3Je9nbcIJ6Q1xGUJSNSv982UNKeM3166Fkm4juQCRdHGVOktnjwWMzOrd23jC+n38GWIoJD8E4GRJHx5Gm3LteC+Au9KsRfbdjAL5JN8q6ZGC7U9UTZneyQP0izQz0RdIfkTSytznlZI+0m6bSYFREuytaUyb5vEjubbDS1WV4xFhlL1X0kk17/svFRVSBgLbiHD1cl1J7gdgfxXHiBsDYFp8fOH4bHrDBnQLSB6E8Bg9xYi9lYrj64pqIV+mGlS3xpFxu0k5ZspmAEBybzWVTRzQcfdHwyN/FoDrETM029N9chiATWoxqDAnMMEeVQ9z+ywtZFQH+QfTzkw7A7HkfvZASA3fl/vuAEUFlNooeikdRToY3ucjvHoL28xwmp0YkgcgQnHyKo21jLmmgUM4miB5NCKBLPsMRCLZ60jOzb7XdGW6vtZCJrkI4X1uV9xdgzba2VqF6l35zxpt6ewi9a2MgxHlA18dWGsSzf0w8SAi8WZu6peDVkg8AzHNnvW7rE++QnIrIk77YeTqIWewC4GJVv2pmab+VEXIqBRt+nm7dk0EJD+BiE2egaTLJX2P08v1VWUvRFWKHQZ0HcYzZ6qt7cLOCp1lj1FFjbbt/Z3WOab5/mbUdv+d1G6QfCOi7NjuiPrKd1Q9DzP+pFnTryHG4TeT/Bs1dAyGneA4cdiAnsmTmKlM9xxCFOFcRCe8GqEAtQP2sRayQkGpjIrSoBioylc/SJ7cl1Lc1yGISg7PAUAu5vzJITStUj/sJ5IuILlY0tczDyyjnNYcRJm5hSRnzD6kKfluBCZK9ydVEDKqwNj38x74ESIZ65L0cx6iCkz+eh9WdecMlceLGh85HxET/fuIHBQCeErSkir7VzWFzrJUeYmren+fhjCQMuP/bEQc6yZENZ07SrbDTBZXAPgzRbLo3og+kVWm2ulnzOrGBnQTai0HPaWUdEWyWaLzYPS3FnJW31gIT8MhiBJPzW2fIarRT1pdq3GD5BKE9+tOADeSXCrpUUR4wrCEVKr0w0Hw5ySfBXAxo27tbYg8gWxwnibmwBICEz30p9JCRmWYlH5eBUn/BgAkn1WoPC4GsL6u3I6UwzEjj6MfsdW5fXdS6CyF2khmkzyjKG+myv3NqFYyB2Gwn4Aoz3Zobv0ez8RMAHunZ1dWW/znjPKiRSI7pkdsQBfAyOa+FRGvOa0uZMFyRl9rIashNvCbiES9Sh6ZuuEAVL4GwBIA8xU1hG9GeHSWIZJId2+7ZR+p2A/72Z65iD79MYRR/F2Ex2t2h7aUEZio3J9YQsioLBPSzyuRXt5/g+QDCKPvPpJH5Ppkr/s/P/dRkq6sY78Fx+lWobPKvtfkPn5f0hVp+RhEzeKibcre39sR1ZFa1ZC2h9EU9YFtsAHdF7p6qO2EvIgY2L7J7krrPIGohbwj9lPSNyStSj9rWm7ZJSSfSYP0jQAOJLmG5EY26tAOixsArJb0R5I+iHhAzUuxh+PC9lwG/GY0hDdexRANaJTvh/0mq9e5d6p4sQ0RF70nYvp9FprGFEnXImoDf4DkEV0co0p/yoSM7gdwAYBldRpHPbRrIkgv70sBfCN5he9EvfGUPwTwJwjxjtqry5BcS/JOxP10KYCPSrqn7sNIel+KpT489327Z2yp+zu9WDyDCG25JX29ieTvpVkXu6DNKwyhJjBqix8gaaWkVUNu10RiA7oYpcD7xQD+gVHofRbJM0kuQyj85aGidm5faiEnfpIN0JIWpIH6Ygz/fzhD4AURI3n08JpUmp+QPCdVkfgiIikHaKjHDYuy/bDfjckqkTxM8gOIB/mFiGt0AyJO+LqC7YSI6+ymOH+V/vRjSfMl7Y8wxC5iCFrUyST0817JK3buR/ICkhci1CWr7zQS37akcI7/bTpWz0g6XtJ7AOyLeMH6MqNiUp20q+LTpmml7+/rETMsSj9fQKh0fhflav2byeRTAFaRXIEQ0RlbkZJxYNjG16iSiSY8hzAITkdU2ngAUdy/OeP88+n3OgAHoj+egKIBehSm7P6L5EdTohjYEHjpKeZ7wJyFUID8GIBVkjK1vSmEkTgsyvbDQbEcUXHmbEQc5mskfUvSO1WseJgV6t+UvNRA63ukuT/th879aZqQkaJ28G5NoQG9Mgn9vBIkP4yIMT88Lb8JEd50N4AfIGbf6iIb02ofQyVNpaTCRQixqz+ucff59s4m+dupQkY7pc7S93dKln08bUtJT6eXx6Mkra/nVMy4oqi5fzTCuTY/V4ED8AxF7bgOdAEkj8olzxART9l1vU32oRYyQ5J6CtPLLwHANZJuqvNYJduVF3jJq1CNv8pQPABfkvRCx5X7c/ye+mGf2rSHpK25z3MAvCFLXCmxn8I6t3X2J/ZPyGii+nknSBYJxqxSTkSnx/3filCqfAbAXElHkpyt/grj7IqQAa+lwg7JcyVdlZa/isYY/bykc1psU/n+Ti9w+0t6sI72m8mn1ZhrqmMD2hgzkqS4zuMUZRyNGQvyxrQxZnJxCIcxZlSZDeDYYTfCmJK8e9gNMMb0H3ugjTEjAaerxgFJOQ4RMlGLapwxdcMCtUNMLzPnfmvMBGID2hgzUuRjQ40xxphRxCEcxphR40wAIPk5kreQvI7kHsNulDGtIHk9yXNJvm3YbTHGDAYb0MaYUYMkFwF4UiFP/02EkIcxo8oRAB4GcCPJfyT5+mE3yBjTX2xAG2NGApInkFwLYA6AeUhqa6kkpD17ZpR5WdK/ArgXwJUAVpN8y5DbZIzpIzagjTEjgaSbk1T0LwH8O0KhLRPyuG+YbTOmS14AsBnAKQC+kuo1G2MmEBvQxpiRQ9LtAF5KIhtvR4FEuDEjxH+k31sQwkJPA7gcw1MLNcb0GVfhMMaMFCQPlbRp2O0wpiwkZyXZ+uzzbnUpNhpjRgsb0MYYY4wxxpTAIRzGGGOMMcaUwAa0McYYY4wxJbABbYwxIwrJXUleRXIdyQ0k/7YPx1hhARBjjCnHbsNugDHGmJYsBDAlaQEAWJHRGGNGA3ugjTFmdHkcwBEkfwsAJG0luSR5pDeS/CsAIHlJkj7/F5LrSS4guYbkf5I8Nq2zguRykmtJ3ktyYfPB0n7uJHkXySPTd18ieXfygL9mgOdujDEjiw1oY4wZUSQ9COA8AF8i+XfJA/2d5JE+FsDHc6u/LGkRgH9K27wfwBJMl0HfnMRqjgdwWf5YJI8D8FpJ7wGwCMBykvsBOEzSHwJ4t6T/78uJGmPMmOEQDmOMGWEk3Q/gxOQxXgFgI8m5ALYB2DO36g/T78cA3CNJJB8HkFfDW5v2uZnkVpLM/e2dABaQvCN93lXSFpKfJ3kNgA0AVtV8esYYM5bYA22MMSMKyTeQ3D19XA/gdwEcL+l8ANcAmJVbXS2W87wr7fcgANs0XQjgEQCrJc2XNB/A+1PIxi2SzgDwQZKH93xSxhgzAdgDbYwxo8s8AFeRfBHAFIAzASwleTeAuwH8T8n9vYPkqQBmA1jW9LebACwk+QMAvwTwVQB3AbiJ5MsAngPwaOUzMcaYCcJKhMYYsxNAcgWAz0p6aNhtMcaYccchHMYYY4wxxpTAHmhjjDHGGGNKYA+0McYYY4wxJbABbYwxxhhjTAlsQBtjjDHGGFMCG9DGGGOMMcaUwAa0McYYY4wxJfg1mtpDpg3JpEoAAAAASUVORK5CYII=\n",
      "text/plain": [
       "<Figure size 864x504 with 1 Axes>"
      ]
     },
     "metadata": {
      "needs_background": "light"
     },
     "output_type": "display_data"
    }
   ],
   "source": [
    "plt.figure(figsize = (12, 7))\n",
    "kw_txt.plot(50)"
   ]
  },
  {
   "cell_type": "code",
   "execution_count": 14,
   "metadata": {},
   "outputs": [],
   "source": [
    "from wordcloud import WordCloud\n",
    "import imageio"
   ]
  },
  {
   "cell_type": "code",
   "execution_count": 15,
   "metadata": {},
   "outputs": [
    {
     "data": {
      "image/png": "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\n",
      "text/plain": [
       "<Figure size 720x720 with 1 Axes>"
      ]
     },
     "metadata": {
      "needs_background": "light"
     },
     "output_type": "display_data"
    }
   ],
   "source": [
    "wc = WordCloud(font_path = 'C://windows//Fonts//malgunbd.ttf', \n",
    "               background_color = 'white', colormap = 'cool', mask = imageio.imread(\"C:/data/wc_icon/heart.png\"),\n",
    "               width = 1000, height = 800, max_words = 100, min_font_size = 3).generate_from_frequencies(kw_txt.vocab())\n",
    "plt.figure(figsize = (10,10))\n",
    "plt.imshow(wc)\n",
    "plt.axis(\"off\")\n",
    "plt.show()"
   ]
  },
  {
   "cell_type": "code",
   "execution_count": 16,
   "metadata": {},
   "outputs": [],
   "source": [
    "video_info['run_time_min'] = 0"
   ]
  },
  {
   "cell_type": "code",
   "execution_count": 17,
   "metadata": {},
   "outputs": [],
   "source": [
    "for i in range(len(video_info)):\n",
    "    video_info.loc[i, 'title'] = re.sub('[-=+,#/\\?:^$.@*\\\"※~&%ㆍ!』\\\\‘|\\(\\)\\[\\]\\<\\>`\\'…》♥★]', '', video_info.loc[i, 'title'])\n",
    "    video_info.loc[i, 'run_time'] = re.sub('[:]', '', video_info.loc[i, 'run_time'])\n",
    "    video_info.loc[i, 'play'] = re.sub('재생 수', '', video_info.loc[i, 'play'])\n",
    "    video_info.loc[i, 'play'] = re.sub('[,]', '', video_info.loc[i, 'play'])\n",
    "    video_info.loc[i, 'like'] = re.sub('좋아요 수', '', video_info.loc[i, 'like'])\n",
    "    video_info.loc[i, 'like'] = re.sub('[,]', '', video_info.loc[i, 'like'])\n",
    "    video_info.loc[i, 'run_time_min'] = int(video_info.loc[i, 'run_time']) // 100"
   ]
  },
  {
   "cell_type": "code",
   "execution_count": 18,
   "metadata": {},
   "outputs": [],
   "source": [
    "video_info['play'] = video_info['play'].astype(int)\n",
    "video_info['like'] = video_info['like'].astype(int)"
   ]
  },
  {
   "cell_type": "code",
   "execution_count": 19,
   "metadata": {},
   "outputs": [
    {
     "data": {
      "text/html": [
       "<div>\n",
       "<style scoped>\n",
       "    .dataframe tbody tr th:only-of-type {\n",
       "        vertical-align: middle;\n",
       "    }\n",
       "\n",
       "    .dataframe tbody tr th {\n",
       "        vertical-align: top;\n",
       "    }\n",
       "\n",
       "    .dataframe thead th {\n",
       "        text-align: right;\n",
       "    }\n",
       "</style>\n",
       "<table border=\"1\" class=\"dataframe\">\n",
       "  <thead>\n",
       "    <tr style=\"text-align: right;\">\n",
       "      <th></th>\n",
       "      <th>title</th>\n",
       "      <th>run_time</th>\n",
       "      <th>play</th>\n",
       "      <th>like</th>\n",
       "      <th>run_time_min</th>\n",
       "    </tr>\n",
       "  </thead>\n",
       "  <tbody>\n",
       "    <tr>\n",
       "      <th>0</th>\n",
       "      <td>스페셜 구멍 없는 연기 맛집 하이에나 엔딩모음</td>\n",
       "      <td>1951</td>\n",
       "      <td>4034</td>\n",
       "      <td>225</td>\n",
       "      <td>19</td>\n",
       "    </tr>\n",
       "    <tr>\n",
       "      <th>1</th>\n",
       "      <td>메이킹 김혜수X주지훈 위로 싸악 눈빛이 곧 만병통치약 5초만에_사르르</td>\n",
       "      <td>500</td>\n",
       "      <td>6714</td>\n",
       "      <td>250</td>\n",
       "      <td>5</td>\n",
       "    </tr>\n",
       "    <tr>\n",
       "      <th>2</th>\n",
       "      <td>직진 엔딩 “그저 당신이라 사랑해” 주지훈 김혜수에 애틋 고백</td>\n",
       "      <td>357</td>\n",
       "      <td>141741</td>\n",
       "      <td>1990</td>\n",
       "      <td>3</td>\n",
       "    </tr>\n",
       "    <tr>\n",
       "      <th>3</th>\n",
       "      <td>4월 3일 예고 끝이 아니라 시작이야</td>\n",
       "      <td>033</td>\n",
       "      <td>123612</td>\n",
       "      <td>737</td>\n",
       "      <td>0</td>\n",
       "    </tr>\n",
       "    <tr>\n",
       "      <th>4</th>\n",
       "      <td>직진남’ 김재철 대쪽녀’ 김혜수에 밑도 끝도 없는 대시</td>\n",
       "      <td>313</td>\n",
       "      <td>81111</td>\n",
       "      <td>447</td>\n",
       "      <td>3</td>\n",
       "    </tr>\n",
       "    <tr>\n",
       "      <th>...</th>\n",
       "      <td>...</td>\n",
       "      <td>...</td>\n",
       "      <td>...</td>\n",
       "      <td>...</td>\n",
       "      <td>...</td>\n",
       "    </tr>\n",
       "    <tr>\n",
       "      <th>145</th>\n",
       "      <td>복수 시작 주지훈 김혜수 도발하며 반격 시작</td>\n",
       "      <td>333</td>\n",
       "      <td>121243</td>\n",
       "      <td>546</td>\n",
       "      <td>3</td>\n",
       "    </tr>\n",
       "    <tr>\n",
       "      <th>146</th>\n",
       "      <td>3회 예고 김혜수 VS 주지훈 숨 막히는 쇼 타임의 시작</td>\n",
       "      <td>035</td>\n",
       "      <td>75282</td>\n",
       "      <td>241</td>\n",
       "      <td>0</td>\n",
       "    </tr>\n",
       "    <tr>\n",
       "      <th>147</th>\n",
       "      <td>“저와 함께 하시죠” 주지훈 김영아에 파격 제안</td>\n",
       "      <td>308</td>\n",
       "      <td>38938</td>\n",
       "      <td>147</td>\n",
       "      <td>3</td>\n",
       "    </tr>\n",
       "    <tr>\n",
       "      <th>148</th>\n",
       "      <td>이주연 김혜수에 지현준 만행 폭로</td>\n",
       "      <td>250</td>\n",
       "      <td>54560</td>\n",
       "      <td>181</td>\n",
       "      <td>2</td>\n",
       "    </tr>\n",
       "    <tr>\n",
       "      <th>149</th>\n",
       "      <td>주지훈 송영규 향한 이유 있는 말대답 ft 귀여운 티키타카</td>\n",
       "      <td>134</td>\n",
       "      <td>46942</td>\n",
       "      <td>351</td>\n",
       "      <td>1</td>\n",
       "    </tr>\n",
       "  </tbody>\n",
       "</table>\n",
       "<p>150 rows × 5 columns</p>\n",
       "</div>"
      ],
      "text/plain": [
       "                                      title run_time    play  like  \\\n",
       "0                 스페셜 구멍 없는 연기 맛집 하이에나 엔딩모음     1951    4034   225   \n",
       "1    메이킹 김혜수X주지훈 위로 싸악 눈빛이 곧 만병통치약 5초만에_사르르      500    6714   250   \n",
       "2        직진 엔딩 “그저 당신이라 사랑해” 주지훈 김혜수에 애틋 고백      357  141741  1990   \n",
       "3                      4월 3일 예고 끝이 아니라 시작이야      033  123612   737   \n",
       "4            직진남’ 김재철 대쪽녀’ 김혜수에 밑도 끝도 없는 대시      313   81111   447   \n",
       "..                                      ...      ...     ...   ...   \n",
       "145                복수 시작 주지훈 김혜수 도발하며 반격 시작      333  121243   546   \n",
       "146         3회 예고 김혜수 VS 주지훈 숨 막히는 쇼 타임의 시작      035   75282   241   \n",
       "147              “저와 함께 하시죠” 주지훈 김영아에 파격 제안      308   38938   147   \n",
       "148                      이주연 김혜수에 지현준 만행 폭로      250   54560   181   \n",
       "149        주지훈 송영규 향한 이유 있는 말대답 ft 귀여운 티키타카      134   46942   351   \n",
       "\n",
       "     run_time_min  \n",
       "0              19  \n",
       "1               5  \n",
       "2               3  \n",
       "3               0  \n",
       "4               3  \n",
       "..            ...  \n",
       "145             3  \n",
       "146             0  \n",
       "147             3  \n",
       "148             2  \n",
       "149             1  \n",
       "\n",
       "[150 rows x 5 columns]"
      ]
     },
     "execution_count": 19,
     "metadata": {},
     "output_type": "execute_result"
    }
   ],
   "source": [
    "video_info"
   ]
  },
  {
   "cell_type": "code",
   "execution_count": 20,
   "metadata": {},
   "outputs": [],
   "source": [
    "video_info.to_csv(\"C:/data/hyena.csv\", encoding = 'utf-8', index = False)"
   ]
  }
 ],
 "metadata": {
  "kernelspec": {
   "display_name": "Python 3",
   "language": "python",
   "name": "python3"
  },
  "language_info": {
   "codemirror_mode": {
    "name": "ipython",
    "version": 3
   },
   "file_extension": ".py",
   "mimetype": "text/x-python",
   "name": "python",
   "nbconvert_exporter": "python",
   "pygments_lexer": "ipython3",
   "version": "3.7.6"
  }
 },
 "nbformat": 4,
 "nbformat_minor": 4
}
