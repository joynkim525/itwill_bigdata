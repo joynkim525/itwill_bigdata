{
 "cells": [
  {
   "cell_type": "markdown",
   "metadata": {},
   "source": [
    "[문제62] (리스트, 튜플, 셋 등 타입에 상관없이 활용 가능한) 합집합 함수를 생성하세요.<br>\n",
    "x = [1, 2, 3, 4, 5]<br>\n",
    "y = [1, 2, 6, 7]"
   ]
  },
  {
   "cell_type": "code",
   "execution_count": 53,
   "metadata": {},
   "outputs": [],
   "source": [
    "x = [1, 2, 3, 4, 5] ;\n",
    "y = [1, 2, 6, 7]"
   ]
  },
  {
   "cell_type": "code",
   "execution_count": 2,
   "metadata": {},
   "outputs": [],
   "source": [
    "x.extend(y)"
   ]
  },
  {
   "cell_type": "code",
   "execution_count": 3,
   "metadata": {},
   "outputs": [
    {
     "data": {
      "text/plain": [
       "[1, 2, 3, 4, 5, 1, 2, 6, 7]"
      ]
     },
     "execution_count": 3,
     "metadata": {},
     "output_type": "execute_result"
    }
   ],
   "source": [
    "x"
   ]
  },
  {
   "cell_type": "code",
   "execution_count": 7,
   "metadata": {},
   "outputs": [],
   "source": [
    "def uni(x, y):\n",
    "    result = x.extend(y)\n",
    "    return list(set(x))\n",
    "# 야매..."
   ]
  },
  {
   "cell_type": "code",
   "execution_count": 8,
   "metadata": {},
   "outputs": [
    {
     "data": {
      "text/plain": [
       "[1, 2, 3, 4, 5, 6, 7]"
      ]
     },
     "execution_count": 8,
     "metadata": {},
     "output_type": "execute_result"
    }
   ],
   "source": [
    "union(x, y)"
   ]
  },
  {
   "cell_type": "code",
   "execution_count": 9,
   "metadata": {},
   "outputs": [],
   "source": [
    "def union(arg1, arg2):\n",
    "    u = []\n",
    "    for i in arg1:\n",
    "        if i not in arg2:\n",
    "            u.append(i)\n",
    "    u.extend(arg2)\n",
    "    u.sort()\n",
    "    return u\n",
    "# u에는 arg2에 없는 arg1의 원소만 가지고 있음\n",
    "\n",
    "# + 연산자는 set에서는 돌아가지 않음\n",
    "# list(arg1) + list(arg2)\n",
    "\n",
    "# u + arg2는 '미리보기'이므로 u에 다시 할당해야 함\n",
    "# u.extend(arg2) <=> u = u + arg2 "
   ]
  },
  {
   "cell_type": "code",
   "execution_count": 10,
   "metadata": {},
   "outputs": [
    {
     "data": {
      "text/plain": [
       "[1, 2, 3, 4, 5, 6, 7]"
      ]
     },
     "execution_count": 10,
     "metadata": {},
     "output_type": "execute_result"
    }
   ],
   "source": [
    "union(x,y)"
   ]
  },
  {
   "cell_type": "code",
   "execution_count": 11,
   "metadata": {},
   "outputs": [],
   "source": [
    "a = (1, 2, 3) ; b = (2, 3, 8, 9)"
   ]
  },
  {
   "cell_type": "code",
   "execution_count": 12,
   "metadata": {},
   "outputs": [
    {
     "data": {
      "text/plain": [
       "[1, 2, 3, 8, 9]"
      ]
     },
     "execution_count": 12,
     "metadata": {},
     "output_type": "execute_result"
    }
   ],
   "source": [
    "union(a, b)"
   ]
  },
  {
   "cell_type": "code",
   "execution_count": 13,
   "metadata": {},
   "outputs": [],
   "source": [
    "m = {1, 3, 5} ; n = {1, 5, 7, 9}"
   ]
  },
  {
   "cell_type": "code",
   "execution_count": 14,
   "metadata": {},
   "outputs": [
    {
     "data": {
      "text/plain": [
       "[1, 3, 5, 7, 9]"
      ]
     },
     "execution_count": 14,
     "metadata": {},
     "output_type": "execute_result"
    }
   ],
   "source": [
    "union(m, n)"
   ]
  },
  {
   "cell_type": "markdown",
   "metadata": {},
   "source": [
    "[문제62] (리스트, 튜플, 셋 등 타입에 상관없이 활용 가능한) union_all 함수를 생성하세요."
   ]
  },
  {
   "cell_type": "code",
   "execution_count": 37,
   "metadata": {},
   "outputs": [],
   "source": [
    "def union_all(arg1, arg2):\n",
    "    u = []\n",
    "    u.extend(list(arg1))\n",
    "    u.extend(list(arg2))\n",
    "    u.sort()\n",
    "    return u\n",
    "# + 연산자는 set에서는 돌아가지 않음\n",
    "# list(arg1) + list(arg2)\n",
    "\n",
    "# u + arg1은 '미리보기'이므로 u에 다시 할당해야 함\n",
    "# u.extend(arg1) <=> u = u + arg1 \n",
    "\n",
    "# u + arg2는 '미리보기'이므로 u에 다시 할당해야 함\n",
    "# u.extend(arg2) <=> u = u + arg2 "
   ]
  },
  {
   "cell_type": "code",
   "execution_count": 44,
   "metadata": {},
   "outputs": [
    {
     "data": {
      "text/plain": [
       "[1, 1, 2, 2, 3, 4, 5, 6, 7]"
      ]
     },
     "execution_count": 44,
     "metadata": {},
     "output_type": "execute_result"
    }
   ],
   "source": [
    "union_all(x, y)"
   ]
  },
  {
   "cell_type": "code",
   "execution_count": 45,
   "metadata": {},
   "outputs": [
    {
     "data": {
      "text/plain": [
       "[1, 1, 2, 2, 3, 4, 5, 6, 7]"
      ]
     },
     "execution_count": 45,
     "metadata": {},
     "output_type": "execute_result"
    }
   ],
   "source": [
    "union_all(a, b)"
   ]
  },
  {
   "cell_type": "code",
   "execution_count": 46,
   "metadata": {},
   "outputs": [
    {
     "data": {
      "text/plain": [
       "[1, 1, 3, 5, 5, 7, 9]"
      ]
     },
     "execution_count": 46,
     "metadata": {},
     "output_type": "execute_result"
    }
   ],
   "source": [
    "union_all(m, n)"
   ]
  },
  {
   "cell_type": "code",
   "execution_count": null,
   "metadata": {},
   "outputs": [],
   "source": [
    "def union_all(arg1, arg2):\n",
    "    if isinstance(arg1, list) and isinstance(arg2, list):\n",
    "        arg1.extend(arg2)\n",
    "    else:\n",
    "        arg1 = list(arg1)\n",
    "        arg2 = list(arg2)\n",
    "        arg1.extend(arg2)\n",
    "    arg1.sort()\n",
    "    return arg1"
   ]
  },
  {
   "cell_type": "markdown",
   "metadata": {},
   "source": [
    "list에 대한 함수를 tuple이나 set에 적용할 수 없음"
   ]
  },
  {
   "cell_type": "code",
   "execution_count": 28,
   "metadata": {},
   "outputs": [],
   "source": [
    "a = (1, 2, 3, 4, 5)"
   ]
  },
  {
   "cell_type": "code",
   "execution_count": 29,
   "metadata": {},
   "outputs": [],
   "source": [
    "b = (1, 2, 6, 7)"
   ]
  },
  {
   "cell_type": "code",
   "execution_count": 30,
   "metadata": {},
   "outputs": [
    {
     "ename": "AttributeError",
     "evalue": "'tuple' object has no attribute 'extend'",
     "output_type": "error",
     "traceback": [
      "\u001b[1;31m---------------------------------------------------------------------------\u001b[0m",
      "\u001b[1;31mAttributeError\u001b[0m                            Traceback (most recent call last)",
      "\u001b[1;32m<ipython-input-30-bbd3017944bb>\u001b[0m in \u001b[0;36m<module>\u001b[1;34m\u001b[0m\n\u001b[1;32m----> 1\u001b[1;33m \u001b[0ma\u001b[0m\u001b[1;33m.\u001b[0m\u001b[0mextend\u001b[0m\u001b[1;33m(\u001b[0m\u001b[0mb\u001b[0m\u001b[1;33m)\u001b[0m\u001b[1;33m\u001b[0m\u001b[1;33m\u001b[0m\u001b[0m\n\u001b[0m",
      "\u001b[1;31mAttributeError\u001b[0m: 'tuple' object has no attribute 'extend'"
     ]
    }
   ],
   "source": [
    "a.extend(b)"
   ]
  },
  {
   "cell_type": "code",
   "execution_count": 31,
   "metadata": {},
   "outputs": [
    {
     "data": {
      "text/plain": [
       "(1, 2, 3, 4, 5, 1, 2, 6, 7)"
      ]
     },
     "execution_count": 31,
     "metadata": {},
     "output_type": "execute_result"
    }
   ],
   "source": [
    "a + b"
   ]
  },
  {
   "cell_type": "code",
   "execution_count": 32,
   "metadata": {},
   "outputs": [
    {
     "data": {
      "text/plain": [
       "(1, 2, 3, 4, 5)"
      ]
     },
     "execution_count": 32,
     "metadata": {},
     "output_type": "execute_result"
    }
   ],
   "source": [
    "list(a).extend(list(b)); a"
   ]
  },
  {
   "cell_type": "code",
   "execution_count": 33,
   "metadata": {},
   "outputs": [],
   "source": [
    "a1 = list(a) ; b1 = list(b)"
   ]
  },
  {
   "cell_type": "code",
   "execution_count": 34,
   "metadata": {},
   "outputs": [
    {
     "data": {
      "text/plain": [
       "[1, 2, 3, 4, 5, 1, 2, 6, 7]"
      ]
     },
     "execution_count": 34,
     "metadata": {},
     "output_type": "execute_result"
    }
   ],
   "source": [
    "a1.extend(b1) ; a1"
   ]
  },
  {
   "cell_type": "code",
   "execution_count": 35,
   "metadata": {},
   "outputs": [],
   "source": [
    "a1.sort()"
   ]
  },
  {
   "cell_type": "code",
   "execution_count": 36,
   "metadata": {},
   "outputs": [
    {
     "data": {
      "text/plain": [
       "[1, 1, 2, 2, 3, 4, 5, 6, 7]"
      ]
     },
     "execution_count": 36,
     "metadata": {},
     "output_type": "execute_result"
    }
   ],
   "source": [
    "a1"
   ]
  },
  {
   "cell_type": "markdown",
   "metadata": {},
   "source": [
    "#### isinstance\n",
    "- isinstance(var, type): variable이 지정된 type인지 확인하는 함수"
   ]
  },
  {
   "cell_type": "code",
   "execution_count": 47,
   "metadata": {},
   "outputs": [],
   "source": [
    "l = [] ;\n",
    "t = () ;\n",
    "d = {} ;\n",
    "s = set()"
   ]
  },
  {
   "cell_type": "code",
   "execution_count": 48,
   "metadata": {},
   "outputs": [
    {
     "data": {
      "text/plain": [
       "True"
      ]
     },
     "execution_count": 48,
     "metadata": {},
     "output_type": "execute_result"
    }
   ],
   "source": [
    "isinstance(l, list)"
   ]
  },
  {
   "cell_type": "code",
   "execution_count": 49,
   "metadata": {},
   "outputs": [
    {
     "data": {
      "text/plain": [
       "True"
      ]
     },
     "execution_count": 49,
     "metadata": {},
     "output_type": "execute_result"
    }
   ],
   "source": [
    "isinstance(t, tuple)"
   ]
  },
  {
   "cell_type": "code",
   "execution_count": 50,
   "metadata": {},
   "outputs": [
    {
     "data": {
      "text/plain": [
       "True"
      ]
     },
     "execution_count": 50,
     "metadata": {},
     "output_type": "execute_result"
    }
   ],
   "source": [
    "isinstance(d, dict)"
   ]
  },
  {
   "cell_type": "code",
   "execution_count": 51,
   "metadata": {},
   "outputs": [
    {
     "data": {
      "text/plain": [
       "True"
      ]
     },
     "execution_count": 51,
     "metadata": {},
     "output_type": "execute_result"
    }
   ],
   "source": [
    "isinstance(s, set)"
   ]
  },
  {
   "cell_type": "markdown",
   "metadata": {},
   "source": [
    "##### 문제"
   ]
  },
  {
   "cell_type": "markdown",
   "metadata": {},
   "source": [
    "[문제64] 교집합 함수를 생성하세요"
   ]
  },
  {
   "cell_type": "code",
   "execution_count": 55,
   "metadata": {},
   "outputs": [],
   "source": [
    "def intersection(arg1, arg2):\n",
    "    its = []\n",
    "    for i in arg1:\n",
    "        if i in arg2:\n",
    "            its.append(i)\n",
    "    its.sort()\n",
    "    return its"
   ]
  },
  {
   "cell_type": "code",
   "execution_count": 56,
   "metadata": {},
   "outputs": [
    {
     "data": {
      "text/plain": [
       "[1, 2]"
      ]
     },
     "execution_count": 56,
     "metadata": {},
     "output_type": "execute_result"
    }
   ],
   "source": [
    "intersection(x, y)"
   ]
  },
  {
   "cell_type": "markdown",
   "metadata": {},
   "source": [
    "[문제65] 차집합 함수를 생성하세요."
   ]
  },
  {
   "cell_type": "code",
   "execution_count": 58,
   "metadata": {},
   "outputs": [],
   "source": [
    "def minus(arg1, arg2):\n",
    "    m = []\n",
    "    for i in arg1:\n",
    "        if i not in arg2:\n",
    "            m.append(i)\n",
    "    m.sort()\n",
    "    return m"
   ]
  },
  {
   "cell_type": "code",
   "execution_count": 59,
   "metadata": {},
   "outputs": [
    {
     "data": {
      "text/plain": [
       "[3, 4, 5]"
      ]
     },
     "execution_count": 59,
     "metadata": {},
     "output_type": "execute_result"
    }
   ],
   "source": [
    "minus(x, y)"
   ]
  },
  {
   "cell_type": "markdown",
   "metadata": {},
   "source": [
    "[문제66] 약수를 찾는 divisor 함수를 생성하세요.\n",
    "* 약수: 어떤 정수를 나누어떨어지게 하는 0이 아닌 정수. 일반적으로 양의 정수만을 포함한다."
   ]
  },
  {
   "cell_type": "code",
   "execution_count": 69,
   "metadata": {},
   "outputs": [],
   "source": [
    "def divisor(arg):\n",
    "    d = []\n",
    "    for i in range(1, arg+1):\n",
    "        if (arg % i) == 0:\n",
    "            d.append(i)\n",
    "    return d"
   ]
  },
  {
   "cell_type": "code",
   "execution_count": 70,
   "metadata": {},
   "outputs": [
    {
     "data": {
      "text/plain": [
       "[1, 2, 4, 8]"
      ]
     },
     "execution_count": 70,
     "metadata": {},
     "output_type": "execute_result"
    }
   ],
   "source": [
    "divisor(8)"
   ]
  },
  {
   "cell_type": "code",
   "execution_count": 84,
   "metadata": {},
   "outputs": [],
   "source": [
    "def divis(arg):\n",
    "    for i in range(1, arg+1):\n",
    "        if arg % i == 0:\n",
    "            print(i, end=' ')"
   ]
  },
  {
   "cell_type": "code",
   "execution_count": 85,
   "metadata": {},
   "outputs": [
    {
     "name": "stdout",
     "output_type": "stream",
     "text": [
      "1 2 4 8 16 32 "
     ]
    }
   ],
   "source": [
    "divis(32)"
   ]
  },
  {
   "cell_type": "code",
   "execution_count": 92,
   "metadata": {},
   "outputs": [],
   "source": [
    "def div(arg):\n",
    "    for i in range(1, int(arg/2+1)):\n",
    "        if arg % i == 0:\n",
    "            print(i, end=' ')\n",
    "    print(arg)\n",
    "# 원래 숫자를 제외하고는 2로 나눈 숫자가 가장 큰 약수이므로 2로 나눈 숫자보다 큰 숫자들은 for문을 돌리는 데 필요가 없음\n",
    "# 범위를 2로 나눈 숫자까지만 제한하고 나중에 원래 숫자를 추가하는 식으로 loop 횟수 줄이는 것이 더 효율적"
   ]
  },
  {
   "cell_type": "code",
   "execution_count": 93,
   "metadata": {},
   "outputs": [
    {
     "name": "stdout",
     "output_type": "stream",
     "text": [
      "1 2 4 8 16 32\n"
     ]
    }
   ],
   "source": [
    "div(32)"
   ]
  },
  {
   "cell_type": "code",
   "execution_count": null,
   "metadata": {},
   "outputs": [],
   "source": [
    "def divs(arg):\n",
    "    z = []\n",
    "    for i in range(1, int(arg/2+1)):\n",
    "        if arg % i == 0:\n",
    "            z.append(i)\n",
    "    z.append(arg)\n",
    "    return z"
   ]
  },
  {
   "cell_type": "markdown",
   "metadata": {},
   "source": [
    "[문제67] factorial 함수를 생성하세요."
   ]
  },
  {
   "cell_type": "code",
   "execution_count": 116,
   "metadata": {},
   "outputs": [],
   "source": [
    "def factorial(arg):\n",
    "    if arg == 0:\n",
    "        f = 1\n",
    "    else:\n",
    "        i = 1\n",
    "        f = arg\n",
    "        while i < arg:\n",
    "            f = f * (arg - i)\n",
    "            i = i+1\n",
    "    return f "
   ]
  },
  {
   "cell_type": "code",
   "execution_count": 117,
   "metadata": {},
   "outputs": [
    {
     "data": {
      "text/plain": [
       "1"
      ]
     },
     "execution_count": 117,
     "metadata": {},
     "output_type": "execute_result"
    }
   ],
   "source": [
    "factorial(0)"
   ]
  },
  {
   "cell_type": "code",
   "execution_count": 111,
   "metadata": {},
   "outputs": [],
   "source": [
    "def fac(arg):\n",
    "    f = 1\n",
    "    for i in range(arg, 0 , -1):\n",
    "        f *= i\n",
    "    return f\n",
    "# arg = 0일 때를 위해서 f를 1로 초기화"
   ]
  },
  {
   "cell_type": "code",
   "execution_count": 118,
   "metadata": {},
   "outputs": [
    {
     "data": {
      "text/plain": [
       "1"
      ]
     },
     "execution_count": 118,
     "metadata": {},
     "output_type": "execute_result"
    }
   ],
   "source": [
    "fac(1)"
   ]
  },
  {
   "cell_type": "code",
   "execution_count": 121,
   "metadata": {},
   "outputs": [],
   "source": [
    "def factorial(arg):\n",
    "    if arg == 1 or arg == 0:\n",
    "        return 1\n",
    "    return arg * factorial(arg-1)\n",
    "# factorial(5) = 5 * factorial(4) = 5 * 4 * factorial(3) = 5 * 4 * 3 * factorial(2) = 5 * 4 * 3 * 2 *factorial(1) = 5 * 4 * 3 * 2 * 1\n",
    "# 재귀 호출\n",
    "# stack 구조"
   ]
  },
  {
   "cell_type": "code",
   "execution_count": 122,
   "metadata": {},
   "outputs": [
    {
     "data": {
      "text/plain": [
       "720"
      ]
     },
     "execution_count": 122,
     "metadata": {},
     "output_type": "execute_result"
    }
   ],
   "source": [
    "factorial(6)"
   ]
  },
  {
   "cell_type": "markdown",
   "metadata": {},
   "source": [
    "*** extra: 여러 집합 연산자에 대해서 함수 만들어보기"
   ]
  },
  {
   "cell_type": "code",
   "execution_count": 78,
   "metadata": {},
   "outputs": [],
   "source": [
    "def max_div(arg1, arg2):\n",
    "    d = []\n",
    "    for i in range(1, min(arg1, arg2)+1, 1):\n",
    "        if (arg1 % i) == 0 and (arg2 % i) == 0:\n",
    "            d.append(i)\n",
    "    return max(d)\n",
    "# 최대공약수"
   ]
  },
  {
   "cell_type": "code",
   "execution_count": 81,
   "metadata": {},
   "outputs": [
    {
     "data": {
      "text/plain": [
       "8"
      ]
     },
     "execution_count": 81,
     "metadata": {},
     "output_type": "execute_result"
    }
   ],
   "source": [
    "max_div(40, 16)"
   ]
  },
  {
   "cell_type": "code",
   "execution_count": 100,
   "metadata": {},
   "outputs": [],
   "source": [
    "def min_mul(arg1, arg2):\n",
    "    m = []\n",
    "    for i in range(1, arg2+1):\n",
    "        for j in range(1, arg1+1):\n",
    "            if arg1 * i == arg2 * j:\n",
    "                m.append(arg1 * i)\n",
    "    return min(m)\n",
    "# 최소공배수"
   ]
  },
  {
   "cell_type": "code",
   "execution_count": 104,
   "metadata": {},
   "outputs": [
    {
     "data": {
      "text/plain": [
       "24"
      ]
     },
     "execution_count": 104,
     "metadata": {},
     "output_type": "execute_result"
    }
   ],
   "source": [
    "min_mul(8, 6)"
   ]
  },
  {
   "cell_type": "markdown",
   "metadata": {},
   "source": [
    "### 재귀호출\n",
    "- 자기 자신을 다시 호출하는 기능\n",
    "- 함수 안에서 자신의 함수를 호출하는 기눙\n",
    "- 반복문 + stack 구조(일방향 작업 처리 - 순차적으로 기록)\n",
    "- 코드의 단순화\n",
    "- break에 대한 제약이 제대로 이루어지지 않으면 무한 루프에 빠질 수 있음 "
   ]
  },
  {
   "cell_type": "markdown",
   "metadata": {},
   "source": [
    "#### stack 구조\n",
    "- 한 쪽 끝에서만 자료를 넣거나 뺄 수 있는 구조 \n",
    "- 바닥에서부터 데이터를 차곡차곡 쌓는 구조\n",
    "- [ ) / ( ] : [열림]. (닫힘)\n",
    "- LIFO(Last in First Out): 후입선출, 마지막으로 들어온 데이터가 제일 먼저 나간다\n",
    "- FILO(First in Last Out): 선입후출, 처음에 들어온 데이터가 제일 마지막에 나간다\n",
    "<br>\n",
    "- push: 마지막 데이터 위치에 데이터를 입력하는 작업\n",
    "- pop: 마지막 데이터 위치의 데이터를 꺼내는 작업(삭제)\n",
    "- top: 제일 최근에 들어간 데이터, 즉 가장 위에 있는 데이터의 위치를 반환하는 작업"
   ]
  },
  {
   "cell_type": "code",
   "execution_count": 150,
   "metadata": {},
   "outputs": [],
   "source": [
    "stack = []"
   ]
  },
  {
   "cell_type": "code",
   "execution_count": 148,
   "metadata": {},
   "outputs": [],
   "source": [
    "def push(n):\n",
    "    global stack\n",
    "    stack.append(n)"
   ]
  },
  {
   "cell_type": "code",
   "execution_count": 149,
   "metadata": {},
   "outputs": [],
   "source": [
    "def pop():\n",
    "    global stack\n",
    "    if len(stack) == 0:\n",
    "        return None\n",
    "    return stack.pop()"
   ]
  },
  {
   "cell_type": "code",
   "execution_count": 151,
   "metadata": {},
   "outputs": [],
   "source": [
    "push(1)"
   ]
  },
  {
   "cell_type": "code",
   "execution_count": 152,
   "metadata": {},
   "outputs": [],
   "source": [
    "push(2)"
   ]
  },
  {
   "cell_type": "code",
   "execution_count": 153,
   "metadata": {},
   "outputs": [],
   "source": [
    "push(3)"
   ]
  },
  {
   "cell_type": "code",
   "execution_count": 154,
   "metadata": {},
   "outputs": [
    {
     "data": {
      "text/plain": [
       "[1, 2, 3]"
      ]
     },
     "execution_count": 154,
     "metadata": {},
     "output_type": "execute_result"
    }
   ],
   "source": [
    "stack"
   ]
  },
  {
   "cell_type": "code",
   "execution_count": 156,
   "metadata": {},
   "outputs": [
    {
     "data": {
      "text/plain": [
       "2"
      ]
     },
     "execution_count": 156,
     "metadata": {},
     "output_type": "execute_result"
    }
   ],
   "source": [
    "pop()"
   ]
  },
  {
   "cell_type": "markdown",
   "metadata": {},
   "source": [
    "def factorial(arg):<br>\n",
    "    if arg == 1 or arg == 0:<br>\n",
    "        return 1<br>\n",
    "    return arg * factorial(arg-1)<br>\n",
    "에서<br>\n",
    "|       1          |   => (pop : 1 = 1)             =>  |    1   |<br>\n",
    "| 2 * factorial(1) |   => (pop : factorial(1) = 1)  =>  |  2 * 1 |<br>\n",
    "| 3 * factorial(2) |   => (pop : factorial(2) = 2)  =>  |  3 * 2 |<br> \n",
    "| 4 * factorial(3) |   => (pop : factorial(3) = 6)  =>  |  4 * 6 |<br>\n",
    "| 5 * factorial(4) |   => (pop : factorial(4) = 24) =>  | 5 * 24 |<br>\n",
    "이런 형식으로 stack 구조 생성"
   ]
  },
  {
   "cell_type": "markdown",
   "metadata": {},
   "source": [
    "[문제68] 최대공약수 함수 gcd(Great Common Divisor)를 생성하세요."
   ]
  },
  {
   "cell_type": "code",
   "execution_count": 157,
   "metadata": {},
   "outputs": [],
   "source": [
    "def max_div(arg1, arg2):\n",
    "    d = []\n",
    "    for i in range(1, min(arg1, arg2)+1, 1):\n",
    "        if (arg1 % i) == 0 and (arg2 % i) == 0:\n",
    "            d.append(i)\n",
    "    return max(d)"
   ]
  },
  {
   "cell_type": "code",
   "execution_count": null,
   "metadata": {},
   "outputs": [],
   "source": [
    "def intersection(arg1, arg2):\n",
    "    its = []\n",
    "    for i in arg1:\n",
    "        if i in arg2:\n",
    "            its.append(i)\n",
    "    its.sort()\n",
    "    return its"
   ]
  },
  {
   "cell_type": "code",
   "execution_count": null,
   "metadata": {},
   "outputs": [],
   "source": [
    "def max(arg1):\n",
    "    max = 0\n",
    "    for i in arg1:\n",
    "        if max < i:\n",
    "            max = i\n",
    "    return max\n",
    "# max 함수는 python에 내장되어 있기는 함"
   ]
  },
  {
   "cell_type": "code",
   "execution_count": 175,
   "metadata": {},
   "outputs": [],
   "source": [
    "def divs(arg):\n",
    "    z = []\n",
    "    for i in range(1, int(arg/2+1)):\n",
    "        if arg % i == 0:\n",
    "            z.append(i)\n",
    "    z.append(arg)\n",
    "    return z"
   ]
  },
  {
   "cell_type": "code",
   "execution_count": 176,
   "metadata": {},
   "outputs": [],
   "source": [
    "def max_divs(arg1, arg2):\n",
    "    d1 = divs(arg1)\n",
    "    d2 = divs(arg2)\n",
    "    d = intersection(d1, d2)\n",
    "    return max(d)\n",
    "# 위에서 만든 intersection 함수"
   ]
  },
  {
   "cell_type": "code",
   "execution_count": 178,
   "metadata": {},
   "outputs": [
    {
     "data": {
      "text/plain": [
       "4"
      ]
     },
     "execution_count": 178,
     "metadata": {},
     "output_type": "execute_result"
    }
   ],
   "source": [
    "max_divs(100, 28)"
   ]
  },
  {
   "cell_type": "markdown",
   "metadata": {},
   "source": [
    "*** 최대공약수 유클리드 계산법\n",
    "x % y = 나머지<br>\n",
    "<br>\n",
    "* 24와 18의 최대공약수\n",
    "24 % 18 = 6<br>\n",
    "     18 % 6 = 0 <br>\n",
    "          6 % 0 : y값이 0이 되면 x값 return<br>\n",
    "<br>\n",
    "* 100과 28의 최대공약수\n",
    "100 % 28 = 16<br>\n",
    "      28 % 16 = 12<br>\n",
    "           16 % 12 = 4<br>\n",
    "                12 % 4 = 0<br>\n",
    "                      4 % 0 : y값의 0이 되면 x값 return<br>"
   ]
  },
  {
   "cell_type": "code",
   "execution_count": null,
   "metadata": {},
   "outputs": [],
   "source": [
    "def gcd2(arg1, arg2):\n",
    "    while TRUE:\n",
    "        a = arg1 % arg2\n",
    "        arg1 = arg2\n",
    "        arg2 = a\n",
    "        if a == 0:\n",
    "            break\n",
    "    return arg1"
   ]
  },
  {
   "cell_type": "code",
   "execution_count": 180,
   "metadata": {},
   "outputs": [],
   "source": [
    "def gcd(arg1, arg2):\n",
    "    if x < y:\n",
    "        x, y = y, x\n",
    "    while y != 0:\n",
    "        a = arg1 % arg2\n",
    "        arg1 = arg2\n",
    "        arg2 = a\n",
    "    return arg1\n",
    "# 일반적으로 큰 수에서 작은 수로 나누면서 나머지를 구하므로 if절 조건을 통해서 순서 변경\n",
    "# 순서를 바꾸지 않아도 한 단계만 더 거치면 되므로 생략해도 무방\n",
    "# 100 % 28 <=> 28 % 100 = 28 -> 100 % 28\n",
    "# 조건을 y != 0으로 두면 break 필요 없음"
   ]
  },
  {
   "cell_type": "code",
   "execution_count": 184,
   "metadata": {},
   "outputs": [
    {
     "data": {
      "text/plain": [
       "25"
      ]
     },
     "execution_count": 184,
     "metadata": {},
     "output_type": "execute_result"
    }
   ],
   "source": [
    "gcd(25, 100)"
   ]
  },
  {
   "cell_type": "code",
   "execution_count": 185,
   "metadata": {},
   "outputs": [],
   "source": [
    "def gcd3(arg1, arg2):\n",
    "    if arg2 == 0:\n",
    "        return arg1\n",
    "    return gcd3(arg2, arg1%arg2)\n",
    "# 재귀 호출 이용"
   ]
  },
  {
   "cell_type": "code",
   "execution_count": 187,
   "metadata": {},
   "outputs": [
    {
     "data": {
      "text/plain": [
       "4"
      ]
     },
     "execution_count": 187,
     "metadata": {},
     "output_type": "execute_result"
    }
   ],
   "source": [
    "gcd3(28, 100)"
   ]
  },
  {
   "cell_type": "code",
   "execution_count": null,
   "metadata": {},
   "outputs": [],
   "source": []
  }
 ],
 "metadata": {
  "kernelspec": {
   "display_name": "Python 3",
   "language": "python",
   "name": "python3"
  },
  "language_info": {
   "codemirror_mode": {
    "name": "ipython",
    "version": 3
   },
   "file_extension": ".py",
   "mimetype": "text/x-python",
   "name": "python",
   "nbconvert_exporter": "python",
   "pygments_lexer": "ipython3",
   "version": "3.7.4"
  }
 },
 "nbformat": 4,
 "nbformat_minor": 2
}
