{
 "cells": [
  {
   "cell_type": "markdown",
   "metadata": {},
   "source": [
    "[문제69] 표준편차를 구하는 stddev 함수를 생성하세요<br>\n",
    "<br>++ 참고 ++ <br>\n",
    "sumF: 관측값의 합<br>\n",
    "len: 관측값의 수<br>\n",
    "mean: 관측값의 합 / 관측값의 수<br>\n",
    "dev: 관측값 - 평균<br>\n",
    "devsum: 편차제곱합 ; sum(dev^2)<br>\n",
    "var: 편차제곱합 / 관측값의 수 - 1 (i.e 자유도)<br>\n",
    "stddev: 표준편차  = math.sqrt(std)"
   ]
  },
  {
   "cell_type": "code",
   "execution_count": 2,
   "metadata": {},
   "outputs": [],
   "source": [
    "import math"
   ]
  },
  {
   "cell_type": "code",
   "execution_count": 19,
   "metadata": {},
   "outputs": [],
   "source": [
    "x = [1, 2, 3, 4, 5]"
   ]
  },
  {
   "cell_type": "code",
   "execution_count": 20,
   "metadata": {},
   "outputs": [
    {
     "data": {
      "text/plain": [
       "15"
      ]
     },
     "execution_count": 20,
     "metadata": {},
     "output_type": "execute_result"
    }
   ],
   "source": [
    "sum(x)"
   ]
  },
  {
   "cell_type": "code",
   "execution_count": 5,
   "metadata": {},
   "outputs": [],
   "source": [
    "def sumF(arg):\n",
    "    sumP = 0\n",
    "    for i in arg:\n",
    "        sumP = sumP + i\n",
    "    return sumP"
   ]
  },
  {
   "cell_type": "code",
   "execution_count": 21,
   "metadata": {},
   "outputs": [
    {
     "data": {
      "text/plain": [
       "15"
      ]
     },
     "execution_count": 21,
     "metadata": {},
     "output_type": "execute_result"
    }
   ],
   "source": [
    "sumF(x)"
   ]
  },
  {
   "cell_type": "code",
   "execution_count": 10,
   "metadata": {},
   "outputs": [],
   "source": [
    "def mean(arg):\n",
    "    mu = sumF(arg) / len(arg)\n",
    "    return mu"
   ]
  },
  {
   "cell_type": "code",
   "execution_count": 22,
   "metadata": {},
   "outputs": [
    {
     "data": {
      "text/plain": [
       "3.0"
      ]
     },
     "execution_count": 22,
     "metadata": {},
     "output_type": "execute_result"
    }
   ],
   "source": [
    "mean(x)"
   ]
  },
  {
   "cell_type": "code",
   "execution_count": 14,
   "metadata": {},
   "outputs": [],
   "source": [
    "def variance(arg):\n",
    "    devsum = 0\n",
    "    for i in arg:\n",
    "        devsum = devsum + (i - mean(arg)) ** 2\n",
    "    var = devsum / (len(arg) - 1)\n",
    "    return var"
   ]
  },
  {
   "cell_type": "code",
   "execution_count": 23,
   "metadata": {},
   "outputs": [
    {
     "data": {
      "text/plain": [
       "2.5"
      ]
     },
     "execution_count": 23,
     "metadata": {},
     "output_type": "execute_result"
    }
   ],
   "source": [
    "variance(x)"
   ]
  },
  {
   "cell_type": "code",
   "execution_count": 16,
   "metadata": {},
   "outputs": [],
   "source": [
    "def stddev(arg):\n",
    "    std = math.sqrt(variance(arg))\n",
    "    return std"
   ]
  },
  {
   "cell_type": "code",
   "execution_count": 24,
   "metadata": {},
   "outputs": [
    {
     "data": {
      "text/plain": [
       "1.5811388300841898"
      ]
     },
     "execution_count": 24,
     "metadata": {},
     "output_type": "execute_result"
    }
   ],
   "source": [
    "stddev(x)"
   ]
  },
  {
   "cell_type": "code",
   "execution_count": 25,
   "metadata": {},
   "outputs": [],
   "source": [
    "def std(arg):\n",
    "    sumF = 0\n",
    "    for i in arg:\n",
    "        sumF = sumF + i\n",
    "    cnt = len(arg)\n",
    "    mean = sumF / cnt\n",
    "    devsum = 0 \n",
    "    for i in arg:\n",
    "        devsum = devsum + (i - mean) ** 2\n",
    "    var = devsum / (cnt - 1)\n",
    "    stdv = math.sqrt(var)\n",
    "    return stdv"
   ]
  },
  {
   "cell_type": "code",
   "execution_count": 26,
   "metadata": {},
   "outputs": [
    {
     "data": {
      "text/plain": [
       "1.5811388300841898"
      ]
     },
     "execution_count": 26,
     "metadata": {},
     "output_type": "execute_result"
    }
   ],
   "source": [
    "std(x)"
   ]
  },
  {
   "cell_type": "code",
   "execution_count": 27,
   "metadata": {},
   "outputs": [],
   "source": [
    "y = (1, 2, 3, 4, 5)"
   ]
  },
  {
   "cell_type": "code",
   "execution_count": 32,
   "metadata": {},
   "outputs": [
    {
     "data": {
      "text/plain": [
       "1.5811388300841898"
      ]
     },
     "execution_count": 32,
     "metadata": {},
     "output_type": "execute_result"
    }
   ],
   "source": [
    "stddev(y)"
   ]
  },
  {
   "cell_type": "code",
   "execution_count": 28,
   "metadata": {},
   "outputs": [
    {
     "data": {
      "text/plain": [
       "1.5811388300841898"
      ]
     },
     "execution_count": 28,
     "metadata": {},
     "output_type": "execute_result"
    }
   ],
   "source": [
    "std(y)"
   ]
  },
  {
   "cell_type": "code",
   "execution_count": 29,
   "metadata": {},
   "outputs": [],
   "source": [
    "z = {1, 2, 3, 4, 5}"
   ]
  },
  {
   "cell_type": "code",
   "execution_count": 30,
   "metadata": {},
   "outputs": [
    {
     "data": {
      "text/plain": [
       "1.5811388300841898"
      ]
     },
     "execution_count": 30,
     "metadata": {},
     "output_type": "execute_result"
    }
   ],
   "source": [
    "std(z)"
   ]
  },
  {
   "cell_type": "code",
   "execution_count": 31,
   "metadata": {},
   "outputs": [
    {
     "data": {
      "text/plain": [
       "1.5811388300841898"
      ]
     },
     "execution_count": 31,
     "metadata": {},
     "output_type": "execute_result"
    }
   ],
   "source": [
    "stddev(z)"
   ]
  },
  {
   "cell_type": "markdown",
   "metadata": {},
   "source": [
    "-----"
   ]
  },
  {
   "cell_type": "code",
   "execution_count": 38,
   "metadata": {},
   "outputs": [],
   "source": [
    "def lenF(*arg):\n",
    "    cn = 0\n",
    "    for i in arg:\n",
    "        cn += 1\n",
    "    return cn\n",
    "# *arg: 가변 길이의 input\n",
    "# 함수의 parameter로 *arg를 이용하면 argument들의 수에 구애받지 않음\n",
    "# list가 아닌 input을 다루는 데 있어 len()은 오류가 발생하므로 함수 따로 정의"
   ]
  },
  {
   "cell_type": "code",
   "execution_count": 43,
   "metadata": {},
   "outputs": [
    {
     "ename": "TypeError",
     "evalue": "len() takes exactly one argument (5 given)",
     "output_type": "error",
     "traceback": [
      "\u001b[1;31m---------------------------------------------------------------------------\u001b[0m",
      "\u001b[1;31mTypeError\u001b[0m                                 Traceback (most recent call last)",
      "\u001b[1;32m<ipython-input-43-e024f3a38c5c>\u001b[0m in \u001b[0;36m<module>\u001b[1;34m\u001b[0m\n\u001b[1;32m----> 1\u001b[1;33m \u001b[0mlen\u001b[0m\u001b[1;33m(\u001b[0m\u001b[1;36m1\u001b[0m\u001b[1;33m,\u001b[0m\u001b[1;36m2\u001b[0m\u001b[1;33m,\u001b[0m\u001b[1;36m3\u001b[0m\u001b[1;33m,\u001b[0m\u001b[1;36m4\u001b[0m\u001b[1;33m,\u001b[0m\u001b[1;36m5\u001b[0m\u001b[1;33m)\u001b[0m\u001b[1;33m\u001b[0m\u001b[1;33m\u001b[0m\u001b[0m\n\u001b[0m",
      "\u001b[1;31mTypeError\u001b[0m: len() takes exactly one argument (5 given)"
     ]
    }
   ],
   "source": [
    "len(1,2,3,4,5)"
   ]
  },
  {
   "cell_type": "code",
   "execution_count": 39,
   "metadata": {},
   "outputs": [
    {
     "data": {
      "text/plain": [
       "5"
      ]
     },
     "execution_count": 39,
     "metadata": {},
     "output_type": "execute_result"
    }
   ],
   "source": [
    "lenF(1,2,3,4,5)"
   ]
  },
  {
   "cell_type": "code",
   "execution_count": 40,
   "metadata": {},
   "outputs": [],
   "source": [
    "x = (1, 2, 3, 4, 5)"
   ]
  },
  {
   "cell_type": "code",
   "execution_count": 41,
   "metadata": {},
   "outputs": [
    {
     "data": {
      "text/plain": [
       "1"
      ]
     },
     "execution_count": 41,
     "metadata": {},
     "output_type": "execute_result"
    }
   ],
   "source": [
    "lenF(x)"
   ]
  },
  {
   "cell_type": "code",
   "execution_count": 42,
   "metadata": {},
   "outputs": [
    {
     "data": {
      "text/plain": [
       "5"
      ]
     },
     "execution_count": 42,
     "metadata": {},
     "output_type": "execute_result"
    }
   ],
   "source": [
    "lenF(*x)\n",
    "# 리스트를 input으로 넣을 때는 * 붙여야 함"
   ]
  },
  {
   "cell_type": "code",
   "execution_count": 50,
   "metadata": {},
   "outputs": [],
   "source": [
    "def sumF(*arg):\n",
    "    total = 0\n",
    "    for i in arg:\n",
    "        total += i\n",
    "    return total"
   ]
  },
  {
   "cell_type": "code",
   "execution_count": 51,
   "metadata": {},
   "outputs": [
    {
     "data": {
      "text/plain": [
       "15"
      ]
     },
     "execution_count": 51,
     "metadata": {},
     "output_type": "execute_result"
    }
   ],
   "source": [
    "sumF(1,2,3,4,5)"
   ]
  },
  {
   "cell_type": "code",
   "execution_count": 52,
   "metadata": {},
   "outputs": [],
   "source": [
    "def mean(*arg):\n",
    "    return sumF(*arg) / lenF(*arg)"
   ]
  },
  {
   "cell_type": "code",
   "execution_count": 53,
   "metadata": {},
   "outputs": [
    {
     "data": {
      "text/plain": [
       "3.0"
      ]
     },
     "execution_count": 53,
     "metadata": {},
     "output_type": "execute_result"
    }
   ],
   "source": [
    "mean(1,2,3,4,5)"
   ]
  },
  {
   "cell_type": "code",
   "execution_count": 46,
   "metadata": {},
   "outputs": [],
   "source": [
    "def variance(*arg):\n",
    "    total = 0\n",
    "    m = mean(*arg)\n",
    "    for i in arg:\n",
    "        total += (i - m) ** 2\n",
    "    return total / (lenF(*arg) - 1)\n",
    "# 표본분산"
   ]
  },
  {
   "cell_type": "code",
   "execution_count": 54,
   "metadata": {},
   "outputs": [
    {
     "data": {
      "text/plain": [
       "2.5"
      ]
     },
     "execution_count": 54,
     "metadata": {},
     "output_type": "execute_result"
    }
   ],
   "source": [
    "variance(1,2,3,4,5)"
   ]
  },
  {
   "cell_type": "code",
   "execution_count": 47,
   "metadata": {},
   "outputs": [],
   "source": [
    "def stddev(*arg):\n",
    "    return math.sqrt(variance(*arg))"
   ]
  },
  {
   "cell_type": "code",
   "execution_count": 55,
   "metadata": {},
   "outputs": [
    {
     "data": {
      "text/plain": [
       "1.5811388300841898"
      ]
     },
     "execution_count": 55,
     "metadata": {},
     "output_type": "execute_result"
    }
   ],
   "source": [
    "stddev(1,2,3,4,5)"
   ]
  },
  {
   "cell_type": "markdown",
   "metadata": {},
   "source": [
    "-----"
   ]
  },
  {
   "cell_type": "code",
   "execution_count": 56,
   "metadata": {},
   "outputs": [],
   "source": [
    "import sys"
   ]
  },
  {
   "cell_type": "code",
   "execution_count": 69,
   "metadata": {},
   "outputs": [
    {
     "data": {
      "text/plain": [
       "['C:\\\\Users\\\\knit',\n",
       " 'C:\\\\Users\\\\knit\\\\Anaconda3\\\\python37.zip',\n",
       " 'C:\\\\Users\\\\knit\\\\Anaconda3\\\\DLLs',\n",
       " 'C:\\\\Users\\\\knit\\\\Anaconda3\\\\lib',\n",
       " 'C:\\\\Users\\\\knit\\\\Anaconda3',\n",
       " '',\n",
       " 'C:\\\\Users\\\\knit\\\\Anaconda3\\\\lib\\\\site-packages',\n",
       " 'C:\\\\Users\\\\knit\\\\Anaconda3\\\\lib\\\\site-packages\\\\win32',\n",
       " 'C:\\\\Users\\\\knit\\\\Anaconda3\\\\lib\\\\site-packages\\\\win32\\\\lib',\n",
       " 'C:\\\\Users\\\\knit\\\\Anaconda3\\\\lib\\\\site-packages\\\\Pythonwin',\n",
       " 'C:\\\\Users\\\\knit\\\\Anaconda3\\\\lib\\\\site-packages\\\\IPython\\\\extensions',\n",
       " 'C:\\\\Users\\\\knit\\\\.ipython',\n",
       " 'C:\\\\python2020',\n",
       " 'C:\\\\python2020']"
      ]
     },
     "execution_count": 69,
     "metadata": {},
     "output_type": "execute_result"
    }
   ],
   "source": [
    "sys.path"
   ]
  },
  {
   "cell_type": "code",
   "execution_count": 62,
   "metadata": {},
   "outputs": [],
   "source": [
    "sys.path.append('C:\\\\python2020')"
   ]
  },
  {
   "cell_type": "code",
   "execution_count": 71,
   "metadata": {},
   "outputs": [],
   "source": [
    "import stats\n",
    "# 파일 - 옵션 - 보기 - 파일 및 폴더 - '알려진 파일 형식의 파일 확장명 숨기기' 해제\n",
    "# 자주 사용하는 코드들을 저장해놓고 import로 불러들이기"
   ]
  },
  {
   "cell_type": "code",
   "execution_count": 72,
   "metadata": {},
   "outputs": [
    {
     "data": {
      "text/plain": [
       "['__builtins__',\n",
       " '__cached__',\n",
       " '__doc__',\n",
       " '__file__',\n",
       " '__loader__',\n",
       " '__name__',\n",
       " '__package__',\n",
       " '__spec__',\n",
       " 'lenF',\n",
       " 'math',\n",
       " 'mean',\n",
       " 'stddev',\n",
       " 'sumF',\n",
       " 'variance']"
      ]
     },
     "execution_count": 72,
     "metadata": {},
     "output_type": "execute_result"
    }
   ],
   "source": [
    "dir(stats)"
   ]
  },
  {
   "cell_type": "code",
   "execution_count": 74,
   "metadata": {},
   "outputs": [
    {
     "data": {
      "text/plain": [
       "15"
      ]
     },
     "execution_count": 74,
     "metadata": {},
     "output_type": "execute_result"
    }
   ],
   "source": [
    "stats.sumF(1,2,3,4,5)\n",
    "# library.function 형태로 사용"
   ]
  },
  {
   "cell_type": "code",
   "execution_count": 80,
   "metadata": {},
   "outputs": [
    {
     "ename": "NameError",
     "evalue": "name 'stats' is not defined",
     "output_type": "error",
     "traceback": [
      "\u001b[1;31m---------------------------------------------------------------------------\u001b[0m",
      "\u001b[1;31mNameError\u001b[0m                                 Traceback (most recent call last)",
      "\u001b[1;32m<ipython-input-80-505eb33e1e04>\u001b[0m in \u001b[0;36m<module>\u001b[1;34m\u001b[0m\n\u001b[1;32m----> 1\u001b[1;33m \u001b[1;32mdel\u001b[0m \u001b[0mstats\u001b[0m\u001b[1;33m\u001b[0m\u001b[1;33m\u001b[0m\u001b[0m\n\u001b[0m\u001b[0;32m      2\u001b[0m \u001b[1;31m# 메모리에서 stats 제거\u001b[0m\u001b[1;33m\u001b[0m\u001b[1;33m\u001b[0m\u001b[1;33m\u001b[0m\u001b[0m\n",
      "\u001b[1;31mNameError\u001b[0m: name 'stats' is not defined"
     ]
    }
   ],
   "source": [
    "del stats\n",
    "# 메모리에서 stats 제거"
   ]
  },
  {
   "cell_type": "code",
   "execution_count": 76,
   "metadata": {},
   "outputs": [],
   "source": [
    "from stats import *\n",
    "# library 내 모든 method import"
   ]
  },
  {
   "cell_type": "code",
   "execution_count": 77,
   "metadata": {},
   "outputs": [
    {
     "data": {
      "text/plain": [
       "6"
      ]
     },
     "execution_count": 77,
     "metadata": {},
     "output_type": "execute_result"
    }
   ],
   "source": [
    "sumF(1,2,3)\n",
    "# function 이름으로만 사용 가능"
   ]
  },
  {
   "cell_type": "code",
   "execution_count": 78,
   "metadata": {},
   "outputs": [],
   "source": [
    "from stats import variance\n",
    "# 일부 method만 import"
   ]
  },
  {
   "cell_type": "code",
   "execution_count": 81,
   "metadata": {},
   "outputs": [
    {
     "data": {
      "text/plain": [
       "1.0"
      ]
     },
     "execution_count": 81,
     "metadata": {},
     "output_type": "execute_result"
    }
   ],
   "source": [
    "variance(1,2,3)\n",
    "# 다른 함수들이랑 연결되어 있기 때문에 안 돌아갈 수도 있음"
   ]
  },
  {
   "cell_type": "code",
   "execution_count": 82,
   "metadata": {},
   "outputs": [],
   "source": [
    "sys.path.remove('C:\\\\python2020')"
   ]
  },
  {
   "cell_type": "code",
   "execution_count": 87,
   "metadata": {},
   "outputs": [],
   "source": [
    "from setfunc import *"
   ]
  },
  {
   "cell_type": "code",
   "execution_count": 88,
   "metadata": {},
   "outputs": [
    {
     "data": {
      "text/plain": [
       "[1]"
      ]
     },
     "execution_count": 88,
     "metadata": {},
     "output_type": "execute_result"
    }
   ],
   "source": [
    "minus([1,2,3], [2,3,4])"
   ]
  },
  {
   "cell_type": "code",
   "execution_count": 91,
   "metadata": {},
   "outputs": [],
   "source": [
    "import datetime as dt"
   ]
  },
  {
   "cell_type": "code",
   "execution_count": 92,
   "metadata": {},
   "outputs": [
    {
     "data": {
      "text/plain": [
       "datetime.date(2020, 2, 25)"
      ]
     },
     "execution_count": 92,
     "metadata": {},
     "output_type": "execute_result"
    }
   ],
   "source": [
    "dt.date.today()\n",
    "# sysdate - yyyy, mm, dd"
   ]
  },
  {
   "cell_type": "code",
   "execution_count": 93,
   "metadata": {},
   "outputs": [
    {
     "data": {
      "text/plain": [
       "datetime.datetime(2020, 2, 25, 11, 57, 34, 558072)"
      ]
     },
     "execution_count": 93,
     "metadata": {},
     "output_type": "execute_result"
    }
   ],
   "source": [
    "dt.datetime.now()\n",
    "# sysdate - yyyy, mm, dd, hh, mi, ss, ssssss(micro second)"
   ]
  },
  {
   "cell_type": "code",
   "execution_count": 94,
   "metadata": {},
   "outputs": [
    {
     "data": {
      "text/plain": [
       "2020"
      ]
     },
     "execution_count": 94,
     "metadata": {},
     "output_type": "execute_result"
    }
   ],
   "source": [
    "dt.date.today().year"
   ]
  },
  {
   "cell_type": "code",
   "execution_count": 95,
   "metadata": {},
   "outputs": [
    {
     "data": {
      "text/plain": [
       "2"
      ]
     },
     "execution_count": 95,
     "metadata": {},
     "output_type": "execute_result"
    }
   ],
   "source": [
    "dt.date.today().month"
   ]
  },
  {
   "cell_type": "code",
   "execution_count": 96,
   "metadata": {},
   "outputs": [
    {
     "data": {
      "text/plain": [
       "25"
      ]
     },
     "execution_count": 96,
     "metadata": {},
     "output_type": "execute_result"
    }
   ],
   "source": [
    "dt.date.today().day"
   ]
  },
  {
   "cell_type": "code",
   "execution_count": 97,
   "metadata": {},
   "outputs": [
    {
     "data": {
      "text/plain": [
       "12"
      ]
     },
     "execution_count": 97,
     "metadata": {},
     "output_type": "execute_result"
    }
   ],
   "source": [
    "dt.datetime.now().hour"
   ]
  },
  {
   "cell_type": "code",
   "execution_count": 99,
   "metadata": {},
   "outputs": [
    {
     "data": {
      "text/plain": [
       "0"
      ]
     },
     "execution_count": 99,
     "metadata": {},
     "output_type": "execute_result"
    }
   ],
   "source": [
    "dt.datetime.now().minute"
   ]
  },
  {
   "cell_type": "code",
   "execution_count": 100,
   "metadata": {},
   "outputs": [
    {
     "data": {
      "text/plain": [
       "55"
      ]
     },
     "execution_count": 100,
     "metadata": {},
     "output_type": "execute_result"
    }
   ],
   "source": [
    "dt.datetime.now().second"
   ]
  },
  {
   "cell_type": "code",
   "execution_count": 101,
   "metadata": {},
   "outputs": [
    {
     "data": {
      "text/plain": [
       "187758"
      ]
     },
     "execution_count": 101,
     "metadata": {},
     "output_type": "execute_result"
    }
   ],
   "source": [
    "dt.datetime.now().microsecond"
   ]
  },
  {
   "cell_type": "code",
   "execution_count": 103,
   "metadata": {},
   "outputs": [
    {
     "data": {
      "text/plain": [
       "datetime.date(2020, 2, 25)"
      ]
     },
     "execution_count": 103,
     "metadata": {},
     "output_type": "execute_result"
    }
   ],
   "source": [
    "dt.datetime.now().date()"
   ]
  },
  {
   "cell_type": "code",
   "execution_count": 104,
   "metadata": {},
   "outputs": [
    {
     "data": {
      "text/plain": [
       "datetime.time(12, 2, 12, 232517)"
      ]
     },
     "execution_count": 104,
     "metadata": {},
     "output_type": "execute_result"
    }
   ],
   "source": [
    "dt.datetime.now().time()"
   ]
  },
  {
   "cell_type": "code",
   "execution_count": 107,
   "metadata": {},
   "outputs": [
    {
     "data": {
      "text/plain": [
       "1"
      ]
     },
     "execution_count": 107,
     "metadata": {},
     "output_type": "execute_result"
    }
   ],
   "source": [
    "dt.datetime.now().weekday()\n",
    "# 0: 월요일 ~ 6: 일요일"
   ]
  },
  {
   "cell_type": "markdown",
   "metadata": {},
   "source": [
    "[문제70] 오늘 무슨 요일인지 출력해주세요"
   ]
  },
  {
   "cell_type": "code",
   "execution_count": 105,
   "metadata": {},
   "outputs": [],
   "source": [
    "days = [\"월\", \"화\", \"수\", \"목\", \"금\", \"토\", \"일\"]"
   ]
  },
  {
   "cell_type": "code",
   "execution_count": 109,
   "metadata": {},
   "outputs": [
    {
     "data": {
      "text/plain": [
       "'화'"
      ]
     },
     "execution_count": 109,
     "metadata": {},
     "output_type": "execute_result"
    }
   ],
   "source": [
    "days[dt.datetime.now().weekday()]"
   ]
  },
  {
   "cell_type": "code",
   "execution_count": 131,
   "metadata": {},
   "outputs": [],
   "source": [
    "d = dt.datetime.now()"
   ]
  },
  {
   "cell_type": "code",
   "execution_count": 111,
   "metadata": {},
   "outputs": [
    {
     "data": {
      "text/plain": [
       "int"
      ]
     },
     "execution_count": 111,
     "metadata": {},
     "output_type": "execute_result"
    }
   ],
   "source": [
    "type(d.year)"
   ]
  },
  {
   "cell_type": "code",
   "execution_count": 112,
   "metadata": {},
   "outputs": [
    {
     "data": {
      "text/plain": [
       "'02/25/20'"
      ]
     },
     "execution_count": 112,
     "metadata": {},
     "output_type": "execute_result"
    }
   ],
   "source": [
    "d.strftime('%x')\n",
    "# 월/일/연도 - 문자형"
   ]
  },
  {
   "cell_type": "code",
   "execution_count": 132,
   "metadata": {},
   "outputs": [
    {
     "data": {
      "text/plain": [
       "'13:37:33'"
      ]
     },
     "execution_count": 132,
     "metadata": {},
     "output_type": "execute_result"
    }
   ],
   "source": [
    "d.strftime('%X')\n",
    "# 시:분:초 - 문자형"
   ]
  },
  {
   "cell_type": "code",
   "execution_count": 114,
   "metadata": {},
   "outputs": [
    {
     "data": {
      "text/plain": [
       "'2020'"
      ]
     },
     "execution_count": 114,
     "metadata": {},
     "output_type": "execute_result"
    }
   ],
   "source": [
    "d.strftime('%Y')\n",
    "# 연도 네 자리"
   ]
  },
  {
   "cell_type": "code",
   "execution_count": 123,
   "metadata": {},
   "outputs": [
    {
     "data": {
      "text/plain": [
       "'20'"
      ]
     },
     "execution_count": 123,
     "metadata": {},
     "output_type": "execute_result"
    }
   ],
   "source": [
    "d.strftime('%y')\n",
    "# 연도 두 자리"
   ]
  },
  {
   "cell_type": "code",
   "execution_count": 115,
   "metadata": {},
   "outputs": [
    {
     "data": {
      "text/plain": [
       "'02'"
      ]
     },
     "execution_count": 115,
     "metadata": {},
     "output_type": "execute_result"
    }
   ],
   "source": [
    "d.strftime('%m')\n",
    "# 월"
   ]
  },
  {
   "cell_type": "code",
   "execution_count": 116,
   "metadata": {},
   "outputs": [
    {
     "data": {
      "text/plain": [
       "'25'"
      ]
     },
     "execution_count": 116,
     "metadata": {},
     "output_type": "execute_result"
    }
   ],
   "source": [
    "d.strftime('%d')\n",
    "# 일"
   ]
  },
  {
   "cell_type": "code",
   "execution_count": 117,
   "metadata": {},
   "outputs": [
    {
     "data": {
      "text/plain": [
       "'February'"
      ]
     },
     "execution_count": 117,
     "metadata": {},
     "output_type": "execute_result"
    }
   ],
   "source": [
    "d.strftime('%B')\n",
    "# 월 영문"
   ]
  },
  {
   "cell_type": "code",
   "execution_count": 126,
   "metadata": {},
   "outputs": [
    {
     "data": {
      "text/plain": [
       "'Feb'"
      ]
     },
     "execution_count": 126,
     "metadata": {},
     "output_type": "execute_result"
    }
   ],
   "source": [
    "d.strftime('%b')\n",
    "# 월 영문 축약"
   ]
  },
  {
   "cell_type": "code",
   "execution_count": 133,
   "metadata": {},
   "outputs": [
    {
     "data": {
      "text/plain": [
       "'13'"
      ]
     },
     "execution_count": 133,
     "metadata": {},
     "output_type": "execute_result"
    }
   ],
   "source": [
    "d.strftime('%H')\n",
    "# 시간 24H"
   ]
  },
  {
   "cell_type": "code",
   "execution_count": 134,
   "metadata": {},
   "outputs": [
    {
     "data": {
      "text/plain": [
       "'01'"
      ]
     },
     "execution_count": 134,
     "metadata": {},
     "output_type": "execute_result"
    }
   ],
   "source": [
    "d.strftime('%I')\n",
    "# 시간 12H"
   ]
  },
  {
   "cell_type": "code",
   "execution_count": 121,
   "metadata": {},
   "outputs": [
    {
     "data": {
      "text/plain": [
       "'09'"
      ]
     },
     "execution_count": 121,
     "metadata": {},
     "output_type": "execute_result"
    }
   ],
   "source": [
    "d.strftime('%M')\n",
    "# 분"
   ]
  },
  {
   "cell_type": "code",
   "execution_count": 122,
   "metadata": {},
   "outputs": [
    {
     "data": {
      "text/plain": [
       "'11'"
      ]
     },
     "execution_count": 122,
     "metadata": {},
     "output_type": "execute_result"
    }
   ],
   "source": [
    "d.strftime('%S')\n",
    "# 초"
   ]
  },
  {
   "cell_type": "code",
   "execution_count": 135,
   "metadata": {},
   "outputs": [
    {
     "data": {
      "text/plain": [
       "'2020-02-25 13:37:33.186286'"
      ]
     },
     "execution_count": 135,
     "metadata": {},
     "output_type": "execute_result"
    }
   ],
   "source": [
    "d.strftime('%Y-%m-%d %H:%M:%S.%f')"
   ]
  },
  {
   "cell_type": "code",
   "execution_count": 136,
   "metadata": {},
   "outputs": [
    {
     "data": {
      "text/plain": [
       "'Tuesday'"
      ]
     },
     "execution_count": 136,
     "metadata": {},
     "output_type": "execute_result"
    }
   ],
   "source": [
    "d.strftime('%A')\n",
    "# 요일"
   ]
  },
  {
   "cell_type": "code",
   "execution_count": 127,
   "metadata": {},
   "outputs": [
    {
     "data": {
      "text/plain": [
       "'Tue'"
      ]
     },
     "execution_count": 127,
     "metadata": {},
     "output_type": "execute_result"
    }
   ],
   "source": [
    "d.strftime('%a')\n",
    "# 요일 약자"
   ]
  },
  {
   "cell_type": "code",
   "execution_count": 137,
   "metadata": {},
   "outputs": [
    {
     "data": {
      "text/plain": [
       "'Tue Feb 25 13:37:33 2020'"
      ]
     },
     "execution_count": 137,
     "metadata": {},
     "output_type": "execute_result"
    }
   ],
   "source": [
    "d.strftime('%c')\n",
    "# 날짜 시간"
   ]
  },
  {
   "cell_type": "code",
   "execution_count": 138,
   "metadata": {},
   "outputs": [
    {
     "data": {
      "text/plain": [
       "'PM'"
      ]
     },
     "execution_count": 138,
     "metadata": {},
     "output_type": "execute_result"
    }
   ],
   "source": [
    "d.strftime('%p')\n",
    "# AM/PM"
   ]
  },
  {
   "cell_type": "code",
   "execution_count": 139,
   "metadata": {},
   "outputs": [
    {
     "data": {
      "text/plain": [
       "'056'"
      ]
     },
     "execution_count": 139,
     "metadata": {},
     "output_type": "execute_result"
    }
   ],
   "source": [
    "d.strftime('%j')\n",
    "# 연초(1월1일)부터 누적 날짜"
   ]
  },
  {
   "cell_type": "code",
   "execution_count": 140,
   "metadata": {},
   "outputs": [
    {
     "data": {
      "text/plain": [
       "'08'"
      ]
     },
     "execution_count": 140,
     "metadata": {},
     "output_type": "execute_result"
    }
   ],
   "source": [
    "d.strftime('%U')\n",
    "# 연초(1월1일)부터 누적 주 - 일요일 시작"
   ]
  },
  {
   "cell_type": "code",
   "execution_count": 141,
   "metadata": {},
   "outputs": [
    {
     "data": {
      "text/plain": [
       "'08'"
      ]
     },
     "execution_count": 141,
     "metadata": {},
     "output_type": "execute_result"
    }
   ],
   "source": [
    "d.strftime('%W')\n",
    "# 연초(1월1일)부터 누적 주 - 월요일 시작"
   ]
  },
  {
   "cell_type": "code",
   "execution_count": 142,
   "metadata": {},
   "outputs": [
    {
     "data": {
      "text/plain": [
       "'2'"
      ]
     },
     "execution_count": 142,
     "metadata": {},
     "output_type": "execute_result"
    }
   ],
   "source": [
    "d.strftime('%w')\n",
    "# 요일 - 0: 일요일 ~ 6: 토요일"
   ]
  },
  {
   "cell_type": "code",
   "execution_count": 143,
   "metadata": {},
   "outputs": [
    {
     "data": {
      "text/plain": [
       "'2020-02-25'"
      ]
     },
     "execution_count": 143,
     "metadata": {},
     "output_type": "execute_result"
    }
   ],
   "source": [
    "d.strftime('%F')\n",
    "# 연-월-일"
   ]
  },
  {
   "cell_type": "markdown",
   "metadata": {},
   "source": [
    "strftime: date -> str<br>\n",
    "strptime: str -> date<br>"
   ]
  },
  {
   "cell_type": "code",
   "execution_count": 147,
   "metadata": {},
   "outputs": [
    {
     "data": {
      "text/plain": [
       "datetime.datetime(2020, 2, 25, 13, 42)"
      ]
     },
     "execution_count": 147,
     "metadata": {},
     "output_type": "execute_result"
    }
   ],
   "source": [
    "dt.datetime.strptime('2020-02-25 13:42:00', '%Y-%m-%d %H:%M:%S')\n",
    "# to_date"
   ]
  },
  {
   "cell_type": "code",
   "execution_count": 153,
   "metadata": {},
   "outputs": [],
   "source": [
    "d = dt.date(2020,2,25)\n",
    "# str -> datetime ; date"
   ]
  },
  {
   "cell_type": "code",
   "execution_count": 154,
   "metadata": {},
   "outputs": [],
   "source": [
    "t = dt.time(13, 45, 2, 123456)\n",
    "# atr -> datetime ; time"
   ]
  },
  {
   "cell_type": "code",
   "execution_count": 155,
   "metadata": {},
   "outputs": [
    {
     "data": {
      "text/plain": [
       "datetime.datetime(2020, 2, 25, 13, 45, 2, 123456)"
      ]
     },
     "execution_count": 155,
     "metadata": {},
     "output_type": "execute_result"
    }
   ],
   "source": [
    "dt.datetime.combine(d, t)"
   ]
  },
  {
   "cell_type": "code",
   "execution_count": 156,
   "metadata": {},
   "outputs": [
    {
     "data": {
      "text/plain": [
       "datetime.datetime(2020, 2, 25, 0, 0)"
      ]
     },
     "execution_count": 156,
     "metadata": {},
     "output_type": "execute_result"
    }
   ],
   "source": [
    "dt.datetime(2020,2,25)\n",
    "# str -> datetime\n",
    "# 시간에 대한 정보가 없을 경우 0시 0분 default"
   ]
  },
  {
   "cell_type": "code",
   "execution_count": 157,
   "metadata": {},
   "outputs": [
    {
     "data": {
      "text/plain": [
       "datetime.timedelta(days=40)"
      ]
     },
     "execution_count": 157,
     "metadata": {},
     "output_type": "execute_result"
    }
   ],
   "source": [
    "dt.datetime(2020,2,25) - dt.datetime(2020,1,16)"
   ]
  },
  {
   "cell_type": "code",
   "execution_count": 158,
   "metadata": {},
   "outputs": [
    {
     "data": {
      "text/plain": [
       "40"
      ]
     },
     "execution_count": 158,
     "metadata": {},
     "output_type": "execute_result"
    }
   ],
   "source": [
    "(dt.datetime(2020,2,25) - dt.datetime(2020,1,16)).days"
   ]
  },
  {
   "cell_type": "code",
   "execution_count": 159,
   "metadata": {},
   "outputs": [
    {
     "data": {
      "text/plain": [
       "datetime.datetime(2020, 6, 4, 0, 0)"
      ]
     },
     "execution_count": 159,
     "metadata": {},
     "output_type": "execute_result"
    }
   ],
   "source": [
    "dt.datetime(2020,2,25) + dt.timedelta(days =100)"
   ]
  },
  {
   "cell_type": "code",
   "execution_count": 160,
   "metadata": {},
   "outputs": [
    {
     "data": {
      "text/plain": [
       "datetime.datetime(2020, 5, 28, 0, 0)"
      ]
     },
     "execution_count": 160,
     "metadata": {},
     "output_type": "execute_result"
    }
   ],
   "source": [
    "dt.datetime(2020,2,25) + dt.timedelta(93)"
   ]
  },
  {
   "cell_type": "code",
   "execution_count": 161,
   "metadata": {},
   "outputs": [
    {
     "data": {
      "text/plain": [
       "datetime.datetime(2020, 2, 25, 1, 0)"
      ]
     },
     "execution_count": 161,
     "metadata": {},
     "output_type": "execute_result"
    }
   ],
   "source": [
    "dt.datetime(2020,2,25) + dt.timedelta(hours = 1)"
   ]
  },
  {
   "cell_type": "code",
   "execution_count": 162,
   "metadata": {},
   "outputs": [
    {
     "data": {
      "text/plain": [
       "datetime.datetime(2020, 2, 25, 3, 0)"
      ]
     },
     "execution_count": 162,
     "metadata": {},
     "output_type": "execute_result"
    }
   ],
   "source": [
    "dt.datetime(2020,2,25) + dt.timedelta(minutes = 180)"
   ]
  },
  {
   "cell_type": "code",
   "execution_count": 164,
   "metadata": {},
   "outputs": [
    {
     "data": {
      "text/plain": [
       "datetime.datetime(2020, 2, 25, 1, 0)"
      ]
     },
     "execution_count": 164,
     "metadata": {},
     "output_type": "execute_result"
    }
   ],
   "source": [
    "dt.datetime(2020,2,25) + dt.timedelta(seconds = 3600)"
   ]
  },
  {
   "cell_type": "markdown",
   "metadata": {},
   "source": [
    "dt.timedelta로는 날짜, 시간, 분, 초만 계산할 수 있음"
   ]
  },
  {
   "cell_type": "code",
   "execution_count": 166,
   "metadata": {},
   "outputs": [],
   "source": [
    "import time as tm"
   ]
  },
  {
   "cell_type": "code",
   "execution_count": 168,
   "metadata": {},
   "outputs": [
    {
     "data": {
      "text/plain": [
       "1582606591.6281428"
      ]
     },
     "execution_count": 168,
     "metadata": {},
     "output_type": "execute_result"
    }
   ],
   "source": [
    "tm.time()\n",
    "# 1970년 1월 1일 0시 0분 0초를 기준으로 지난 시간을 초 단위로 반환\n",
    "# UTC(Universal TOne Coordinated 세계현정표준시)를 이용해서 실수형태로 반환"
   ]
  },
  {
   "cell_type": "code",
   "execution_count": 169,
   "metadata": {},
   "outputs": [
    {
     "data": {
      "text/plain": [
       "time.struct_time(tm_year=2020, tm_mon=2, tm_mday=25, tm_hour=13, tm_min=58, tm_sec=40, tm_wday=1, tm_yday=56, tm_isdst=0)"
      ]
     },
     "execution_count": 169,
     "metadata": {},
     "output_type": "execute_result"
    }
   ],
   "source": [
    "tm.localtime()"
   ]
  },
  {
   "cell_type": "code",
   "execution_count": 170,
   "metadata": {},
   "outputs": [
    {
     "data": {
      "text/plain": [
       "2020"
      ]
     },
     "execution_count": 170,
     "metadata": {},
     "output_type": "execute_result"
    }
   ],
   "source": [
    "tm.localtime().tm_year"
   ]
  },
  {
   "cell_type": "code",
   "execution_count": 171,
   "metadata": {},
   "outputs": [
    {
     "data": {
      "text/plain": [
       "2"
      ]
     },
     "execution_count": 171,
     "metadata": {},
     "output_type": "execute_result"
    }
   ],
   "source": [
    "tm.localtime().tm_mon"
   ]
  },
  {
   "cell_type": "code",
   "execution_count": 172,
   "metadata": {},
   "outputs": [
    {
     "data": {
      "text/plain": [
       "25"
      ]
     },
     "execution_count": 172,
     "metadata": {},
     "output_type": "execute_result"
    }
   ],
   "source": [
    "tm.localtime().tm_mday"
   ]
  },
  {
   "cell_type": "code",
   "execution_count": 173,
   "metadata": {},
   "outputs": [
    {
     "data": {
      "text/plain": [
       "14"
      ]
     },
     "execution_count": 173,
     "metadata": {},
     "output_type": "execute_result"
    }
   ],
   "source": [
    "tm.localtime().tm_hour"
   ]
  },
  {
   "cell_type": "code",
   "execution_count": 174,
   "metadata": {},
   "outputs": [
    {
     "data": {
      "text/plain": [
       "0"
      ]
     },
     "execution_count": 174,
     "metadata": {},
     "output_type": "execute_result"
    }
   ],
   "source": [
    "tm.localtime().tm_min"
   ]
  },
  {
   "cell_type": "code",
   "execution_count": 175,
   "metadata": {},
   "outputs": [
    {
     "data": {
      "text/plain": [
       "59"
      ]
     },
     "execution_count": 175,
     "metadata": {},
     "output_type": "execute_result"
    }
   ],
   "source": [
    "tm.localtime().tm_sec"
   ]
  },
  {
   "cell_type": "code",
   "execution_count": 176,
   "metadata": {},
   "outputs": [
    {
     "data": {
      "text/plain": [
       "1"
      ]
     },
     "execution_count": 176,
     "metadata": {},
     "output_type": "execute_result"
    }
   ],
   "source": [
    "tm.localtime().tm_wday\n",
    "# 0: 월 ~ 6: 일"
   ]
  },
  {
   "cell_type": "code",
   "execution_count": 177,
   "metadata": {},
   "outputs": [
    {
     "data": {
      "text/plain": [
       "56"
      ]
     },
     "execution_count": 177,
     "metadata": {},
     "output_type": "execute_result"
    }
   ],
   "source": [
    "tm.localtime().tm_yday"
   ]
  },
  {
   "cell_type": "code",
   "execution_count": 178,
   "metadata": {},
   "outputs": [
    {
     "data": {
      "text/plain": [
       "0"
      ]
     },
     "execution_count": 178,
     "metadata": {},
     "output_type": "execute_result"
    }
   ],
   "source": [
    "tm.localtime().tm_isdst\n",
    "# 일광 절약시 - 써머 타임"
   ]
  },
  {
   "cell_type": "code",
   "execution_count": 179,
   "metadata": {},
   "outputs": [
    {
     "data": {
      "text/plain": [
       "'¢¥eCN©öI¡¾©ö C¡ÍA¨ª¨öA'"
      ]
     },
     "execution_count": 179,
     "metadata": {},
     "output_type": "execute_result"
    }
   ],
   "source": [
    "tm.localtime().tm_zone"
   ]
  },
  {
   "cell_type": "code",
   "execution_count": 180,
   "metadata": {},
   "outputs": [
    {
     "data": {
      "text/plain": [
       "'2020 +0900'"
      ]
     },
     "execution_count": 180,
     "metadata": {},
     "output_type": "execute_result"
    }
   ],
   "source": [
    "tm.strftime('%Y %z', tm.localtime())\n",
    "# time.strftime(exp, time_info)"
   ]
  },
  {
   "cell_type": "code",
   "execution_count": 181,
   "metadata": {},
   "outputs": [
    {
     "name": "stdout",
     "output_type": "stream",
     "text": [
      "0\n",
      "1\n",
      "2\n",
      "3\n",
      "4\n",
      "5\n",
      "6\n",
      "7\n",
      "8\n",
      "9\n"
     ]
    }
   ],
   "source": [
    "for i in range(10):\n",
    "    print(i)\n",
    "    time.sleep(2) # 2초 대기 후 다음 작업"
   ]
  },
  {
   "cell_type": "markdown",
   "metadata": {},
   "source": [
    "-----"
   ]
  },
  {
   "cell_type": "code",
   "execution_count": 182,
   "metadata": {},
   "outputs": [],
   "source": [
    "import calendar as cd "
   ]
  },
  {
   "cell_type": "code",
   "execution_count": 184,
   "metadata": {},
   "outputs": [
    {
     "name": "stdout",
     "output_type": "stream",
     "text": [
      "                                  2020\n",
      "\n",
      "      January                   February                   March\n",
      "Mo Tu We Th Fr Sa Su      Mo Tu We Th Fr Sa Su      Mo Tu We Th Fr Sa Su\n",
      "       1  2  3  4  5                      1  2                         1\n",
      " 6  7  8  9 10 11 12       3  4  5  6  7  8  9       2  3  4  5  6  7  8\n",
      "13 14 15 16 17 18 19      10 11 12 13 14 15 16       9 10 11 12 13 14 15\n",
      "20 21 22 23 24 25 26      17 18 19 20 21 22 23      16 17 18 19 20 21 22\n",
      "27 28 29 30 31            24 25 26 27 28 29         23 24 25 26 27 28 29\n",
      "                                                    30 31\n",
      "\n",
      "       April                      May                       June\n",
      "Mo Tu We Th Fr Sa Su      Mo Tu We Th Fr Sa Su      Mo Tu We Th Fr Sa Su\n",
      "       1  2  3  4  5                   1  2  3       1  2  3  4  5  6  7\n",
      " 6  7  8  9 10 11 12       4  5  6  7  8  9 10       8  9 10 11 12 13 14\n",
      "13 14 15 16 17 18 19      11 12 13 14 15 16 17      15 16 17 18 19 20 21\n",
      "20 21 22 23 24 25 26      18 19 20 21 22 23 24      22 23 24 25 26 27 28\n",
      "27 28 29 30               25 26 27 28 29 30 31      29 30\n",
      "\n",
      "        July                     August                  September\n",
      "Mo Tu We Th Fr Sa Su      Mo Tu We Th Fr Sa Su      Mo Tu We Th Fr Sa Su\n",
      "       1  2  3  4  5                      1  2          1  2  3  4  5  6\n",
      " 6  7  8  9 10 11 12       3  4  5  6  7  8  9       7  8  9 10 11 12 13\n",
      "13 14 15 16 17 18 19      10 11 12 13 14 15 16      14 15 16 17 18 19 20\n",
      "20 21 22 23 24 25 26      17 18 19 20 21 22 23      21 22 23 24 25 26 27\n",
      "27 28 29 30 31            24 25 26 27 28 29 30      28 29 30\n",
      "                          31\n",
      "\n",
      "      October                   November                  December\n",
      "Mo Tu We Th Fr Sa Su      Mo Tu We Th Fr Sa Su      Mo Tu We Th Fr Sa Su\n",
      "          1  2  3  4                         1          1  2  3  4  5  6\n",
      " 5  6  7  8  9 10 11       2  3  4  5  6  7  8       7  8  9 10 11 12 13\n",
      "12 13 14 15 16 17 18       9 10 11 12 13 14 15      14 15 16 17 18 19 20\n",
      "19 20 21 22 23 24 25      16 17 18 19 20 21 22      21 22 23 24 25 26 27\n",
      "26 27 28 29 30 31         23 24 25 26 27 28 29      28 29 30 31\n",
      "                          30\n",
      "\n"
     ]
    }
   ],
   "source": [
    "print(cd.calendar(2020))"
   ]
  },
  {
   "cell_type": "code",
   "execution_count": 185,
   "metadata": {},
   "outputs": [
    {
     "name": "stdout",
     "output_type": "stream",
     "text": [
      "                                  2020\n",
      "\n",
      "      January                   February                   March\n",
      "Mo Tu We Th Fr Sa Su      Mo Tu We Th Fr Sa Su      Mo Tu We Th Fr Sa Su\n",
      "       1  2  3  4  5                      1  2                         1\n",
      " 6  7  8  9 10 11 12       3  4  5  6  7  8  9       2  3  4  5  6  7  8\n",
      "13 14 15 16 17 18 19      10 11 12 13 14 15 16       9 10 11 12 13 14 15\n",
      "20 21 22 23 24 25 26      17 18 19 20 21 22 23      16 17 18 19 20 21 22\n",
      "27 28 29 30 31            24 25 26 27 28 29         23 24 25 26 27 28 29\n",
      "                                                    30 31\n",
      "\n",
      "       April                      May                       June\n",
      "Mo Tu We Th Fr Sa Su      Mo Tu We Th Fr Sa Su      Mo Tu We Th Fr Sa Su\n",
      "       1  2  3  4  5                   1  2  3       1  2  3  4  5  6  7\n",
      " 6  7  8  9 10 11 12       4  5  6  7  8  9 10       8  9 10 11 12 13 14\n",
      "13 14 15 16 17 18 19      11 12 13 14 15 16 17      15 16 17 18 19 20 21\n",
      "20 21 22 23 24 25 26      18 19 20 21 22 23 24      22 23 24 25 26 27 28\n",
      "27 28 29 30               25 26 27 28 29 30 31      29 30\n",
      "\n",
      "        July                     August                  September\n",
      "Mo Tu We Th Fr Sa Su      Mo Tu We Th Fr Sa Su      Mo Tu We Th Fr Sa Su\n",
      "       1  2  3  4  5                      1  2          1  2  3  4  5  6\n",
      " 6  7  8  9 10 11 12       3  4  5  6  7  8  9       7  8  9 10 11 12 13\n",
      "13 14 15 16 17 18 19      10 11 12 13 14 15 16      14 15 16 17 18 19 20\n",
      "20 21 22 23 24 25 26      17 18 19 20 21 22 23      21 22 23 24 25 26 27\n",
      "27 28 29 30 31            24 25 26 27 28 29 30      28 29 30\n",
      "                          31\n",
      "\n",
      "      October                   November                  December\n",
      "Mo Tu We Th Fr Sa Su      Mo Tu We Th Fr Sa Su      Mo Tu We Th Fr Sa Su\n",
      "          1  2  3  4                         1          1  2  3  4  5  6\n",
      " 5  6  7  8  9 10 11       2  3  4  5  6  7  8       7  8  9 10 11 12 13\n",
      "12 13 14 15 16 17 18       9 10 11 12 13 14 15      14 15 16 17 18 19 20\n",
      "19 20 21 22 23 24 25      16 17 18 19 20 21 22      21 22 23 24 25 26 27\n",
      "26 27 28 29 30 31         23 24 25 26 27 28 29      28 29 30 31\n",
      "                          30\n"
     ]
    }
   ],
   "source": [
    "cd.prcal(2020)"
   ]
  },
  {
   "cell_type": "code",
   "execution_count": 186,
   "metadata": {},
   "outputs": [
    {
     "name": "stdout",
     "output_type": "stream",
     "text": [
      "   February 2020\n",
      "Mo Tu We Th Fr Sa Su\n",
      "                1  2\n",
      " 3  4  5  6  7  8  9\n",
      "10 11 12 13 14 15 16\n",
      "17 18 19 20 21 22 23\n",
      "24 25 26 27 28 29\n"
     ]
    }
   ],
   "source": [
    "cd.prmonth(2020,2)"
   ]
  },
  {
   "cell_type": "code",
   "execution_count": 187,
   "metadata": {},
   "outputs": [
    {
     "data": {
      "text/plain": [
       "1"
      ]
     },
     "execution_count": 187,
     "metadata": {},
     "output_type": "execute_result"
    }
   ],
   "source": [
    "cd.weekday(2020,2,25)\n",
    "#0: 월 ~ 6: 일"
   ]
  },
  {
   "cell_type": "code",
   "execution_count": 188,
   "metadata": {},
   "outputs": [
    {
     "data": {
      "text/plain": [
       "(5, 29)"
      ]
     },
     "execution_count": 188,
     "metadata": {},
     "output_type": "execute_result"
    }
   ],
   "source": [
    "cd.monthrange(2020,2)\n",
    "# 해달 월의 첫 날짜의 요일, 마지막 날짜\n",
    "# tuple 형태로 반환"
   ]
  },
  {
   "cell_type": "code",
   "execution_count": 189,
   "metadata": {},
   "outputs": [
    {
     "data": {
      "text/plain": [
       "'화'"
      ]
     },
     "execution_count": 189,
     "metadata": {},
     "output_type": "execute_result"
    }
   ],
   "source": [
    "'월화수목금토일'[1]"
   ]
  },
  {
   "cell_type": "code",
   "execution_count": 191,
   "metadata": {},
   "outputs": [
    {
     "data": {
      "text/plain": [
       "'화'"
      ]
     },
     "execution_count": 191,
     "metadata": {},
     "output_type": "execute_result"
    }
   ],
   "source": [
    "'월화수목금토일'[cd.weekday(2020,2,25)]"
   ]
  },
  {
   "cell_type": "code",
   "execution_count": 192,
   "metadata": {},
   "outputs": [
    {
     "data": {
      "text/plain": [
       "'화'"
      ]
     },
     "execution_count": 192,
     "metadata": {},
     "output_type": "execute_result"
    }
   ],
   "source": [
    "'월화수목금토일'[tm.localtime().tm_wday]"
   ]
  },
  {
   "cell_type": "markdown",
   "metadata": {},
   "source": [
    "[문제71] 아래와 같이 출력될 수 있는 프로그램을 생성하세요.<br>\n",
    "1에서 천만까지 짝수합, 홀수합 구하세요.<br>\n",
    "<br>\n",
    "1에서 천만까지 짝수합: <br>\n",
    "1에서 천만까지 홀수합: <br>\n",
    "처리 시간:"
   ]
  },
  {
   "cell_type": "code",
   "execution_count": 219,
   "metadata": {},
   "outputs": [
    {
     "name": "stdout",
     "output_type": "stream",
     "text": [
      "1에서 천만까지 짝수합: 25000005000000 \n",
      "1에서 천만까지 홀수합: 25000000000000 \n",
      "처리 시간: 2.546875\n"
     ]
    }
   ],
   "source": [
    "even = 0 ; odd = 0 ;\n",
    "bg = tm.process_time()\n",
    "for i in range(1, 10**7+1):\n",
    "    if i % 2 == 0:\n",
    "        even = even + i\n",
    "    else:\n",
    "        odd = odd + i\n",
    "print('1에서 천만까지 짝수합:', even, '\\n1에서 천만까지 홀수합:', odd, '\\n처리 시간:', tm.process_time() - bg)\n",
    "# tm.process_time()으로 하면 위에서부터 여기까지 다 돌린 시간 반환"
   ]
  },
  {
   "cell_type": "code",
   "execution_count": 217,
   "metadata": {},
   "outputs": [
    {
     "name": "stdout",
     "output_type": "stream",
     "text": [
      "1에서 천만까지 짝수합: 25000005000000 \n",
      "1에서 천만까지 홀수합: 25000000000000 \n",
      "처리 시간: 0:00:02.580513\n"
     ]
    }
   ],
   "source": [
    "even_total = 0 \n",
    "odd_total = 0\n",
    "start = dt.datetime.now()\n",
    "for i in range(1, 10**7+1):\n",
    "    if i % 2 == 0:\n",
    "        even_total = even_total + i\n",
    "    else:\n",
    "        odd_total = odd_total + i\n",
    "end = dt.datetime.now()\n",
    "pt = end - start\n",
    "print('1에서 천만까지 짝수합:', even, '\\n1에서 천만까지 홀수합:', odd, '\\n처리 시간:', pt)"
   ]
  },
  {
   "cell_type": "code",
   "execution_count": 211,
   "metadata": {},
   "outputs": [
    {
     "data": {
      "text/plain": [
       "<function time.process_time>"
      ]
     },
     "execution_count": 211,
     "metadata": {},
     "output_type": "execute_result"
    }
   ],
   "source": [
    "tm.process_time"
   ]
  },
  {
   "cell_type": "code",
   "execution_count": 220,
   "metadata": {},
   "outputs": [
    {
     "data": {
      "text/plain": [
       "2.580513"
      ]
     },
     "execution_count": 220,
     "metadata": {},
     "output_type": "execute_result"
    }
   ],
   "source": [
    "pt.total_seconds()"
   ]
  },
  {
   "cell_type": "markdown",
   "metadata": {},
   "source": [
    "-----"
   ]
  },
  {
   "cell_type": "code",
   "execution_count": 227,
   "metadata": {},
   "outputs": [
    {
     "data": {
      "text/plain": [
       "datetime.datetime(2020, 2, 25, 0, 0)"
      ]
     },
     "execution_count": 227,
     "metadata": {},
     "output_type": "execute_result"
    }
   ],
   "source": [
    "dt.datetime(2020,2,25)"
   ]
  },
  {
   "cell_type": "code",
   "execution_count": 221,
   "metadata": {},
   "outputs": [],
   "source": [
    "import dateutil as du"
   ]
  },
  {
   "cell_type": "code",
   "execution_count": 223,
   "metadata": {},
   "outputs": [
    {
     "data": {
      "text/plain": [
       "datetime.datetime(2020, 2, 25, 0, 0)"
      ]
     },
     "execution_count": 223,
     "metadata": {},
     "output_type": "execute_result"
    }
   ],
   "source": [
    "du.parser.parse('2020-02-25')"
   ]
  },
  {
   "cell_type": "code",
   "execution_count": 224,
   "metadata": {},
   "outputs": [
    {
     "data": {
      "text/plain": [
       "datetime.date(2020, 2, 25)"
      ]
     },
     "execution_count": 224,
     "metadata": {},
     "output_type": "execute_result"
    }
   ],
   "source": [
    "dt.date.today()"
   ]
  },
  {
   "cell_type": "code",
   "execution_count": 228,
   "metadata": {},
   "outputs": [
    {
     "data": {
      "text/plain": [
       "datetime.date(2020, 5, 25)"
      ]
     },
     "execution_count": 228,
     "metadata": {},
     "output_type": "execute_result"
    }
   ],
   "source": [
    "dt.date.today() + du.relativedelta.relativedelta(months = 3)"
   ]
  },
  {
   "cell_type": "code",
   "execution_count": 229,
   "metadata": {},
   "outputs": [
    {
     "data": {
      "text/plain": [
       "datetime.date(2019, 11, 25)"
      ]
     },
     "execution_count": 229,
     "metadata": {},
     "output_type": "execute_result"
    }
   ],
   "source": [
    "dt.date.today() - du.relativedelta.relativedelta(months = 3)"
   ]
  },
  {
   "cell_type": "code",
   "execution_count": 230,
   "metadata": {},
   "outputs": [
    {
     "data": {
      "text/plain": [
       "datetime.date(2019, 11, 25)"
      ]
     },
     "execution_count": 230,
     "metadata": {},
     "output_type": "execute_result"
    }
   ],
   "source": [
    "dt.date.today() + du.relativedelta.relativedelta(months = -3)"
   ]
  },
  {
   "cell_type": "code",
   "execution_count": 232,
   "metadata": {},
   "outputs": [
    {
     "data": {
      "text/plain": [
       "datetime.date(2023, 2, 25)"
      ]
     },
     "execution_count": 232,
     "metadata": {},
     "output_type": "execute_result"
    }
   ],
   "source": [
    "dt.date.today() + du.relativedelta.relativedelta(years = 3)"
   ]
  },
  {
   "cell_type": "markdown",
   "metadata": {},
   "source": [
    "**연/월**/주/일/시/분/초 단위 계산 시: dateutil.relativedelta.relativedelta\n",
    "주/일/시/분/초 단위 계산 시: datetime.timedelta"
   ]
  },
  {
   "cell_type": "code",
   "execution_count": 233,
   "metadata": {},
   "outputs": [],
   "source": [
    "from datetime import date\n",
    "from dateutil.relativedelta import relativedelta as rd"
   ]
  },
  {
   "cell_type": "code",
   "execution_count": 234,
   "metadata": {},
   "outputs": [
    {
     "data": {
      "text/plain": [
       "datetime.date(2030, 2, 25)"
      ]
     },
     "execution_count": 234,
     "metadata": {},
     "output_type": "execute_result"
    }
   ],
   "source": [
    "date.today() + rd(years = 10)"
   ]
  },
  {
   "cell_type": "code",
   "execution_count": 235,
   "metadata": {},
   "outputs": [
    {
     "data": {
      "text/plain": [
       "datetime.date(2030, 5, 25)"
      ]
     },
     "execution_count": 235,
     "metadata": {},
     "output_type": "execute_result"
    }
   ],
   "source": [
    "date.today() + rd(years = 10, months = 3)"
   ]
  },
  {
   "cell_type": "code",
   "execution_count": 236,
   "metadata": {},
   "outputs": [
    {
     "data": {
      "text/plain": [
       "datetime.datetime(2020, 3, 3, 10, 30, 50)"
      ]
     },
     "execution_count": 236,
     "metadata": {},
     "output_type": "execute_result"
    }
   ],
   "source": [
    "date.today() + rd(days = 7, hours = 10, minutes = 30, second = 50)"
   ]
  },
  {
   "cell_type": "code",
   "execution_count": 239,
   "metadata": {},
   "outputs": [
    {
     "data": {
      "text/plain": [
       "datetime.date(2020, 3, 4)"
      ]
     },
     "execution_count": 239,
     "metadata": {},
     "output_type": "execute_result"
    }
   ],
   "source": [
    "date.today() + rd(weeks = 1, days = 1)"
   ]
  },
  {
   "cell_type": "code",
   "execution_count": 244,
   "metadata": {},
   "outputs": [
    {
     "data": {
      "text/plain": [
       "datetime.date(2020, 3, 3)"
      ]
     },
     "execution_count": 244,
     "metadata": {},
     "output_type": "execute_result"
    }
   ],
   "source": [
    "date.today() + datetime.timedelta(weeks=1)"
   ]
  },
  {
   "cell_type": "code",
   "execution_count": 246,
   "metadata": {},
   "outputs": [
    {
     "data": {
      "text/plain": [
       "datetime.date(2020, 2, 28)"
      ]
     },
     "execution_count": 246,
     "metadata": {},
     "output_type": "execute_result"
    }
   ],
   "source": [
    "date.today() + rd(weekday = cd.FRIDAY)\n",
    "# 오늘을 기준으로 가장 가까운 다음 금요일\n",
    "# 요일명은 영문 대문자로"
   ]
  },
  {
   "cell_type": "markdown",
   "metadata": {},
   "source": [
    "=====<br>\n",
    "파이썬에서 csv 파일 읽어들이는 작업\n",
    "1. import csv\n",
    "2. file = open(\"C:\\ ~\")\n",
    "3. data = csv.reader(file)"
   ]
  },
  {
   "cell_type": "code",
   "execution_count": 247,
   "metadata": {},
   "outputs": [],
   "source": [
    "import csv"
   ]
  },
  {
   "cell_type": "code",
   "execution_count": 275,
   "metadata": {},
   "outputs": [],
   "source": [
    "file = open(\"C:\\data\\employees.csv\", \"r\")\n",
    "# 파이썬으로 파일 불러들임 ; 불러들이기만 함"
   ]
  },
  {
   "cell_type": "code",
   "execution_count": 250,
   "metadata": {},
   "outputs": [
    {
     "data": {
      "text/plain": [
       "<_io.TextIOWrapper name='C:\\\\data\\\\employees.csv' mode='r' encoding='cp949'>"
      ]
     },
     "execution_count": 250,
     "metadata": {},
     "output_type": "execute_result"
    }
   ],
   "source": [
    "file"
   ]
  },
  {
   "cell_type": "code",
   "execution_count": 276,
   "metadata": {},
   "outputs": [],
   "source": [
    "emp_csv = csv.reader(file)\n",
    "# 파일을 csv 형태로 읽음"
   ]
  },
  {
   "cell_type": "code",
   "execution_count": 265,
   "metadata": {},
   "outputs": [
    {
     "data": {
      "text/plain": [
       "['EMPLOYEE_ID',\n",
       " 'FIRST_NAME',\n",
       " 'LAST_NAME',\n",
       " 'EMAIL',\n",
       " 'PHONE_NUMBER',\n",
       " 'HIRE_DATE',\n",
       " 'JOB_ID',\n",
       " 'SALARY',\n",
       " 'COMMISSION_PCT',\n",
       " 'MANAGER_ID',\n",
       " 'DEPARTMENT_ID']"
      ]
     },
     "execution_count": 265,
     "metadata": {},
     "output_type": "execute_result"
    }
   ],
   "source": [
    "next(emp_csv)\n",
    "# 각 행별로 조회하고 메모리서 삭제"
   ]
  },
  {
   "cell_type": "code",
   "execution_count": 266,
   "metadata": {},
   "outputs": [
    {
     "name": "stdout",
     "output_type": "stream",
     "text": [
      "King 4\n",
      "Kochhar 7\n",
      "De Haan 7\n",
      "Hunold 6\n",
      "Ernst 5\n",
      "Austin 6\n",
      "Pataballa 9\n",
      "Lorentz 7\n",
      "Greenberg 9\n",
      "Faviet 6\n",
      "Chen 4\n",
      "Sciarra 7\n",
      "Urman 5\n",
      "Popp 4\n",
      "Raphaely 8\n",
      "Khoo 4\n",
      "Baida 5\n",
      "Tobias 6\n",
      "Himuro 6\n",
      "Colmenares 10\n",
      "Weiss 5\n",
      "Fripp 5\n",
      "Kaufling 8\n",
      "Vollman 7\n",
      "Mourgos 7\n",
      "Nayer 5\n",
      "Mikkilineni 11\n",
      "Landry 6\n",
      "Markle 6\n",
      "Bissot 6\n",
      "Atkinson 8\n",
      "Marlow 6\n",
      "Olson 5\n",
      "Mallin 6\n",
      "Rogers 6\n",
      "Gee 3\n",
      "Philtanker 10\n",
      "Ladwig 6\n",
      "Stiles 6\n",
      "Seo 3\n",
      "Patel 5\n",
      "Rajs 4\n",
      "Davies 6\n",
      "Matos 5\n",
      "Vargas 6\n",
      "Russell 7\n",
      "Partners 8\n",
      "Errazuriz 9\n",
      "Cambrault 9\n",
      "Zlotkey 7\n",
      "Tucker 6\n",
      "Bernstein 9\n",
      "Hall 4\n",
      "Olsen 5\n",
      "Cambrault 9\n",
      "Tuvault 7\n",
      "King 4\n",
      "Sully 5\n",
      "McEwen 6\n",
      "Smith 5\n",
      "Doran 5\n",
      "Sewall 6\n",
      "Vishney 7\n",
      "Greene 6\n",
      "Marvins 7\n",
      "Lee 3\n",
      "Ande 4\n",
      "Banda 5\n",
      "Ozer 4\n",
      "Bloom 5\n",
      "Fox 3\n",
      "Smith 5\n",
      "Bates 5\n",
      "Kumar 5\n",
      "Abel 4\n",
      "Hutton 6\n",
      "Taylor 6\n",
      "Livingston 10\n",
      "Grant 5\n",
      "Johnson 7\n",
      "Taylor 6\n",
      "Fleaur 6\n",
      "Sullivan 8\n",
      "Geoni 5\n",
      "Sarchand 8\n",
      "Bull 4\n",
      "Dellinger 9\n",
      "Cabrio 6\n",
      "Chung 5\n",
      "Dilly 5\n",
      "Gates 5\n",
      "Perkins 7\n",
      "Bell 4\n",
      "Everett 7\n",
      "McCain 6\n",
      "Jones 5\n",
      "Walsh 5\n",
      "Feeney 6\n",
      "OConnell 8\n",
      "Grant 5\n",
      "Whalen 6\n",
      "Hartstein 9\n",
      "Fay 3\n",
      "Mavris 6\n",
      "Baer 4\n",
      "Higgins 7\n",
      "Gietz 5\n"
     ]
    }
   ],
   "source": [
    "for emp_lst in emp_csv:\n",
    "    print(emp_lst[2], len(emp_lst[2]))\n",
    "# emp_lst : 자동으로 list 변수로 생성"
   ]
  },
  {
   "cell_type": "code",
   "execution_count": 285,
   "metadata": {},
   "outputs": [],
   "source": [
    "file.close()\n",
    "# 메모리 닫음"
   ]
  },
  {
   "cell_type": "markdown",
   "metadata": {},
   "source": [
    "[문제72] employee_id, last_name, salary * 12를 출력해주세요."
   ]
  },
  {
   "cell_type": "code",
   "execution_count": 287,
   "metadata": {},
   "outputs": [
    {
     "name": "stdout",
     "output_type": "stream",
     "text": [
      "100 King 288000\n",
      "101 Kochhar 204000\n",
      "102 De Haan 204000\n",
      "103 Hunold 108000\n",
      "104 Ernst 72000\n",
      "105 Austin 57600\n",
      "106 Pataballa 57600\n",
      "107 Lorentz 50400\n",
      "108 Greenberg 144096\n",
      "109 Faviet 108000\n",
      "110 Chen 98400\n",
      "111 Sciarra 92400\n",
      "112 Urman 93600\n",
      "113 Popp 82800\n",
      "114 Raphaely 159720\n",
      "115 Khoo 45012\n",
      "116 Baida 42108\n",
      "117 Tobias 40656\n",
      "118 Himuro 37752\n",
      "119 Colmenares 36300\n",
      "120 Weiss 96000\n",
      "121 Fripp 98400\n",
      "122 Kaufling 94800\n",
      "123 Vollman 78000\n",
      "124 Mourgos 69600\n",
      "125 Nayer 38400\n",
      "126 Mikkilineni 32400\n",
      "127 Landry 28800\n",
      "128 Markle 26400\n",
      "129 Bissot 39600\n",
      "130 Atkinson 33600\n",
      "131 Marlow 30000\n",
      "132 Olson 25200\n",
      "133 Mallin 39600\n",
      "134 Rogers 34800\n",
      "135 Gee 28800\n",
      "136 Philtanker 26400\n",
      "137 Ladwig 43200\n",
      "138 Stiles 38400\n",
      "139 Seo 32400\n",
      "140 Patel 30000\n",
      "141 Rajs 42000\n",
      "142 Davies 37200\n",
      "143 Matos 31200\n",
      "144 Vargas 30000\n",
      "145 Russell 168000\n",
      "146 Partners 162000\n",
      "147 Errazuriz 144000\n",
      "148 Cambrault 132000\n",
      "149 Zlotkey 126000\n",
      "150 Tucker 120000\n",
      "151 Bernstein 114000\n",
      "152 Hall 108000\n",
      "153 Olsen 96000\n",
      "154 Cambrault 90000\n",
      "155 Tuvault 84000\n",
      "156 King 120000\n",
      "157 Sully 114000\n",
      "158 McEwen 108000\n",
      "159 Smith 96000\n",
      "160 Doran 90000\n",
      "161 Sewall 84000\n",
      "162 Vishney 126000\n",
      "163 Greene 114000\n",
      "164 Marvins 86400\n",
      "165 Lee 81600\n",
      "166 Ande 76800\n",
      "167 Banda 74400\n",
      "168 Ozer 138000\n",
      "169 Bloom 120000\n",
      "170 Fox 115200\n",
      "171 Smith 88800\n",
      "172 Bates 87600\n",
      "173 Kumar 73200\n",
      "174 Abel 132000\n",
      "175 Hutton 105600\n",
      "176 Taylor 103200\n",
      "177 Livingston 100800\n",
      "178 Grant 84000\n",
      "179 Johnson 74400\n",
      "180 Taylor 38400\n",
      "181 Fleaur 37200\n",
      "182 Sullivan 30000\n",
      "183 Geoni 33600\n",
      "184 Sarchand 50400\n",
      "185 Bull 49200\n",
      "186 Dellinger 40800\n",
      "187 Cabrio 36000\n",
      "188 Chung 45600\n",
      "189 Dilly 43200\n",
      "190 Gates 34800\n",
      "191 Perkins 30000\n",
      "192 Bell 48000\n",
      "193 Everett 46800\n",
      "194 McCain 38400\n",
      "195 Jones 33600\n",
      "196 Walsh 37200\n",
      "197 Feeney 36000\n",
      "198 OConnell 31200\n",
      "199 Grant 31200\n",
      "200 Whalen 52800\n",
      "201 Hartstein 156000\n",
      "202 Fay 72000\n",
      "203 Mavris 78000\n",
      "204 Baer 120000\n",
      "205 Higgins 144096\n",
      "206 Gietz 99600\n"
     ]
    }
   ],
   "source": [
    "file = open(\"C:\\data\\employees.csv\", \"r\")\n",
    "emp_csv = csv.reader(file)\n",
    "next(emp_csv)\n",
    "for emp_lst in emp_csv:\n",
    "    print(emp_lst[0], emp_lst[2], int(emp_lst[7])*12)"
   ]
  },
  {
   "cell_type": "code",
   "execution_count": 291,
   "metadata": {},
   "outputs": [
    {
     "name": "stdout",
     "output_type": "stream",
     "text": [
      "100 King 288000\n",
      "101 Kochhar 204000\n",
      "102 De Haan 204000\n",
      "103 Hunold 108000\n",
      "104 Ernst 72000\n",
      "105 Austin 57600\n",
      "106 Pataballa 57600\n",
      "107 Lorentz 50400\n",
      "108 Greenberg 144096\n",
      "109 Faviet 108000\n",
      "110 Chen 98400\n",
      "111 Sciarra 92400\n",
      "112 Urman 93600\n",
      "113 Popp 82800\n",
      "114 Raphaely 159720\n",
      "115 Khoo 45012\n",
      "116 Baida 42108\n",
      "117 Tobias 40656\n",
      "118 Himuro 37752\n",
      "119 Colmenares 36300\n",
      "120 Weiss 96000\n",
      "121 Fripp 98400\n",
      "122 Kaufling 94800\n",
      "123 Vollman 78000\n",
      "124 Mourgos 69600\n",
      "125 Nayer 38400\n",
      "126 Mikkilineni 32400\n",
      "127 Landry 28800\n",
      "128 Markle 26400\n",
      "129 Bissot 39600\n",
      "130 Atkinson 33600\n",
      "131 Marlow 30000\n",
      "132 Olson 25200\n",
      "133 Mallin 39600\n",
      "134 Rogers 34800\n",
      "135 Gee 28800\n",
      "136 Philtanker 26400\n",
      "137 Ladwig 43200\n",
      "138 Stiles 38400\n",
      "139 Seo 32400\n",
      "140 Patel 30000\n",
      "141 Rajs 42000\n",
      "142 Davies 37200\n",
      "143 Matos 31200\n",
      "144 Vargas 30000\n",
      "145 Russell 168000\n",
      "146 Partners 162000\n",
      "147 Errazuriz 144000\n",
      "148 Cambrault 132000\n",
      "149 Zlotkey 126000\n",
      "150 Tucker 120000\n",
      "151 Bernstein 114000\n",
      "152 Hall 108000\n",
      "153 Olsen 96000\n",
      "154 Cambrault 90000\n",
      "155 Tuvault 84000\n",
      "156 King 120000\n",
      "157 Sully 114000\n",
      "158 McEwen 108000\n",
      "159 Smith 96000\n",
      "160 Doran 90000\n",
      "161 Sewall 84000\n",
      "162 Vishney 126000\n",
      "163 Greene 114000\n",
      "164 Marvins 86400\n",
      "165 Lee 81600\n",
      "166 Ande 76800\n",
      "167 Banda 74400\n",
      "168 Ozer 138000\n",
      "169 Bloom 120000\n",
      "170 Fox 115200\n",
      "171 Smith 88800\n",
      "172 Bates 87600\n",
      "173 Kumar 73200\n",
      "174 Abel 132000\n",
      "175 Hutton 105600\n",
      "176 Taylor 103200\n",
      "177 Livingston 100800\n",
      "178 Grant 84000\n",
      "179 Johnson 74400\n",
      "180 Taylor 38400\n",
      "181 Fleaur 37200\n",
      "182 Sullivan 30000\n",
      "183 Geoni 33600\n",
      "184 Sarchand 50400\n",
      "185 Bull 49200\n",
      "186 Dellinger 40800\n",
      "187 Cabrio 36000\n",
      "188 Chung 45600\n",
      "189 Dilly 43200\n",
      "190 Gates 34800\n",
      "191 Perkins 30000\n",
      "192 Bell 48000\n",
      "193 Everett 46800\n",
      "194 McCain 38400\n",
      "195 Jones 33600\n",
      "196 Walsh 37200\n",
      "197 Feeney 36000\n",
      "198 OConnell 31200\n",
      "199 Grant 31200\n",
      "200 Whalen 52800\n",
      "201 Hartstein 156000\n",
      "202 Fay 72000\n",
      "203 Mavris 78000\n",
      "204 Baer 120000\n",
      "205 Higgins 144096\n",
      "206 Gietz 99600\n",
      "출력된 수: 107\n"
     ]
    }
   ],
   "source": [
    "file = open(\"C:\\data\\employees.csv\", \"r\")\n",
    "emp_csv = csv.reader(file)\n",
    "next(emp_csv)\n",
    "cn = 0\n",
    "for emp_lst in emp_csv:\n",
    "    print(emp_lst[0], emp_lst[2], int(emp_lst[7])*12)\n",
    "    cn += 1 \n",
    "print('출력된 수:', cn)"
   ]
  },
  {
   "cell_type": "markdown",
   "metadata": {},
   "source": [
    "[문제73] last_name, commission_pct를 출력하되 commission_pct의 값이 null(\"\")이면 0d으로 출력해주세요. "
   ]
  },
  {
   "cell_type": "code",
   "execution_count": 308,
   "metadata": {},
   "outputs": [
    {
     "name": "stdout",
     "output_type": "stream",
     "text": [
      "King 0\n",
      "Kochhar 0\n",
      "De Haan 0\n",
      "Hunold 0\n",
      "Ernst 0\n",
      "Austin 0\n",
      "Pataballa 0\n",
      "Lorentz 0\n",
      "Greenberg 0\n",
      "Faviet 0\n",
      "Chen 0\n",
      "Sciarra 0\n",
      "Urman 0\n",
      "Popp 0\n",
      "Raphaely 0\n",
      "Khoo 0\n",
      "Baida 0\n",
      "Tobias 0\n",
      "Himuro 0\n",
      "Colmenares 0\n",
      "Weiss 0\n",
      "Fripp 0\n",
      "Kaufling 0\n",
      "Vollman 0\n",
      "Mourgos 0\n",
      "Nayer 0\n",
      "Mikkilineni 0\n",
      "Landry 0\n",
      "Markle 0\n",
      "Bissot 0\n",
      "Atkinson 0\n",
      "Marlow 0\n",
      "Olson 0\n",
      "Mallin 0\n",
      "Rogers 0\n",
      "Gee 0\n",
      "Philtanker 0\n",
      "Ladwig 0\n",
      "Stiles 0\n",
      "Seo 0\n",
      "Patel 0\n",
      "Rajs 0\n",
      "Davies 0\n",
      "Matos 0\n",
      "Vargas 0\n",
      "Russell 0.4\n",
      "Partners 0.3\n",
      "Errazuriz 0.3\n",
      "Cambrault 0.3\n",
      "Zlotkey 0.2\n",
      "Tucker 0.3\n",
      "Bernstein 0.25\n",
      "Hall 0.25\n",
      "Olsen 0.2\n",
      "Cambrault 0.2\n",
      "Tuvault 0.15\n",
      "King 0.35\n",
      "Sully 0.35\n",
      "McEwen 0.35\n",
      "Smith 0.3\n",
      "Doran 0.3\n",
      "Sewall 0.25\n",
      "Vishney 0.25\n",
      "Greene 0.15\n",
      "Marvins 0.1\n",
      "Lee 0.1\n",
      "Ande 0.1\n",
      "Banda 0.1\n",
      "Ozer 0.25\n",
      "Bloom 0.2\n",
      "Fox 0.2\n",
      "Smith 0.15\n",
      "Bates 0.15\n",
      "Kumar 0.1\n",
      "Abel 0.3\n",
      "Hutton 0.25\n",
      "Taylor 0.2\n",
      "Livingston 0.2\n",
      "Grant 0.15\n",
      "Johnson 0.1\n",
      "Taylor 0\n",
      "Fleaur 0\n",
      "Sullivan 0\n",
      "Geoni 0\n",
      "Sarchand 0\n",
      "Bull 0\n",
      "Dellinger 0\n",
      "Cabrio 0\n",
      "Chung 0\n",
      "Dilly 0\n",
      "Gates 0\n",
      "Perkins 0\n",
      "Bell 0\n",
      "Everett 0\n",
      "McCain 0\n",
      "Jones 0\n",
      "Walsh 0\n",
      "Feeney 0\n",
      "OConnell 0\n",
      "Grant 0\n",
      "Whalen 0\n",
      "Hartstein 0\n",
      "Fay 0\n",
      "Mavris 0\n",
      "Baer 0\n",
      "Higgins 0\n",
      "Gietz 0\n"
     ]
    }
   ],
   "source": [
    "file = open(\"C:\\data\\employees.csv\", \"r\")\n",
    "emp_csv = csv.reader(file)\n",
    "next(emp_csv)\n",
    "for emp_lst in emp_csv:\n",
    "    if emp_lst[8] == '':\n",
    "        emp_lst[8] = 0\n",
    "    print(emp_lst[2], emp_lst[8])"
   ]
  },
  {
   "cell_type": "code",
   "execution_count": 303,
   "metadata": {},
   "outputs": [
    {
     "name": "stdout",
     "output_type": "stream",
     "text": [
      "King 0\n",
      "Kochhar 0\n",
      "De Haan 0\n",
      "Hunold 0\n",
      "Ernst 0\n",
      "Austin 0\n",
      "Pataballa 0\n",
      "Lorentz 0\n",
      "Greenberg 0\n",
      "Faviet 0\n",
      "Chen 0\n",
      "Sciarra 0\n",
      "Urman 0\n",
      "Popp 0\n",
      "Raphaely 0\n",
      "Khoo 0\n",
      "Baida 0\n",
      "Tobias 0\n",
      "Himuro 0\n",
      "Colmenares 0\n",
      "Weiss 0\n",
      "Fripp 0\n",
      "Kaufling 0\n",
      "Vollman 0\n",
      "Mourgos 0\n",
      "Nayer 0\n",
      "Mikkilineni 0\n",
      "Landry 0\n",
      "Markle 0\n",
      "Bissot 0\n",
      "Atkinson 0\n",
      "Marlow 0\n",
      "Olson 0\n",
      "Mallin 0\n",
      "Rogers 0\n",
      "Gee 0\n",
      "Philtanker 0\n",
      "Ladwig 0\n",
      "Stiles 0\n",
      "Seo 0\n",
      "Patel 0\n",
      "Rajs 0\n",
      "Davies 0\n",
      "Matos 0\n",
      "Vargas 0\n",
      "Russell 0.4\n",
      "Partners 0.3\n",
      "Errazuriz 0.3\n",
      "Cambrault 0.3\n",
      "Zlotkey 0.2\n",
      "Tucker 0.3\n",
      "Bernstein 0.25\n",
      "Hall 0.25\n",
      "Olsen 0.2\n",
      "Cambrault 0.2\n",
      "Tuvault 0.15\n",
      "King 0.35\n",
      "Sully 0.35\n",
      "McEwen 0.35\n",
      "Smith 0.3\n",
      "Doran 0.3\n",
      "Sewall 0.25\n",
      "Vishney 0.25\n",
      "Greene 0.15\n",
      "Marvins 0.1\n",
      "Lee 0.1\n",
      "Ande 0.1\n",
      "Banda 0.1\n",
      "Ozer 0.25\n",
      "Bloom 0.2\n",
      "Fox 0.2\n",
      "Smith 0.15\n",
      "Bates 0.15\n",
      "Kumar 0.1\n",
      "Abel 0.3\n",
      "Hutton 0.25\n",
      "Taylor 0.2\n",
      "Livingston 0.2\n",
      "Grant 0.15\n",
      "Johnson 0.1\n",
      "Taylor 0\n",
      "Fleaur 0\n",
      "Sullivan 0\n",
      "Geoni 0\n",
      "Sarchand 0\n",
      "Bull 0\n",
      "Dellinger 0\n",
      "Cabrio 0\n",
      "Chung 0\n",
      "Dilly 0\n",
      "Gates 0\n",
      "Perkins 0\n",
      "Bell 0\n",
      "Everett 0\n",
      "McCain 0\n",
      "Jones 0\n",
      "Walsh 0\n",
      "Feeney 0\n",
      "OConnell 0\n",
      "Grant 0\n",
      "Whalen 0\n",
      "Hartstein 0\n",
      "Fay 0\n",
      "Mavris 0\n",
      "Baer 0\n",
      "Higgins 0\n",
      "Gietz 0\n",
      "출력된 수: 107\n"
     ]
    }
   ],
   "source": [
    "file = open(\"C:\\data\\employees.csv\", \"r\")\n",
    "emp_csv = csv.reader(file)\n",
    "next(emp_csv)\n",
    "cn = 0\n",
    "for emp_lst in emp_csv:\n",
    "    print(emp_lst[2], 0 if emp_lst[8] == \"\" else emp_lst[8])\n",
    "    cn += 1 \n",
    "print('출력된 수:', cn)"
   ]
  },
  {
   "cell_type": "code",
   "execution_count": 322,
   "metadata": {},
   "outputs": [],
   "source": [
    "def ifnull(arg1, arg2):\n",
    "        if arg1 == '':\n",
    "            return arg2\n",
    "        else: \n",
    "            return arg1"
   ]
  },
  {
   "cell_type": "code",
   "execution_count": 323,
   "metadata": {},
   "outputs": [
    {
     "name": "stdout",
     "output_type": "stream",
     "text": [
      "0\n",
      "0\n",
      "0\n",
      "0\n",
      "0\n",
      "0\n",
      "0\n",
      "0\n",
      "0\n",
      "0\n",
      "0\n",
      "0\n",
      "0\n",
      "0\n",
      "0\n",
      "0\n",
      "0\n",
      "0\n",
      "0\n",
      "0\n",
      "0\n",
      "0\n",
      "0\n",
      "0\n",
      "0\n",
      "0\n",
      "0\n",
      "0\n",
      "0\n",
      "0\n",
      "0\n",
      "0\n",
      "0\n",
      "0\n",
      "0\n",
      "0\n",
      "0\n",
      "0\n",
      "0\n",
      "0\n",
      "0\n",
      "0\n",
      "0\n",
      "0\n",
      "0\n",
      "0.4\n",
      "0.3\n",
      "0.3\n",
      "0.3\n",
      "0.2\n",
      "0.3\n",
      "0.25\n",
      "0.25\n",
      "0.2\n",
      "0.2\n",
      "0.15\n",
      "0.35\n",
      "0.35\n",
      "0.35\n",
      "0.3\n",
      "0.3\n",
      "0.25\n",
      "0.25\n",
      "0.15\n",
      "0.1\n",
      "0.1\n",
      "0.1\n",
      "0.1\n",
      "0.25\n",
      "0.2\n",
      "0.2\n",
      "0.15\n",
      "0.15\n",
      "0.1\n",
      "0.3\n",
      "0.25\n",
      "0.2\n",
      "0.2\n",
      "0.15\n",
      "0.1\n",
      "0\n",
      "0\n",
      "0\n",
      "0\n",
      "0\n",
      "0\n",
      "0\n",
      "0\n",
      "0\n",
      "0\n",
      "0\n",
      "0\n",
      "0\n",
      "0\n",
      "0\n",
      "0\n",
      "0\n",
      "0\n",
      "0\n",
      "0\n",
      "0\n",
      "0\n",
      "0\n",
      "0\n",
      "0\n",
      "0\n",
      "0\n"
     ]
    }
   ],
   "source": [
    "file = open(\"C:\\data\\employees.csv\", \"r\")\n",
    "emp_csv = csv.reader(file)\n",
    "next(emp_csv)\n",
    "for emp_lst in emp_csv:\n",
    "    print(ifnull(emp_lst[8], 0))"
   ]
  }
 ],
 "metadata": {
  "kernelspec": {
   "display_name": "Python 3",
   "language": "python",
   "name": "python3"
  },
  "language_info": {
   "codemirror_mode": {
    "name": "ipython",
    "version": 3
   },
   "file_extension": ".py",
   "mimetype": "text/x-python",
   "name": "python",
   "nbconvert_exporter": "python",
   "pygments_lexer": "ipython3",
   "version": "3.7.4"
  }
 },
 "nbformat": 4,
 "nbformat_minor": 2
}
