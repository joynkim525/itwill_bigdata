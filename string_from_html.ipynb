{
 "cells": [
  {
   "cell_type": "markdown",
   "metadata": {},
   "source": [
    "*** soup = bs4.BeautifulSoup(html, \"html_parser\")\n",
    "<br><br>\n",
    "@ soup.node.string\n",
    "- 하위 태그가 없을 경우에만 반환 \n",
    "- 하위 태그가 있을 경우 아무 것도 반환하지 않음\n",
    "- 해당 태그가 2개 이상 존재할 경우 첫 번째 태그의 결과만 반환\n",
    "\n",
    "@ soup.node.get_text()\n",
    "- 태그 내부의 존재하는 구분자를 포함한 모든 문자 반환\n",
    "- 해당 태그가 2개 이상 존재할 경우 첫 번째 태그의 결과만 반환\n",
    "\n",
    "@ soup.find('tag').string\n",
    "- 하위 태그가 없을 경우에만 반환 \n",
    "- 하위 태그가 있을 경우 아무 것도 반환하지 않음\n",
    "- 해당 태그가 2개 이상 존재할 경우 첫 번째 태그의 결과만 반환\n",
    "\n",
    "@ soup.find('tag').get_text()\n",
    "- 태그 내부의 존재하는 구분자를 포함한 모든 문자 반환\n",
    "- 해당 태그가 2개 이상 존재할 경우 첫 번째 태그의 결과만 반환\n",
    "\n",
    "@ for i in soup.node:\n",
    "\tprint(i.string)\n",
    "- 해당 태그 내의 문자만 반환\n",
    "- 하위 태그 내의 문자는 동일한 태그들로 구성되어 있을 경우 반환하고,\n",
    "  서로 다른 태그들로 구성되어 있을 경우 None\n",
    "- 해당 태그가 2개 이상 존재할 경우 첫 번째 태그의 결과만 반환\n",
    "\n",
    "@ for i in soup.node:\n",
    "\tprint(i.get_text())\n",
    "- error\n",
    "\n",
    "@ for i in soup.find('tag'):\n",
    "\tprint(i.string)\n",
    "- 해당 태그 내의 문자만 반환\n",
    "- 하위 태그 내의 문자는 동일한 태그들로 구성되어 있을 경우 반환하고,\n",
    "  서로 다른 태그들로 구성되어 있을 경우 None\n",
    "- 해당 태그가 2개 이상 존재할 경우 첫 번째 태그의 결과만 반환\n",
    "\n",
    "@ for i in soup.find('tag'):\n",
    "\tprint(i.get_text())\n",
    "- error\n",
    "\n",
    "@ for i in soup.find_all('tag'):\n",
    "\tprint(i.string)\n",
    "- 하위 태그가 없을 경우에만 반환 \n",
    "- 하위 태그가 있을 경우 None\n",
    "\n",
    "@ for i in soup.find_all('tag'):\n",
    "\tprint(i.get_text())\n",
    "- 태그 내부의 존재하는 모든 문자 반환"
   ]
  },
  {
   "cell_type": "code",
   "execution_count": 1,
   "metadata": {},
   "outputs": [],
   "source": [
    "from bs4 import BeautifulSoup"
   ]
  },
  {
   "cell_type": "code",
   "execution_count": 2,
   "metadata": {},
   "outputs": [],
   "source": [
    "html = \"\"\"\n",
    "<html>\n",
    "<body>\n",
    "body1\n",
    "<br>\n",
    "<p>\n",
    "p1_1\n",
    "<ul>\n",
    "ul1_1\n",
    "<li> li1 </li>\n",
    "<li> li2 </li>\n",
    "ul1_2\n",
    "</ul>\n",
    "p1_2\n",
    "<ul>\n",
    "ul2\n",
    "</ul>\n",
    "p1_3\n",
    "</p>\n",
    "body2\n",
    "<p>\n",
    "p2\n",
    "</p>\n",
    "body3\n",
    "</body>\n",
    "</html>\"\"\"\n",
    "s = BeautifulSoup(html, \"html.parser\")"
   ]
  },
  {
   "cell_type": "markdown",
   "metadata": {},
   "source": [
    "<html>\n",
    "<body>\n",
    "body1\n",
    "<br>\n",
    "<p>\n",
    "p1_1\n",
    "<ul>\n",
    "ul1_1\n",
    "<li> li1 </li>\n",
    "<li> li2 </li>\n",
    "ul1_2\n",
    "</ul>\n",
    "p1_2\n",
    "<ul>\n",
    "ul2\n",
    "</ul>\n",
    "p1_3\n",
    "</p>\n",
    "body2\n",
    "<p>\n",
    "p2\n",
    "</p>\n",
    "body3\n",
    "</body>\n",
    "</html>\"\"\""
   ]
  },
  {
   "cell_type": "code",
   "execution_count": 3,
   "metadata": {},
   "outputs": [],
   "source": [
    "s.html.body.string"
   ]
  },
  {
   "cell_type": "code",
   "execution_count": 4,
   "metadata": {
    "scrolled": false
   },
   "outputs": [
    {
     "data": {
      "text/plain": [
       "'\\nbody1\\n\\n\\np1_1\\n\\nul1_1\\n li1 \\n li2 \\nul1_2\\n\\np1_2\\n\\nul2\\n\\np1_3\\n\\nbody2\\n\\np2\\n\\nbody3\\n'"
      ]
     },
     "execution_count": 4,
     "metadata": {},
     "output_type": "execute_result"
    }
   ],
   "source": [
    "s.html.body.get_text()"
   ]
  },
  {
   "cell_type": "code",
   "execution_count": 5,
   "metadata": {},
   "outputs": [],
   "source": [
    "s.find('body').string"
   ]
  },
  {
   "cell_type": "code",
   "execution_count": 6,
   "metadata": {},
   "outputs": [
    {
     "data": {
      "text/plain": [
       "'\\nbody1\\n\\n\\np1_1\\n\\nul1_1\\n li1 \\n li2 \\nul1_2\\n\\np1_2\\n\\nul2\\n\\np1_3\\n\\nbody2\\n\\np2\\n\\nbody3\\n'"
      ]
     },
     "execution_count": 6,
     "metadata": {},
     "output_type": "execute_result"
    }
   ],
   "source": [
    "s.find('body').get_text()"
   ]
  },
  {
   "cell_type": "code",
   "execution_count": 7,
   "metadata": {},
   "outputs": [
    {
     "name": "stdout",
     "output_type": "stream",
     "text": [
      "\n",
      "body1\n",
      "\n",
      "None\n",
      "\n",
      "\n",
      "None\n",
      "\n",
      "body2\n",
      "\n",
      "\n",
      "p2\n",
      "\n",
      "\n",
      "body3\n",
      "\n"
     ]
    }
   ],
   "source": [
    "for i in s.html.body:\n",
    "    print(i.string)"
   ]
  },
  {
   "cell_type": "code",
   "execution_count": 8,
   "metadata": {},
   "outputs": [
    {
     "ename": "SyntaxError",
     "evalue": "unexpected EOF while parsing (<ipython-input-8-d45b2a165af6>, line 2)",
     "output_type": "error",
     "traceback": [
      "\u001b[1;36m  File \u001b[1;32m\"<ipython-input-8-d45b2a165af6>\"\u001b[1;36m, line \u001b[1;32m2\u001b[0m\n\u001b[1;33m    print(i.get_text()\u001b[0m\n\u001b[1;37m                      ^\u001b[0m\n\u001b[1;31mSyntaxError\u001b[0m\u001b[1;31m:\u001b[0m unexpected EOF while parsing\n"
     ]
    }
   ],
   "source": [
    "for i in soup.html.body:\n",
    "    print(i.get_text()"
   ]
  },
  {
   "cell_type": "code",
   "execution_count": 9,
   "metadata": {},
   "outputs": [
    {
     "name": "stdout",
     "output_type": "stream",
     "text": [
      "\n",
      "body1\n",
      "\n",
      "None\n",
      "\n",
      "\n",
      "None\n",
      "\n",
      "body2\n",
      "\n",
      "\n",
      "p2\n",
      "\n",
      "\n",
      "body3\n",
      "\n"
     ]
    }
   ],
   "source": [
    "for i in s.find('body'):\n",
    "    print(i.string)"
   ]
  },
  {
   "cell_type": "code",
   "execution_count": 10,
   "metadata": {},
   "outputs": [
    {
     "ename": "AttributeError",
     "evalue": "'NavigableString' object has no attribute 'get_text'",
     "output_type": "error",
     "traceback": [
      "\u001b[1;31m---------------------------------------------------------------------------\u001b[0m",
      "\u001b[1;31mAttributeError\u001b[0m                            Traceback (most recent call last)",
      "\u001b[1;32m<ipython-input-10-7248c20a5f04>\u001b[0m in \u001b[0;36m<module>\u001b[1;34m\u001b[0m\n\u001b[0;32m      1\u001b[0m \u001b[1;32mfor\u001b[0m \u001b[0mi\u001b[0m \u001b[1;32min\u001b[0m \u001b[0ms\u001b[0m\u001b[1;33m.\u001b[0m\u001b[0mfind\u001b[0m\u001b[1;33m(\u001b[0m\u001b[1;34m'body'\u001b[0m\u001b[1;33m)\u001b[0m\u001b[1;33m:\u001b[0m\u001b[1;33m\u001b[0m\u001b[1;33m\u001b[0m\u001b[0m\n\u001b[1;32m----> 2\u001b[1;33m     \u001b[0mprint\u001b[0m\u001b[1;33m(\u001b[0m\u001b[0mi\u001b[0m\u001b[1;33m.\u001b[0m\u001b[0mget_text\u001b[0m\u001b[1;33m(\u001b[0m\u001b[1;33m)\u001b[0m\u001b[1;33m)\u001b[0m\u001b[1;33m\u001b[0m\u001b[1;33m\u001b[0m\u001b[0m\n\u001b[0m",
      "\u001b[1;32mC:\\ProgramData\\Anaconda3\\lib\\site-packages\\bs4\\element.py\u001b[0m in \u001b[0;36m__getattr__\u001b[1;34m(self, attr)\u001b[0m\n\u001b[0;32m    869\u001b[0m             raise AttributeError(\n\u001b[0;32m    870\u001b[0m                 \"'%s' object has no attribute '%s'\" % (\n\u001b[1;32m--> 871\u001b[1;33m                     self.__class__.__name__, attr))\n\u001b[0m\u001b[0;32m    872\u001b[0m \u001b[1;33m\u001b[0m\u001b[0m\n\u001b[0;32m    873\u001b[0m     \u001b[1;32mdef\u001b[0m \u001b[0moutput_ready\u001b[0m\u001b[1;33m(\u001b[0m\u001b[0mself\u001b[0m\u001b[1;33m,\u001b[0m \u001b[0mformatter\u001b[0m\u001b[1;33m=\u001b[0m\u001b[1;34m\"minimal\"\u001b[0m\u001b[1;33m)\u001b[0m\u001b[1;33m:\u001b[0m\u001b[1;33m\u001b[0m\u001b[1;33m\u001b[0m\u001b[0m\n",
      "\u001b[1;31mAttributeError\u001b[0m: 'NavigableString' object has no attribute 'get_text'"
     ]
    }
   ],
   "source": [
    "for i in s.find('body'):\n",
    "    print(i.get_text())"
   ]
  },
  {
   "cell_type": "code",
   "execution_count": 11,
   "metadata": {},
   "outputs": [
    {
     "name": "stdout",
     "output_type": "stream",
     "text": [
      "None\n"
     ]
    }
   ],
   "source": [
    "for i in s.find_all('body'):\n",
    "    print(i.string)"
   ]
  },
  {
   "cell_type": "code",
   "execution_count": 12,
   "metadata": {
    "scrolled": true
   },
   "outputs": [
    {
     "name": "stdout",
     "output_type": "stream",
     "text": [
      "\n",
      "body1\n",
      "\n",
      "\n",
      "p1_1\n",
      "\n",
      "ul1_1\n",
      " li1 \n",
      " li2 \n",
      "ul1_2\n",
      "\n",
      "p1_2\n",
      "\n",
      "ul2\n",
      "\n",
      "p1_3\n",
      "\n",
      "body2\n",
      "\n",
      "p2\n",
      "\n",
      "body3\n",
      "\n"
     ]
    }
   ],
   "source": [
    "for i in s.find_all('body'):\n",
    "    print(i.get_text())"
   ]
  },
  {
   "cell_type": "code",
   "execution_count": 13,
   "metadata": {},
   "outputs": [],
   "source": [
    "s.html.body.p.string"
   ]
  },
  {
   "cell_type": "code",
   "execution_count": 14,
   "metadata": {
    "scrolled": false
   },
   "outputs": [
    {
     "data": {
      "text/plain": [
       "'\\np1_1\\n\\nul1_1\\n li1 \\n li2 \\nul1_2\\n\\np1_2\\n\\nul2\\n\\np1_3\\n'"
      ]
     },
     "execution_count": 14,
     "metadata": {},
     "output_type": "execute_result"
    }
   ],
   "source": [
    "s.html.body.p.get_text()"
   ]
  },
  {
   "cell_type": "code",
   "execution_count": 15,
   "metadata": {},
   "outputs": [],
   "source": [
    "s.find('p').string"
   ]
  },
  {
   "cell_type": "code",
   "execution_count": 16,
   "metadata": {},
   "outputs": [
    {
     "data": {
      "text/plain": [
       "'\\np1_1\\n\\nul1_1\\n li1 \\n li2 \\nul1_2\\n\\np1_2\\n\\nul2\\n\\np1_3\\n'"
      ]
     },
     "execution_count": 16,
     "metadata": {},
     "output_type": "execute_result"
    }
   ],
   "source": [
    "s.find('p').get_text()"
   ]
  },
  {
   "cell_type": "code",
   "execution_count": 17,
   "metadata": {},
   "outputs": [
    {
     "name": "stdout",
     "output_type": "stream",
     "text": [
      "\n",
      "p1_1\n",
      "\n",
      "None\n",
      "\n",
      "p1_2\n",
      "\n",
      "\n",
      "ul2\n",
      "\n",
      "\n",
      "p1_3\n",
      "\n"
     ]
    }
   ],
   "source": [
    "for i in s.html.body.p:\n",
    "    print(i.string)"
   ]
  },
  {
   "cell_type": "code",
   "execution_count": 18,
   "metadata": {},
   "outputs": [
    {
     "ename": "SyntaxError",
     "evalue": "unexpected EOF while parsing (<ipython-input-18-3adf2c90d3a0>, line 2)",
     "output_type": "error",
     "traceback": [
      "\u001b[1;36m  File \u001b[1;32m\"<ipython-input-18-3adf2c90d3a0>\"\u001b[1;36m, line \u001b[1;32m2\u001b[0m\n\u001b[1;33m    print(i.get_text()\u001b[0m\n\u001b[1;37m                      ^\u001b[0m\n\u001b[1;31mSyntaxError\u001b[0m\u001b[1;31m:\u001b[0m unexpected EOF while parsing\n"
     ]
    }
   ],
   "source": [
    "for i in soup.html.body.p:\n",
    "    print(i.get_text()"
   ]
  },
  {
   "cell_type": "code",
   "execution_count": 19,
   "metadata": {},
   "outputs": [
    {
     "name": "stdout",
     "output_type": "stream",
     "text": [
      "\n",
      "p1_1\n",
      "\n",
      "None\n",
      "\n",
      "p1_2\n",
      "\n",
      "\n",
      "ul2\n",
      "\n",
      "\n",
      "p1_3\n",
      "\n"
     ]
    }
   ],
   "source": [
    "for i in s.find('p'):\n",
    "    print(i.string)"
   ]
  },
  {
   "cell_type": "code",
   "execution_count": 20,
   "metadata": {},
   "outputs": [
    {
     "ename": "AttributeError",
     "evalue": "'NavigableString' object has no attribute 'get_text'",
     "output_type": "error",
     "traceback": [
      "\u001b[1;31m---------------------------------------------------------------------------\u001b[0m",
      "\u001b[1;31mAttributeError\u001b[0m                            Traceback (most recent call last)",
      "\u001b[1;32m<ipython-input-20-61f7ff7a26ee>\u001b[0m in \u001b[0;36m<module>\u001b[1;34m\u001b[0m\n\u001b[0;32m      1\u001b[0m \u001b[1;32mfor\u001b[0m \u001b[0mi\u001b[0m \u001b[1;32min\u001b[0m \u001b[0ms\u001b[0m\u001b[1;33m.\u001b[0m\u001b[0mfind\u001b[0m\u001b[1;33m(\u001b[0m\u001b[1;34m'p'\u001b[0m\u001b[1;33m)\u001b[0m\u001b[1;33m:\u001b[0m\u001b[1;33m\u001b[0m\u001b[1;33m\u001b[0m\u001b[0m\n\u001b[1;32m----> 2\u001b[1;33m     \u001b[0mprint\u001b[0m\u001b[1;33m(\u001b[0m\u001b[0mi\u001b[0m\u001b[1;33m.\u001b[0m\u001b[0mget_text\u001b[0m\u001b[1;33m(\u001b[0m\u001b[1;33m)\u001b[0m\u001b[1;33m)\u001b[0m\u001b[1;33m\u001b[0m\u001b[1;33m\u001b[0m\u001b[0m\n\u001b[0m",
      "\u001b[1;32mC:\\ProgramData\\Anaconda3\\lib\\site-packages\\bs4\\element.py\u001b[0m in \u001b[0;36m__getattr__\u001b[1;34m(self, attr)\u001b[0m\n\u001b[0;32m    869\u001b[0m             raise AttributeError(\n\u001b[0;32m    870\u001b[0m                 \"'%s' object has no attribute '%s'\" % (\n\u001b[1;32m--> 871\u001b[1;33m                     self.__class__.__name__, attr))\n\u001b[0m\u001b[0;32m    872\u001b[0m \u001b[1;33m\u001b[0m\u001b[0m\n\u001b[0;32m    873\u001b[0m     \u001b[1;32mdef\u001b[0m \u001b[0moutput_ready\u001b[0m\u001b[1;33m(\u001b[0m\u001b[0mself\u001b[0m\u001b[1;33m,\u001b[0m \u001b[0mformatter\u001b[0m\u001b[1;33m=\u001b[0m\u001b[1;34m\"minimal\"\u001b[0m\u001b[1;33m)\u001b[0m\u001b[1;33m:\u001b[0m\u001b[1;33m\u001b[0m\u001b[1;33m\u001b[0m\u001b[0m\n",
      "\u001b[1;31mAttributeError\u001b[0m: 'NavigableString' object has no attribute 'get_text'"
     ]
    }
   ],
   "source": [
    "for i in s.find('p'):\n",
    "    print(i.get_text())"
   ]
  },
  {
   "cell_type": "code",
   "execution_count": 21,
   "metadata": {},
   "outputs": [
    {
     "name": "stdout",
     "output_type": "stream",
     "text": [
      "None\n",
      "\n",
      "p2\n",
      "\n"
     ]
    }
   ],
   "source": [
    "for i in s.find_all('p'):\n",
    "    print(i.string)"
   ]
  },
  {
   "cell_type": "code",
   "execution_count": 22,
   "metadata": {},
   "outputs": [
    {
     "name": "stdout",
     "output_type": "stream",
     "text": [
      "\n",
      "p1_1\n",
      "\n",
      "ul1_1\n",
      " li1 \n",
      " li2 \n",
      "ul1_2\n",
      "\n",
      "p1_2\n",
      "\n",
      "ul2\n",
      "\n",
      "p1_3\n",
      "\n",
      "\n",
      "p2\n",
      "\n"
     ]
    }
   ],
   "source": [
    "for i in s.find_all('p'):\n",
    "    print(i.get_text())"
   ]
  },
  {
   "cell_type": "code",
   "execution_count": 23,
   "metadata": {},
   "outputs": [],
   "source": [
    "s.html.body.p.ul.string"
   ]
  },
  {
   "cell_type": "code",
   "execution_count": 24,
   "metadata": {
    "scrolled": false
   },
   "outputs": [
    {
     "data": {
      "text/plain": [
       "'\\nul1_1\\n li1 \\n li2 \\nul1_2\\n'"
      ]
     },
     "execution_count": 24,
     "metadata": {},
     "output_type": "execute_result"
    }
   ],
   "source": [
    "s.html.body.p.ul.get_text()"
   ]
  },
  {
   "cell_type": "code",
   "execution_count": 25,
   "metadata": {},
   "outputs": [],
   "source": [
    "s.find('ul').string"
   ]
  },
  {
   "cell_type": "code",
   "execution_count": 26,
   "metadata": {},
   "outputs": [
    {
     "data": {
      "text/plain": [
       "'\\nul1_1\\n li1 \\n li2 \\nul1_2\\n'"
      ]
     },
     "execution_count": 26,
     "metadata": {},
     "output_type": "execute_result"
    }
   ],
   "source": [
    "s.find('ul').get_text()"
   ]
  },
  {
   "cell_type": "code",
   "execution_count": 27,
   "metadata": {},
   "outputs": [
    {
     "name": "stdout",
     "output_type": "stream",
     "text": [
      "\n",
      "ul1_1\n",
      "\n",
      " li1 \n",
      "\n",
      "\n",
      " li2 \n",
      "\n",
      "ul1_2\n",
      "\n"
     ]
    }
   ],
   "source": [
    "for i in s.html.body.p.ul:\n",
    "    print(i.string)"
   ]
  },
  {
   "cell_type": "code",
   "execution_count": 28,
   "metadata": {},
   "outputs": [
    {
     "ename": "SyntaxError",
     "evalue": "unexpected EOF while parsing (<ipython-input-28-f248a65fb142>, line 2)",
     "output_type": "error",
     "traceback": [
      "\u001b[1;36m  File \u001b[1;32m\"<ipython-input-28-f248a65fb142>\"\u001b[1;36m, line \u001b[1;32m2\u001b[0m\n\u001b[1;33m    print(i.get_text()\u001b[0m\n\u001b[1;37m                      ^\u001b[0m\n\u001b[1;31mSyntaxError\u001b[0m\u001b[1;31m:\u001b[0m unexpected EOF while parsing\n"
     ]
    }
   ],
   "source": [
    "for i in soup.html.body.p.ul:\n",
    "    print(i.get_text()"
   ]
  },
  {
   "cell_type": "code",
   "execution_count": 29,
   "metadata": {},
   "outputs": [
    {
     "name": "stdout",
     "output_type": "stream",
     "text": [
      "\n",
      "ul1_1\n",
      "\n",
      " li1 \n",
      "\n",
      "\n",
      " li2 \n",
      "\n",
      "ul1_2\n",
      "\n"
     ]
    }
   ],
   "source": [
    "for i in s.find('ul'):\n",
    "    print(i.string)"
   ]
  },
  {
   "cell_type": "code",
   "execution_count": 30,
   "metadata": {},
   "outputs": [
    {
     "ename": "AttributeError",
     "evalue": "'NavigableString' object has no attribute 'get_text'",
     "output_type": "error",
     "traceback": [
      "\u001b[1;31m---------------------------------------------------------------------------\u001b[0m",
      "\u001b[1;31mAttributeError\u001b[0m                            Traceback (most recent call last)",
      "\u001b[1;32m<ipython-input-30-82fba0b980a6>\u001b[0m in \u001b[0;36m<module>\u001b[1;34m\u001b[0m\n\u001b[0;32m      1\u001b[0m \u001b[1;32mfor\u001b[0m \u001b[0mi\u001b[0m \u001b[1;32min\u001b[0m \u001b[0ms\u001b[0m\u001b[1;33m.\u001b[0m\u001b[0mfind\u001b[0m\u001b[1;33m(\u001b[0m\u001b[1;34m'ul'\u001b[0m\u001b[1;33m)\u001b[0m\u001b[1;33m:\u001b[0m\u001b[1;33m\u001b[0m\u001b[1;33m\u001b[0m\u001b[0m\n\u001b[1;32m----> 2\u001b[1;33m     \u001b[0mprint\u001b[0m\u001b[1;33m(\u001b[0m\u001b[0mi\u001b[0m\u001b[1;33m.\u001b[0m\u001b[0mget_text\u001b[0m\u001b[1;33m(\u001b[0m\u001b[1;33m)\u001b[0m\u001b[1;33m)\u001b[0m\u001b[1;33m\u001b[0m\u001b[1;33m\u001b[0m\u001b[0m\n\u001b[0m",
      "\u001b[1;32mC:\\ProgramData\\Anaconda3\\lib\\site-packages\\bs4\\element.py\u001b[0m in \u001b[0;36m__getattr__\u001b[1;34m(self, attr)\u001b[0m\n\u001b[0;32m    869\u001b[0m             raise AttributeError(\n\u001b[0;32m    870\u001b[0m                 \"'%s' object has no attribute '%s'\" % (\n\u001b[1;32m--> 871\u001b[1;33m                     self.__class__.__name__, attr))\n\u001b[0m\u001b[0;32m    872\u001b[0m \u001b[1;33m\u001b[0m\u001b[0m\n\u001b[0;32m    873\u001b[0m     \u001b[1;32mdef\u001b[0m \u001b[0moutput_ready\u001b[0m\u001b[1;33m(\u001b[0m\u001b[0mself\u001b[0m\u001b[1;33m,\u001b[0m \u001b[0mformatter\u001b[0m\u001b[1;33m=\u001b[0m\u001b[1;34m\"minimal\"\u001b[0m\u001b[1;33m)\u001b[0m\u001b[1;33m:\u001b[0m\u001b[1;33m\u001b[0m\u001b[1;33m\u001b[0m\u001b[0m\n",
      "\u001b[1;31mAttributeError\u001b[0m: 'NavigableString' object has no attribute 'get_text'"
     ]
    }
   ],
   "source": [
    "for i in s.find('ul'):\n",
    "    print(i.get_text())"
   ]
  },
  {
   "cell_type": "code",
   "execution_count": 31,
   "metadata": {},
   "outputs": [
    {
     "name": "stdout",
     "output_type": "stream",
     "text": [
      "None\n",
      "\n",
      "ul2\n",
      "\n"
     ]
    }
   ],
   "source": [
    "for i in s.find_all('ul'):\n",
    "    print(i.string)"
   ]
  },
  {
   "cell_type": "code",
   "execution_count": 32,
   "metadata": {},
   "outputs": [
    {
     "name": "stdout",
     "output_type": "stream",
     "text": [
      "\n",
      "ul1_1\n",
      " li1 \n",
      " li2 \n",
      "ul1_2\n",
      "\n",
      "\n",
      "ul2\n",
      "\n"
     ]
    }
   ],
   "source": [
    "for i in s.find_all('ul'):\n",
    "    print(i.get_text())"
   ]
  },
  {
   "cell_type": "code",
   "execution_count": 33,
   "metadata": {},
   "outputs": [
    {
     "data": {
      "text/plain": [
       "' li1 '"
      ]
     },
     "execution_count": 33,
     "metadata": {},
     "output_type": "execute_result"
    }
   ],
   "source": [
    "s.html.body.p.ul.li.string"
   ]
  },
  {
   "cell_type": "code",
   "execution_count": 34,
   "metadata": {
    "scrolled": false
   },
   "outputs": [
    {
     "data": {
      "text/plain": [
       "' li1 '"
      ]
     },
     "execution_count": 34,
     "metadata": {},
     "output_type": "execute_result"
    }
   ],
   "source": [
    "s.html.body.p.ul.li.get_text()"
   ]
  },
  {
   "cell_type": "code",
   "execution_count": 35,
   "metadata": {},
   "outputs": [
    {
     "data": {
      "text/plain": [
       "' li1 '"
      ]
     },
     "execution_count": 35,
     "metadata": {},
     "output_type": "execute_result"
    }
   ],
   "source": [
    "s.find('li').string"
   ]
  },
  {
   "cell_type": "code",
   "execution_count": 36,
   "metadata": {},
   "outputs": [
    {
     "data": {
      "text/plain": [
       "' li1 '"
      ]
     },
     "execution_count": 36,
     "metadata": {},
     "output_type": "execute_result"
    }
   ],
   "source": [
    "s.find('li').get_text()"
   ]
  },
  {
   "cell_type": "code",
   "execution_count": 37,
   "metadata": {},
   "outputs": [
    {
     "name": "stdout",
     "output_type": "stream",
     "text": [
      " li1 \n"
     ]
    }
   ],
   "source": [
    "for i in s.html.body.p.ul.li:\n",
    "    print(i.string)"
   ]
  },
  {
   "cell_type": "code",
   "execution_count": 38,
   "metadata": {},
   "outputs": [
    {
     "ename": "SyntaxError",
     "evalue": "unexpected EOF while parsing (<ipython-input-38-72e9b3e8be0d>, line 2)",
     "output_type": "error",
     "traceback": [
      "\u001b[1;36m  File \u001b[1;32m\"<ipython-input-38-72e9b3e8be0d>\"\u001b[1;36m, line \u001b[1;32m2\u001b[0m\n\u001b[1;33m    print(i.get_text()\u001b[0m\n\u001b[1;37m                      ^\u001b[0m\n\u001b[1;31mSyntaxError\u001b[0m\u001b[1;31m:\u001b[0m unexpected EOF while parsing\n"
     ]
    }
   ],
   "source": [
    "for i in soup.html.body.p.ul.li:\n",
    "    print(i.get_text()"
   ]
  },
  {
   "cell_type": "code",
   "execution_count": 39,
   "metadata": {},
   "outputs": [
    {
     "name": "stdout",
     "output_type": "stream",
     "text": [
      " li1 \n"
     ]
    }
   ],
   "source": [
    "for i in s.find('li'):\n",
    "    print(i.string)"
   ]
  },
  {
   "cell_type": "code",
   "execution_count": 40,
   "metadata": {},
   "outputs": [
    {
     "ename": "AttributeError",
     "evalue": "'NavigableString' object has no attribute 'get_text'",
     "output_type": "error",
     "traceback": [
      "\u001b[1;31m---------------------------------------------------------------------------\u001b[0m",
      "\u001b[1;31mAttributeError\u001b[0m                            Traceback (most recent call last)",
      "\u001b[1;32m<ipython-input-40-5c9387f1bdbb>\u001b[0m in \u001b[0;36m<module>\u001b[1;34m\u001b[0m\n\u001b[0;32m      1\u001b[0m \u001b[1;32mfor\u001b[0m \u001b[0mi\u001b[0m \u001b[1;32min\u001b[0m \u001b[0ms\u001b[0m\u001b[1;33m.\u001b[0m\u001b[0mfind\u001b[0m\u001b[1;33m(\u001b[0m\u001b[1;34m'li'\u001b[0m\u001b[1;33m)\u001b[0m\u001b[1;33m:\u001b[0m\u001b[1;33m\u001b[0m\u001b[1;33m\u001b[0m\u001b[0m\n\u001b[1;32m----> 2\u001b[1;33m     \u001b[0mprint\u001b[0m\u001b[1;33m(\u001b[0m\u001b[0mi\u001b[0m\u001b[1;33m.\u001b[0m\u001b[0mget_text\u001b[0m\u001b[1;33m(\u001b[0m\u001b[1;33m)\u001b[0m\u001b[1;33m)\u001b[0m\u001b[1;33m\u001b[0m\u001b[1;33m\u001b[0m\u001b[0m\n\u001b[0m",
      "\u001b[1;32mC:\\ProgramData\\Anaconda3\\lib\\site-packages\\bs4\\element.py\u001b[0m in \u001b[0;36m__getattr__\u001b[1;34m(self, attr)\u001b[0m\n\u001b[0;32m    869\u001b[0m             raise AttributeError(\n\u001b[0;32m    870\u001b[0m                 \"'%s' object has no attribute '%s'\" % (\n\u001b[1;32m--> 871\u001b[1;33m                     self.__class__.__name__, attr))\n\u001b[0m\u001b[0;32m    872\u001b[0m \u001b[1;33m\u001b[0m\u001b[0m\n\u001b[0;32m    873\u001b[0m     \u001b[1;32mdef\u001b[0m \u001b[0moutput_ready\u001b[0m\u001b[1;33m(\u001b[0m\u001b[0mself\u001b[0m\u001b[1;33m,\u001b[0m \u001b[0mformatter\u001b[0m\u001b[1;33m=\u001b[0m\u001b[1;34m\"minimal\"\u001b[0m\u001b[1;33m)\u001b[0m\u001b[1;33m:\u001b[0m\u001b[1;33m\u001b[0m\u001b[1;33m\u001b[0m\u001b[0m\n",
      "\u001b[1;31mAttributeError\u001b[0m: 'NavigableString' object has no attribute 'get_text'"
     ]
    }
   ],
   "source": [
    "for i in s.find('li'):\n",
    "    print(i.get_text())"
   ]
  },
  {
   "cell_type": "code",
   "execution_count": 41,
   "metadata": {},
   "outputs": [
    {
     "name": "stdout",
     "output_type": "stream",
     "text": [
      " li1 \n",
      " li2 \n"
     ]
    }
   ],
   "source": [
    "for i in s.find_all('li'):\n",
    "    print(i.string)"
   ]
  },
  {
   "cell_type": "code",
   "execution_count": 42,
   "metadata": {
    "scrolled": true
   },
   "outputs": [
    {
     "name": "stdout",
     "output_type": "stream",
     "text": [
      " li1 \n",
      " li2 \n"
     ]
    }
   ],
   "source": [
    "for i in s.find_all('li'):\n",
    "    print(i.get_text())"
   ]
  }
 ],
 "metadata": {
  "kernelspec": {
   "display_name": "Python 3",
   "language": "python",
   "name": "python3"
  },
  "language_info": {
   "codemirror_mode": {
    "name": "ipython",
    "version": 3
   },
   "file_extension": ".py",
   "mimetype": "text/x-python",
   "name": "python",
   "nbconvert_exporter": "python",
   "pygments_lexer": "ipython3",
   "version": "3.7.6"
  }
 },
 "nbformat": 4,
 "nbformat_minor": 4
}
